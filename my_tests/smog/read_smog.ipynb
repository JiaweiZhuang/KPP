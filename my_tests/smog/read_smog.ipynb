{
 "cells": [
  {
   "cell_type": "code",
   "execution_count": 1,
   "metadata": {
    "collapsed": true
   },
   "outputs": [],
   "source": [
    "%matplotlib inline\n",
    "import warnings; warnings.filterwarnings(action='ignore')\n",
    "\n",
    "import pandas as pd\n",
    "import numpy as np\n",
    "import matplotlib.pyplot as plt"
   ]
  },
  {
   "cell_type": "code",
   "execution_count": 2,
   "metadata": {
    "collapsed": true
   },
   "outputs": [],
   "source": [
    "with open (\"smog_code/smog_Parameters.f90\", \"r\") as f:\n",
    "    code_str = f.readlines()"
   ]
  },
  {
   "cell_type": "code",
   "execution_count": 3,
   "metadata": {},
   "outputs": [
    {
     "name": "stdout",
     "output_type": "stream",
     "text": [
      "16 ['HNO3', 'O', 'RH', 'RCOO2NO2', 'O3', 'HO2', 'RCOO2', 'RCHO', 'RO2', 'NO', 'NO2', 'OH', 'H2O', 'O2', 'CO', 'CO2']\n"
     ]
    }
   ],
   "source": [
    "varnames = []\n",
    "\n",
    "pattern = 'INTEGER, PARAMETER :: ind_'\n",
    "for line in code_str:\n",
    "    if pattern in line:\n",
    "        varnames.append( line.replace(pattern,'').split()[0] )\n",
    "\n",
    "print(len(varnames), varnames)"
   ]
  },
  {
   "cell_type": "code",
   "execution_count": 4,
   "metadata": {},
   "outputs": [],
   "source": [
    "df = pd.read_csv('smog_code/smog.dat',\n",
    "                 delim_whitespace=True, header=None, index_col=0)\n",
    "df.columns = varnames\n",
    "df.index.name = 'time'\n",
    "\n",
    "df = df.apply(pd.to_numeric, errors='raise')"
   ]
  },
  {
   "cell_type": "code",
   "execution_count": 5,
   "metadata": {},
   "outputs": [
    {
     "data": {
      "text/html": [
       "<div>\n",
       "<style scoped>\n",
       "    .dataframe tbody tr th:only-of-type {\n",
       "        vertical-align: middle;\n",
       "    }\n",
       "\n",
       "    .dataframe tbody tr th {\n",
       "        vertical-align: top;\n",
       "    }\n",
       "\n",
       "    .dataframe thead th {\n",
       "        text-align: right;\n",
       "    }\n",
       "</style>\n",
       "<table border=\"1\" class=\"dataframe\">\n",
       "  <thead>\n",
       "    <tr style=\"text-align: right;\">\n",
       "      <th></th>\n",
       "      <th>HNO3</th>\n",
       "      <th>O</th>\n",
       "      <th>RH</th>\n",
       "      <th>RCOO2NO2</th>\n",
       "      <th>O3</th>\n",
       "      <th>HO2</th>\n",
       "      <th>RCOO2</th>\n",
       "      <th>RCHO</th>\n",
       "      <th>RO2</th>\n",
       "      <th>NO</th>\n",
       "      <th>NO2</th>\n",
       "      <th>OH</th>\n",
       "      <th>H2O</th>\n",
       "      <th>O2</th>\n",
       "      <th>CO</th>\n",
       "      <th>CO2</th>\n",
       "    </tr>\n",
       "    <tr>\n",
       "      <th>time</th>\n",
       "      <th></th>\n",
       "      <th></th>\n",
       "      <th></th>\n",
       "      <th></th>\n",
       "      <th></th>\n",
       "      <th></th>\n",
       "      <th></th>\n",
       "      <th></th>\n",
       "      <th></th>\n",
       "      <th></th>\n",
       "      <th></th>\n",
       "      <th></th>\n",
       "      <th></th>\n",
       "      <th></th>\n",
       "      <th></th>\n",
       "      <th></th>\n",
       "    </tr>\n",
       "  </thead>\n",
       "  <tbody>\n",
       "    <tr>\n",
       "      <th>0.000000</th>\n",
       "      <td>1.000000e-08</td>\n",
       "      <td>1.000000e-08</td>\n",
       "      <td>2.000000</td>\n",
       "      <td>1.000000e-08</td>\n",
       "      <td>1.000000e-08</td>\n",
       "      <td>1.000000e-08</td>\n",
       "      <td>1.000000e-08</td>\n",
       "      <td>2.000000</td>\n",
       "      <td>1.000000e-08</td>\n",
       "      <td>0.500000</td>\n",
       "      <td>0.100000</td>\n",
       "      <td>1.000000e-08</td>\n",
       "      <td>13000.0</td>\n",
       "      <td>200000.0</td>\n",
       "      <td>1.000000e-08</td>\n",
       "      <td>1.000000e-08</td>\n",
       "    </tr>\n",
       "    <tr>\n",
       "      <th>0.016667</th>\n",
       "      <td>1.196871e-02</td>\n",
       "      <td>4.732297e-02</td>\n",
       "      <td>1.977752</td>\n",
       "      <td>3.378443e-02</td>\n",
       "      <td>4.626326e-02</td>\n",
       "      <td>9.376380e-07</td>\n",
       "      <td>4.809425e-07</td>\n",
       "      <td>1.988463</td>\n",
       "      <td>8.080372e-07</td>\n",
       "      <td>0.166118</td>\n",
       "      <td>0.388129</td>\n",
       "      <td>3.142789e-08</td>\n",
       "      <td>13000.0</td>\n",
       "      <td>200000.0</td>\n",
       "      <td>1.000000e-08</td>\n",
       "      <td>1.000000e-08</td>\n",
       "    </tr>\n",
       "    <tr>\n",
       "      <th>0.033333</th>\n",
       "      <td>2.281362e-02</td>\n",
       "      <td>5.451626e-02</td>\n",
       "      <td>1.966015</td>\n",
       "      <td>6.826272e-02</td>\n",
       "      <td>1.423590e-01</td>\n",
       "      <td>1.834471e-06</td>\n",
       "      <td>6.655699e-07</td>\n",
       "      <td>1.965720</td>\n",
       "      <td>1.441752e-06</td>\n",
       "      <td>0.062340</td>\n",
       "      <td>0.446584</td>\n",
       "      <td>2.289512e-08</td>\n",
       "      <td>13000.0</td>\n",
       "      <td>200000.0</td>\n",
       "      <td>1.000000e-08</td>\n",
       "      <td>1.000000e-08</td>\n",
       "    </tr>\n",
       "    <tr>\n",
       "      <th>0.050000</th>\n",
       "      <td>3.202841e-02</td>\n",
       "      <td>5.279558e-02</td>\n",
       "      <td>1.956457</td>\n",
       "      <td>1.038050e-01</td>\n",
       "      <td>2.702240e-01</td>\n",
       "      <td>3.193612e-06</td>\n",
       "      <td>9.467450e-07</td>\n",
       "      <td>1.939735</td>\n",
       "      <td>2.406002e-06</td>\n",
       "      <td>0.031787</td>\n",
       "      <td>0.432380</td>\n",
       "      <td>2.061908e-08</td>\n",
       "      <td>13000.0</td>\n",
       "      <td>200000.0</td>\n",
       "      <td>1.000000e-08</td>\n",
       "      <td>1.000000e-08</td>\n",
       "    </tr>\n",
       "    <tr>\n",
       "      <th>0.066667</th>\n",
       "      <td>4.018576e-02</td>\n",
       "      <td>4.889150e-02</td>\n",
       "      <td>1.947524</td>\n",
       "      <td>1.397943e-01</td>\n",
       "      <td>4.021306e-01</td>\n",
       "      <td>4.864673e-06</td>\n",
       "      <td>1.303912e-06</td>\n",
       "      <td>1.912677</td>\n",
       "      <td>3.600820e-06</td>\n",
       "      <td>0.019676</td>\n",
       "      <td>0.400344</td>\n",
       "      <td>1.992698e-08</td>\n",
       "      <td>13000.0</td>\n",
       "      <td>200000.0</td>\n",
       "      <td>1.000000e-08</td>\n",
       "      <td>1.000000e-08</td>\n",
       "    </tr>\n",
       "  </tbody>\n",
       "</table>\n",
       "</div>"
      ],
      "text/plain": [
       "                  HNO3             O        RH      RCOO2NO2            O3  \\\n",
       "time                                                                         \n",
       "0.000000  1.000000e-08  1.000000e-08  2.000000  1.000000e-08  1.000000e-08   \n",
       "0.016667  1.196871e-02  4.732297e-02  1.977752  3.378443e-02  4.626326e-02   \n",
       "0.033333  2.281362e-02  5.451626e-02  1.966015  6.826272e-02  1.423590e-01   \n",
       "0.050000  3.202841e-02  5.279558e-02  1.956457  1.038050e-01  2.702240e-01   \n",
       "0.066667  4.018576e-02  4.889150e-02  1.947524  1.397943e-01  4.021306e-01   \n",
       "\n",
       "                   HO2         RCOO2      RCHO           RO2        NO  \\\n",
       "time                                                                     \n",
       "0.000000  1.000000e-08  1.000000e-08  2.000000  1.000000e-08  0.500000   \n",
       "0.016667  9.376380e-07  4.809425e-07  1.988463  8.080372e-07  0.166118   \n",
       "0.033333  1.834471e-06  6.655699e-07  1.965720  1.441752e-06  0.062340   \n",
       "0.050000  3.193612e-06  9.467450e-07  1.939735  2.406002e-06  0.031787   \n",
       "0.066667  4.864673e-06  1.303912e-06  1.912677  3.600820e-06  0.019676   \n",
       "\n",
       "               NO2            OH      H2O        O2            CO  \\\n",
       "time                                                                \n",
       "0.000000  0.100000  1.000000e-08  13000.0  200000.0  1.000000e-08   \n",
       "0.016667  0.388129  3.142789e-08  13000.0  200000.0  1.000000e-08   \n",
       "0.033333  0.446584  2.289512e-08  13000.0  200000.0  1.000000e-08   \n",
       "0.050000  0.432380  2.061908e-08  13000.0  200000.0  1.000000e-08   \n",
       "0.066667  0.400344  1.992698e-08  13000.0  200000.0  1.000000e-08   \n",
       "\n",
       "                   CO2  \n",
       "time                    \n",
       "0.000000  1.000000e-08  \n",
       "0.016667  1.000000e-08  \n",
       "0.033333  1.000000e-08  \n",
       "0.050000  1.000000e-08  \n",
       "0.066667  1.000000e-08  "
      ]
     },
     "execution_count": 5,
     "metadata": {},
     "output_type": "execute_result"
    }
   ],
   "source": [
    "df.head()"
   ]
  },
  {
   "cell_type": "code",
   "execution_count": 6,
   "metadata": {},
   "outputs": [
    {
     "data": {
      "image/png": "[encoded data removed]",
      "text/plain": [
       "<matplotlib.figure.Figure at 0x10e8d9b38>"
      ]
     },
     "metadata": {},
     "output_type": "display_data"
    }
   ],
   "source": [
    "N_sub = 4\n",
    "N_figures = 4\n",
    "\n",
    "fig, axes = plt.subplots(N_figures//2, 2, figsize=[10, 6])\n",
    "\n",
    "for i in range(N_figures):\n",
    "    sub_name = varnames[i*N_sub:(i+1)*N_sub]\n",
    "    df.plot(y=sub_name, logy=True, grid=True, ax=axes.ravel()[i])"
   ]
  },
  {
   "cell_type": "markdown",
   "metadata": {},
   "source": [
    "# Compare with f2py results"
   ]
  },
  {
   "cell_type": "code",
   "execution_count": 7,
   "metadata": {
    "collapsed": true
   },
   "outputs": [],
   "source": [
    "from importlib import reload"
   ]
  },
  {
   "cell_type": "code",
   "execution_count": 8,
   "metadata": {
    "collapsed": true
   },
   "outputs": [],
   "source": [
    "import smog_code.kpp4py as kpp4py"
   ]
  },
  {
   "cell_type": "code",
   "execution_count": 9,
   "metadata": {},
   "outputs": [
    {
     "data": {
      "text/plain": [
       "<module 'smog_code.kpp4py' from '/Users/zhuangjw/Research/Computing/KPP/kpp-2.2.3/my_tests/smog/smog_code/kpp4py.cpython-36m-darwin.so'>"
      ]
     },
     "execution_count": 9,
     "metadata": {},
     "output_type": "execute_result"
    }
   ],
   "source": [
    "reload(kpp4py)"
   ]
  },
  {
   "cell_type": "code",
   "execution_count": 10,
   "metadata": {},
   "outputs": [
    {
     "data": {
      "text/plain": [
       "array([  9.99999994e-09,   9.99999994e-09,   2.00000000e+00,\n",
       "         9.99999994e-09,   9.99999994e-09,   9.99999994e-09,\n",
       "         9.99999994e-09,   2.00000000e+00,   9.99999994e-09,\n",
       "         5.00000000e-01,   1.00000001e-01,   9.99999994e-09])"
      ]
     },
     "execution_count": 10,
     "metadata": {},
     "output_type": "execute_result"
    }
   ],
   "source": [
    "y0 = df.values[0,:12]\n",
    "y0"
   ]
  },
  {
   "cell_type": "code",
   "execution_count": 11,
   "metadata": {},
   "outputs": [
    {
     "data": {
      "text/plain": [
       "array([  7.30405398e-02,   2.02432711e-02,   1.89535750e+00,\n",
       "         3.58497830e-01,   1.16335927e+00,   3.07362535e-05,\n",
       "         7.25971867e-06,   1.74611492e+00,   2.25209298e-05,\n",
       "         2.79077039e-03,   1.65670881e-01,   2.05579293e-08])"
      ]
     },
     "execution_count": 11,
     "metadata": {},
     "output_type": "execute_result"
    }
   ],
   "source": [
    "kpp4py.kpp(y0)"
   ]
  },
  {
   "cell_type": "code",
   "execution_count": 12,
   "metadata": {},
   "outputs": [
    {
     "data": {
      "text/plain": [
       "array([  7.30405398e-02,   2.02432711e-02,   1.89535750e+00,\n",
       "         3.58497830e-01,   1.16335927e+00,   3.07362535e-05,\n",
       "         7.25971867e-06,   1.74611492e+00,   2.25209298e-05,\n",
       "         2.79077039e-03,   1.65670881e-01,   2.05579293e-08])"
      ]
     },
     "execution_count": 12,
     "metadata": {},
     "output_type": "execute_result"
    }
   ],
   "source": [
    "df.values[-1,:12]"
   ]
  }
 ],
 "metadata": {
  "kernelspec": {
   "display_name": "Python 3",
   "language": "python",
   "name": "python3"
  },
  "language_info": {
   "codemirror_mode": {
    "name": "ipython",
    "version": 3
   },
   "file_extension": ".py",
   "mimetype": "text/x-python",
   "name": "python",
   "nbconvert_exporter": "python",
   "pygments_lexer": "ipython3",
   "version": "3.6.2"
  },
  "toc": {
   "nav_menu": {},
   "number_sections": true,
   "sideBar": true,
   "skip_h1_title": false,
   "toc_cell": false,
   "toc_position": {},
   "toc_section_display": "block",
   "toc_window_display": false
  }
 },
 "nbformat": 4,
 "nbformat_minor": 2
}
