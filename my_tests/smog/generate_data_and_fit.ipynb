{
 "cells": [
  {
   "cell_type": "code",
   "execution_count": 1,
   "metadata": {
    "collapsed": true
   },
   "outputs": [],
   "source": [
    "%matplotlib inline\n",
    "import warnings; warnings.filterwarnings(action='ignore')\n",
    "\n",
    "import pandas as pd\n",
    "import numpy as np\n",
    "import matplotlib.pyplot as plt\n",
    "\n",
    "from sklearn.preprocessing import StandardScaler\n",
    "from sklearn.metrics import r2_score\n",
    "\n",
    "import torch\n",
    "from torch.autograd import Variable"
   ]
  },
  {
   "cell_type": "code",
   "execution_count": 2,
   "metadata": {},
   "outputs": [
    {
     "name": "stdout",
     "output_type": "stream",
     "text": [
      "12 ['HNO3', 'O', 'RH', 'RCOO2NO2', 'O3', 'HO2', 'RCOO2', 'RCHO', 'RO2', 'NO', 'NO2', 'OH']\n"
     ]
    }
   ],
   "source": [
    "from read_results import read_varnames\n",
    "varnames = read_varnames(\"smog_code/smog_Parameters.f90\")[0:12]\n",
    "print(len(varnames), varnames)"
   ]
  },
  {
   "cell_type": "markdown",
   "metadata": {},
   "source": [
    "# KPP default initial value"
   ]
  },
  {
   "cell_type": "code",
   "execution_count": 3,
   "metadata": {},
   "outputs": [
    {
     "data": {
      "text/plain": [
       "HNO3        1.000000e-08\n",
       "O           1.000000e-08\n",
       "RH          2.000000e+00\n",
       "RCOO2NO2    1.000000e-08\n",
       "O3          1.000000e-08\n",
       "HO2         1.000000e-08\n",
       "RCOO2       1.000000e-08\n",
       "RCHO        2.000000e+00\n",
       "RO2         1.000000e-08\n",
       "NO          5.000000e-01\n",
       "NO2         1.000000e-01\n",
       "OH          1.000000e-08\n",
       "dtype: float64"
      ]
     },
     "execution_count": 3,
     "metadata": {},
     "output_type": "execute_result"
    }
   ],
   "source": [
    "df_init = pd.Series(data=1e-8, index=varnames)\n",
    "df_init['RH'] = 2.0\n",
    "df_init['RCHO'] = 2.0\n",
    "df_init['NO'] = 0.5\n",
    "df_init['NO2'] = 0.1\n",
    "df_init"
   ]
  },
  {
   "cell_type": "markdown",
   "metadata": {},
   "source": [
    "# Integrate forward"
   ]
  },
  {
   "cell_type": "code",
   "execution_count": 4,
   "metadata": {
    "collapsed": true
   },
   "outputs": [],
   "source": [
    "import smog_code.kpp4py as kpp"
   ]
  },
  {
   "cell_type": "code",
   "execution_count": 5,
   "metadata": {},
   "outputs": [
    {
     "data": {
      "text/plain": [
       "(12, 30)"
      ]
     },
     "execution_count": 5,
     "metadata": {},
     "output_type": "execute_result"
    }
   ],
   "source": [
    "y_history = kpp.forward(df_init.values, 30)\n",
    "y_history.shape"
   ]
  },
  {
   "cell_type": "code",
   "execution_count": 6,
   "metadata": {},
   "outputs": [
    {
     "data": {
      "text/html": [
       "<div>\n",
       "<style scoped>\n",
       "    .dataframe tbody tr th:only-of-type {\n",
       "        vertical-align: middle;\n",
       "    }\n",
       "\n",
       "    .dataframe tbody tr th {\n",
       "        vertical-align: top;\n",
       "    }\n",
       "\n",
       "    .dataframe thead th {\n",
       "        text-align: right;\n",
       "    }\n",
       "</style>\n",
       "<table border=\"1\" class=\"dataframe\">\n",
       "  <thead>\n",
       "    <tr style=\"text-align: right;\">\n",
       "      <th></th>\n",
       "      <th>HNO3</th>\n",
       "      <th>O</th>\n",
       "      <th>RH</th>\n",
       "      <th>RCOO2NO2</th>\n",
       "      <th>O3</th>\n",
       "      <th>HO2</th>\n",
       "      <th>RCOO2</th>\n",
       "      <th>RCHO</th>\n",
       "      <th>RO2</th>\n",
       "      <th>NO</th>\n",
       "      <th>NO2</th>\n",
       "      <th>OH</th>\n",
       "    </tr>\n",
       "    <tr>\n",
       "      <th>time</th>\n",
       "      <th></th>\n",
       "      <th></th>\n",
       "      <th></th>\n",
       "      <th></th>\n",
       "      <th></th>\n",
       "      <th></th>\n",
       "      <th></th>\n",
       "      <th></th>\n",
       "      <th></th>\n",
       "      <th></th>\n",
       "      <th></th>\n",
       "      <th></th>\n",
       "    </tr>\n",
       "  </thead>\n",
       "  <tbody>\n",
       "    <tr>\n",
       "      <th>0</th>\n",
       "      <td>0.011969</td>\n",
       "      <td>0.047323</td>\n",
       "      <td>1.977752</td>\n",
       "      <td>0.033784</td>\n",
       "      <td>0.046263</td>\n",
       "      <td>9.376380e-07</td>\n",
       "      <td>4.809425e-07</td>\n",
       "      <td>1.988463</td>\n",
       "      <td>8.080372e-07</td>\n",
       "      <td>0.166118</td>\n",
       "      <td>0.388129</td>\n",
       "      <td>3.142789e-08</td>\n",
       "    </tr>\n",
       "    <tr>\n",
       "      <th>1</th>\n",
       "      <td>0.022814</td>\n",
       "      <td>0.054516</td>\n",
       "      <td>1.966015</td>\n",
       "      <td>0.068263</td>\n",
       "      <td>0.142359</td>\n",
       "      <td>1.834471e-06</td>\n",
       "      <td>6.655699e-07</td>\n",
       "      <td>1.965720</td>\n",
       "      <td>1.441752e-06</td>\n",
       "      <td>0.062340</td>\n",
       "      <td>0.446584</td>\n",
       "      <td>2.289512e-08</td>\n",
       "    </tr>\n",
       "    <tr>\n",
       "      <th>2</th>\n",
       "      <td>0.032028</td>\n",
       "      <td>0.052796</td>\n",
       "      <td>1.956457</td>\n",
       "      <td>0.103805</td>\n",
       "      <td>0.270224</td>\n",
       "      <td>3.193612e-06</td>\n",
       "      <td>9.467450e-07</td>\n",
       "      <td>1.939735</td>\n",
       "      <td>2.406003e-06</td>\n",
       "      <td>0.031787</td>\n",
       "      <td>0.432380</td>\n",
       "      <td>2.061908e-08</td>\n",
       "    </tr>\n",
       "    <tr>\n",
       "      <th>3</th>\n",
       "      <td>0.040186</td>\n",
       "      <td>0.048891</td>\n",
       "      <td>1.947524</td>\n",
       "      <td>0.139794</td>\n",
       "      <td>0.402131</td>\n",
       "      <td>4.864673e-06</td>\n",
       "      <td>1.303912e-06</td>\n",
       "      <td>1.912677</td>\n",
       "      <td>3.600820e-06</td>\n",
       "      <td>0.019676</td>\n",
       "      <td>0.400344</td>\n",
       "      <td>1.992698e-08</td>\n",
       "    </tr>\n",
       "    <tr>\n",
       "      <th>4</th>\n",
       "      <td>0.047505</td>\n",
       "      <td>0.044335</td>\n",
       "      <td>1.938809</td>\n",
       "      <td>0.175995</td>\n",
       "      <td>0.533059</td>\n",
       "      <td>6.894217e-06</td>\n",
       "      <td>1.748860e-06</td>\n",
       "      <td>1.885189</td>\n",
       "      <td>5.061861e-06</td>\n",
       "      <td>0.013483</td>\n",
       "      <td>0.363017</td>\n",
       "      <td>1.973133e-08</td>\n",
       "    </tr>\n",
       "  </tbody>\n",
       "</table>\n",
       "</div>"
      ],
      "text/plain": [
       "          HNO3         O        RH  RCOO2NO2        O3           HO2  \\\n",
       "time                                                                   \n",
       "0     0.011969  0.047323  1.977752  0.033784  0.046263  9.376380e-07   \n",
       "1     0.022814  0.054516  1.966015  0.068263  0.142359  1.834471e-06   \n",
       "2     0.032028  0.052796  1.956457  0.103805  0.270224  3.193612e-06   \n",
       "3     0.040186  0.048891  1.947524  0.139794  0.402131  4.864673e-06   \n",
       "4     0.047505  0.044335  1.938809  0.175995  0.533059  6.894217e-06   \n",
       "\n",
       "             RCOO2      RCHO           RO2        NO       NO2            OH  \n",
       "time                                                                          \n",
       "0     4.809425e-07  1.988463  8.080372e-07  0.166118  0.388129  3.142789e-08  \n",
       "1     6.655699e-07  1.965720  1.441752e-06  0.062340  0.446584  2.289512e-08  \n",
       "2     9.467450e-07  1.939735  2.406003e-06  0.031787  0.432380  2.061908e-08  \n",
       "3     1.303912e-06  1.912677  3.600820e-06  0.019676  0.400344  1.992698e-08  \n",
       "4     1.748860e-06  1.885189  5.061861e-06  0.013483  0.363017  1.973133e-08  "
      ]
     },
     "execution_count": 6,
     "metadata": {},
     "output_type": "execute_result"
    }
   ],
   "source": [
    "df_history = pd.DataFrame(y_history.T, columns=varnames)\n",
    "df_history.index.name = 'time'\n",
    "df_history.head()"
   ]
  },
  {
   "cell_type": "code",
   "execution_count": 7,
   "metadata": {},
   "outputs": [
    {
     "data": {
      "text/plain": [
       "<matplotlib.axes._subplots.AxesSubplot at 0x11c5d6588>"
      ]
     },
     "execution_count": 7,
     "metadata": {},
     "output_type": "execute_result"
    },
    {
     "data": {
      "image/png": "[encoded data removed]",
      "text/plain": [
       "<matplotlib.figure.Figure at 0x11c5c6f28>"
      ]
     },
     "metadata": {},
     "output_type": "display_data"
    }
   ],
   "source": [
    "df_history.plot(y=None, logy=True, marker='.')"
   ]
  },
  {
   "cell_type": "markdown",
   "metadata": {},
   "source": [
    "# Get data range"
   ]
  },
  {
   "cell_type": "code",
   "execution_count": 8,
   "metadata": {},
   "outputs": [
    {
     "data": {
      "text/html": [
       "<div>\n",
       "<style scoped>\n",
       "    .dataframe tbody tr th:only-of-type {\n",
       "        vertical-align: middle;\n",
       "    }\n",
       "\n",
       "    .dataframe tbody tr th {\n",
       "        vertical-align: top;\n",
       "    }\n",
       "\n",
       "    .dataframe thead th {\n",
       "        text-align: right;\n",
       "    }\n",
       "</style>\n",
       "<table border=\"1\" class=\"dataframe\">\n",
       "  <thead>\n",
       "    <tr style=\"text-align: right;\">\n",
       "      <th></th>\n",
       "      <th>min</th>\n",
       "      <th>max</th>\n",
       "    </tr>\n",
       "  </thead>\n",
       "  <tbody>\n",
       "    <tr>\n",
       "      <th>HNO3</th>\n",
       "      <td>1.196871e-02</td>\n",
       "      <td>8.030713e-02</td>\n",
       "    </tr>\n",
       "    <tr>\n",
       "      <th>O</th>\n",
       "      <td>8.425274e-06</td>\n",
       "      <td>5.451626e-02</td>\n",
       "    </tr>\n",
       "    <tr>\n",
       "      <th>RH</th>\n",
       "      <td>1.850661e+00</td>\n",
       "      <td>1.977752e+00</td>\n",
       "    </tr>\n",
       "    <tr>\n",
       "      <th>RCOO2NO2</th>\n",
       "      <td>3.378443e-02</td>\n",
       "      <td>5.196239e-01</td>\n",
       "    </tr>\n",
       "    <tr>\n",
       "      <th>O3</th>\n",
       "      <td>4.626326e-02</td>\n",
       "      <td>1.750093e+00</td>\n",
       "    </tr>\n",
       "    <tr>\n",
       "      <th>HO2</th>\n",
       "      <td>9.376380e-07</td>\n",
       "      <td>2.617925e-01</td>\n",
       "    </tr>\n",
       "    <tr>\n",
       "      <th>RCOO2</th>\n",
       "      <td>4.809425e-07</td>\n",
       "      <td>2.341105e-02</td>\n",
       "    </tr>\n",
       "    <tr>\n",
       "      <th>RCHO</th>\n",
       "      <td>1.358315e+00</td>\n",
       "      <td>1.988463e+00</td>\n",
       "    </tr>\n",
       "    <tr>\n",
       "      <th>RO2</th>\n",
       "      <td>8.080372e-07</td>\n",
       "      <td>2.479889e-01</td>\n",
       "    </tr>\n",
       "    <tr>\n",
       "      <th>NO</th>\n",
       "      <td>5.853498e-09</td>\n",
       "      <td>1.661183e-01</td>\n",
       "    </tr>\n",
       "    <tr>\n",
       "      <th>NO2</th>\n",
       "      <td>6.900546e-05</td>\n",
       "      <td>4.465838e-01</td>\n",
       "    </tr>\n",
       "    <tr>\n",
       "      <th>OH</th>\n",
       "      <td>4.796498e-10</td>\n",
       "      <td>3.142789e-08</td>\n",
       "    </tr>\n",
       "  </tbody>\n",
       "</table>\n",
       "</div>"
      ],
      "text/plain": [
       "                   min           max\n",
       "HNO3      1.196871e-02  8.030713e-02\n",
       "O         8.425274e-06  5.451626e-02\n",
       "RH        1.850661e+00  1.977752e+00\n",
       "RCOO2NO2  3.378443e-02  5.196239e-01\n",
       "O3        4.626326e-02  1.750093e+00\n",
       "HO2       9.376380e-07  2.617925e-01\n",
       "RCOO2     4.809425e-07  2.341105e-02\n",
       "RCHO      1.358315e+00  1.988463e+00\n",
       "RO2       8.080372e-07  2.479889e-01\n",
       "NO        5.853498e-09  1.661183e-01\n",
       "NO2       6.900546e-05  4.465838e-01\n",
       "OH        4.796498e-10  3.142789e-08"
      ]
     },
     "execution_count": 8,
     "metadata": {},
     "output_type": "execute_result"
    }
   ],
   "source": [
    "df_range = df_history.agg(['min', 'max']).T\n",
    "df_range"
   ]
  },
  {
   "cell_type": "markdown",
   "metadata": {},
   "source": [
    "# Generate random samples within that range"
   ]
  },
  {
   "cell_type": "code",
   "execution_count": 9,
   "metadata": {},
   "outputs": [
    {
     "data": {
      "text/plain": [
       "(5000, 12)"
      ]
     },
     "execution_count": 9,
     "metadata": {},
     "output_type": "execute_result"
    }
   ],
   "source": [
    "y0_list = np.random.uniform(df_range['min'], df_range['max'], size=(5000, 12) )\n",
    "y0_list.shape"
   ]
  },
  {
   "cell_type": "code",
   "execution_count": 10,
   "metadata": {},
   "outputs": [
    {
     "name": "stdout",
     "output_type": "stream",
     "text": [
      "CPU times: user 448 ms, sys: 3.07 ms, total: 451 ms\n",
      "Wall time: 452 ms\n"
     ]
    }
   ],
   "source": [
    "%%time\n",
    "y1_list = kpp.onestep(y0_list.T).T"
   ]
  },
  {
   "cell_type": "code",
   "execution_count": 11,
   "metadata": {},
   "outputs": [
    {
     "data": {
      "text/plain": [
       "array([  1.22965714e-02,   2.51157793e-06,   1.77332869e+00,\n",
       "         7.86308481e-02,   1.06950172e-01,   4.01723821e-06,\n",
       "         1.29861242e-06,   1.19927640e+00,   3.10777357e-06,\n",
       "         3.08052971e-09,   2.05710033e-05,   8.35025058e-11])"
      ]
     },
     "execution_count": 11,
     "metadata": {},
     "output_type": "execute_result"
    }
   ],
   "source": [
    "y1_list.min(axis=0) # make sure no negative value"
   ]
  },
  {
   "cell_type": "markdown",
   "metadata": {},
   "source": [
    "# Normalize data"
   ]
  },
  {
   "cell_type": "code",
   "execution_count": 12,
   "metadata": {},
   "outputs": [
    {
     "data": {
      "text/plain": [
       "StandardScaler(copy=True, with_mean=True, with_std=True)"
      ]
     },
     "execution_count": 12,
     "metadata": {},
     "output_type": "execute_result"
    }
   ],
   "source": [
    "normalizer = StandardScaler()\n",
    "normalizer.fit(y0_list)"
   ]
  },
  {
   "cell_type": "code",
   "execution_count": 13,
   "metadata": {},
   "outputs": [
    {
     "data": {
      "text/plain": [
       "(5000, 12)"
      ]
     },
     "execution_count": 13,
     "metadata": {},
     "output_type": "execute_result"
    }
   ],
   "source": [
    "X_train = normalizer.transform(y0_list)\n",
    "X_train.shape"
   ]
  },
  {
   "cell_type": "code",
   "execution_count": 14,
   "metadata": {},
   "outputs": [
    {
     "data": {
      "text/plain": [
       "array([ 1.20615738,  0.76479924,  1.09751268,  1.16658383,  1.0337311 ,\n",
       "        0.78884175,  0.37385385,  0.99983575,  0.55993482,  0.04807405,\n",
       "        0.76907728,  1.19902002])"
      ]
     },
     "execution_count": 14,
     "metadata": {},
     "output_type": "execute_result"
    }
   ],
   "source": [
    "Y_train = normalizer.transform(y1_list)\n",
    "Y_train.std(axis=0)"
   ]
  },
  {
   "cell_type": "markdown",
   "metadata": {},
   "source": [
    "# Fit ANN"
   ]
  },
  {
   "cell_type": "code",
   "execution_count": 15,
   "metadata": {},
   "outputs": [],
   "source": [
    "x_torch = Variable(torch.from_numpy(X_train).type(torch.FloatTensor))\n",
    "y_torch = Variable(torch.from_numpy(Y_train).type(torch.FloatTensor))"
   ]
  },
  {
   "cell_type": "code",
   "execution_count": 16,
   "metadata": {},
   "outputs": [],
   "source": [
    "H1, H2 = 30, 30\n",
    "\n",
    "model = torch.nn.Sequential(\n",
    "    torch.nn.Linear(12, H1),\n",
    "    torch.nn.ReLU(),\n",
    "    #torch.nn.BatchNorm1d(H1),\n",
    "    torch.nn.Linear(H1, H2),\n",
    "    torch.nn.ReLU(),\n",
    "    #torch.nn.BatchNorm1d(H2),\n",
    "    torch.nn.Linear(H2, 12)\n",
    ")"
   ]
  },
  {
   "cell_type": "code",
   "execution_count": 17,
   "metadata": {},
   "outputs": [
    {
     "name": "stdout",
     "output_type": "stream",
     "text": [
      "200 0.02820022962987423\n",
      "400 0.0065373620018363\n",
      "600 0.003796454519033432\n",
      "800 0.0025505926460027695\n",
      "1000 0.0019421637989580631\n",
      "1200 0.0016110059805214405\n",
      "1400 0.0014457552460953593\n",
      "1600 0.001483701285906136\n",
      "1800 0.0009316045325249434\n",
      "2000 0.0007772623212076724\n",
      "2200 0.0006922970642335713\n",
      "2400 0.0006863294984214008\n",
      "2600 0.0006150007830001414\n",
      "2800 0.0006635850295424461\n",
      "3000 0.0007411245605908334\n"
     ]
    }
   ],
   "source": [
    "loss_fn = torch.nn.MSELoss()\n",
    "\n",
    "#optimizer = torch.optim.LBFGS(model.parameters(), lr=0.1)\n",
    "optimizer = torch.optim.Adam(model.parameters(), lr = 0.005)\n",
    "\n",
    "for t in range(3000):\n",
    "    \n",
    "    def closure():\n",
    "        optimizer.zero_grad()\n",
    "        y_pred = model(x_torch)\n",
    "        loss = loss_fn(y_pred, y_torch)\n",
    "        loss.backward()\n",
    "        return loss\n",
    "    optimizer.step(closure)\n",
    "    \n",
    "    if (t+1)%200==0:\n",
    "        y_pred = model(x_torch)\n",
    "        loss = loss_fn(y_pred, y_torch)\n",
    "        print(t+1, loss.data[0])"
   ]
  },
  {
   "cell_type": "code",
   "execution_count": 18,
   "metadata": {},
   "outputs": [
    {
     "name": "stdout",
     "output_type": "stream",
     "text": [
      "CPU times: user 2.95 ms, sys: 799 µs, total: 3.75 ms\n",
      "Wall time: 1.85 ms\n"
     ]
    }
   ],
   "source": [
    "%%time \n",
    "y_pred = model(x_torch)\n",
    "y_pred_numpy = y_pred.data.numpy()"
   ]
  },
  {
   "cell_type": "code",
   "execution_count": 19,
   "metadata": {},
   "outputs": [
    {
     "data": {
      "text/plain": [
       "(5000, 12)"
      ]
     },
     "execution_count": 19,
     "metadata": {},
     "output_type": "execute_result"
    }
   ],
   "source": [
    "y_pred_numpy.shape"
   ]
  },
  {
   "cell_type": "code",
   "execution_count": 20,
   "metadata": {},
   "outputs": [
    {
     "data": {
      "text/plain": [
       "0.97999537477347587"
      ]
     },
     "execution_count": 20,
     "metadata": {},
     "output_type": "execute_result"
    }
   ],
   "source": [
    "r2_score(y_pred_numpy, Y_train)"
   ]
  },
  {
   "cell_type": "code",
   "execution_count": 21,
   "metadata": {},
   "outputs": [
    {
     "data": {
      "text/plain": [
       "<matplotlib.collections.PathCollection at 0x11ed3d6d8>"
      ]
     },
     "execution_count": 21,
     "metadata": {},
     "output_type": "execute_result"
    },
    {
     "data": {
      "image/png": "[encoded data removed]",
      "text/plain": [
       "<matplotlib.figure.Figure at 0x11e9b32e8>"
      ]
     },
     "metadata": {},
     "output_type": "display_data"
    }
   ],
   "source": [
    "plt.scatter(y_pred_numpy.ravel(), Y_train.ravel(), s=0.1)"
   ]
  },
  {
   "cell_type": "markdown",
   "metadata": {},
   "source": [
    "# Make new prediction"
   ]
  },
  {
   "cell_type": "code",
   "execution_count": 22,
   "metadata": {
    "collapsed": true
   },
   "outputs": [],
   "source": [
    "y0_test = np.random.uniform(df_range['min'], df_range['max'], size=(5000, 12) )"
   ]
  },
  {
   "cell_type": "code",
   "execution_count": 23,
   "metadata": {
    "collapsed": true
   },
   "outputs": [],
   "source": [
    "y1_test = kpp.onestep(y0_test.T).T"
   ]
  },
  {
   "cell_type": "code",
   "execution_count": 24,
   "metadata": {
    "collapsed": true
   },
   "outputs": [],
   "source": [
    "X_test = normalizer.transform(y0_test)\n",
    "Y_test = normalizer.transform(y1_test)"
   ]
  },
  {
   "cell_type": "code",
   "execution_count": 25,
   "metadata": {},
   "outputs": [
    {
     "data": {
      "text/plain": [
       "(5000, 12)"
      ]
     },
     "execution_count": 25,
     "metadata": {},
     "output_type": "execute_result"
    }
   ],
   "source": [
    "Y_test.shape"
   ]
  },
  {
   "cell_type": "code",
   "execution_count": 26,
   "metadata": {},
   "outputs": [
    {
     "data": {
      "text/plain": [
       "(5000, 12)"
      ]
     },
     "execution_count": 26,
     "metadata": {},
     "output_type": "execute_result"
    }
   ],
   "source": [
    "X_torch_test = Variable(torch.from_numpy(X_test).type(torch.FloatTensor))\n",
    "y_test_pred = model(X_torch_test).data.numpy()\n",
    "y_test_pred.shape"
   ]
  },
  {
   "cell_type": "code",
   "execution_count": 27,
   "metadata": {},
   "outputs": [
    {
     "data": {
      "text/plain": [
       "0.98000901757451386"
      ]
     },
     "execution_count": 27,
     "metadata": {},
     "output_type": "execute_result"
    }
   ],
   "source": [
    "r2_score(y_test_pred, Y_test)"
   ]
  },
  {
   "cell_type": "code",
   "execution_count": 28,
   "metadata": {},
   "outputs": [
    {
     "data": {
      "text/plain": [
       "<matplotlib.collections.PathCollection at 0x11e9b3e80>"
      ]
     },
     "execution_count": 28,
     "metadata": {},
     "output_type": "execute_result"
    },
    {
     "data": {
      "image/png": "[encoded data removed]",
      "text/plain": [
       "<matplotlib.figure.Figure at 0x11eb9e080>"
      ]
     },
     "metadata": {},
     "output_type": "display_data"
    }
   ],
   "source": [
    "plt.scatter(y_test_pred, Y_test, s=0.1)"
   ]
  }
 ],
 "metadata": {
  "kernelspec": {
   "display_name": "Python 3",
   "language": "python",
   "name": "python3"
  },
  "language_info": {
   "codemirror_mode": {
    "name": "ipython",
    "version": 3
   },
   "file_extension": ".py",
   "mimetype": "text/x-python",
   "name": "python",
   "nbconvert_exporter": "python",
   "pygments_lexer": "ipython3",
   "version": "3.6.2"
  },
  "toc": {
   "nav_menu": {},
   "number_sections": true,
   "sideBar": true,
   "skip_h1_title": false,
   "toc_cell": false,
   "toc_position": {},
   "toc_section_display": "block",
   "toc_window_display": false
  }
 },
 "nbformat": 4,
 "nbformat_minor": 2
}
