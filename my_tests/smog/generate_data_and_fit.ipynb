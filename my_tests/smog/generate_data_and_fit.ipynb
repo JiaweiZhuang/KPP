{
 "cells": [
  {
   "cell_type": "code",
   "execution_count": 1,
   "metadata": {
    "collapsed": true
   },
   "outputs": [],
   "source": [
    "%matplotlib inline\n",
    "import warnings; warnings.filterwarnings(action='ignore')\n",
    "\n",
    "import pandas as pd\n",
    "import numpy as np\n",
    "import matplotlib.pyplot as plt\n",
    "\n",
    "from sklearn.preprocessing import StandardScaler\n",
    "from sklearn.metrics import r2_score\n",
    "\n",
    "import torch\n",
    "from torch.autograd import Variable"
   ]
  },
  {
   "cell_type": "code",
   "execution_count": 2,
   "metadata": {},
   "outputs": [
    {
     "name": "stdout",
     "output_type": "stream",
     "text": [
      "12 ['HNO3', 'O', 'RH', 'RCOO2NO2', 'O3', 'HO2', 'RCOO2', 'RCHO', 'RO2', 'NO', 'NO2', 'OH']\n"
     ]
    }
   ],
   "source": [
    "from read_results import read_varnames\n",
    "varnames = read_varnames(\"smog_code/smog_Parameters.f90\")[0:12]\n",
    "print(len(varnames), varnames)"
   ]
  },
  {
   "cell_type": "markdown",
   "metadata": {},
   "source": [
    "# KPP default initial value"
   ]
  },
  {
   "cell_type": "code",
   "execution_count": 3,
   "metadata": {},
   "outputs": [
    {
     "data": {
      "text/plain": [
       "HNO3        1.000000e-08\n",
       "O           1.000000e-08\n",
       "RH          2.000000e+00\n",
       "RCOO2NO2    1.000000e-08\n",
       "O3          1.000000e-08\n",
       "HO2         1.000000e-08\n",
       "RCOO2       1.000000e-08\n",
       "RCHO        2.000000e+00\n",
       "RO2         1.000000e-08\n",
       "NO          5.000000e-01\n",
       "NO2         1.000000e-01\n",
       "OH          1.000000e-08\n",
       "dtype: float64"
      ]
     },
     "execution_count": 3,
     "metadata": {},
     "output_type": "execute_result"
    }
   ],
   "source": [
    "df_init = pd.Series(data=1e-8, index=varnames)\n",
    "df_init['RH'] = 2.0\n",
    "df_init['RCHO'] = 2.0\n",
    "df_init['NO'] = 0.5\n",
    "df_init['NO2'] = 0.1\n",
    "df_init"
   ]
  },
  {
   "cell_type": "markdown",
   "metadata": {},
   "source": [
    "# Integrate forward"
   ]
  },
  {
   "cell_type": "code",
   "execution_count": 4,
   "metadata": {
    "collapsed": true
   },
   "outputs": [],
   "source": [
    "import smog_code.kpp4py as kpp"
   ]
  },
  {
   "cell_type": "code",
   "execution_count": 5,
   "metadata": {},
   "outputs": [
    {
     "data": {
      "text/plain": [
       "(12, 30)"
      ]
     },
     "execution_count": 5,
     "metadata": {},
     "output_type": "execute_result"
    }
   ],
   "source": [
    "y_history = kpp.forward(df_init.values, 30)\n",
    "y_history.shape"
   ]
  },
  {
   "cell_type": "code",
   "execution_count": 6,
   "metadata": {},
   "outputs": [
    {
     "data": {
      "text/html": [
       "<div>\n",
       "<style scoped>\n",
       "    .dataframe tbody tr th:only-of-type {\n",
       "        vertical-align: middle;\n",
       "    }\n",
       "\n",
       "    .dataframe tbody tr th {\n",
       "        vertical-align: top;\n",
       "    }\n",
       "\n",
       "    .dataframe thead th {\n",
       "        text-align: right;\n",
       "    }\n",
       "</style>\n",
       "<table border=\"1\" class=\"dataframe\">\n",
       "  <thead>\n",
       "    <tr style=\"text-align: right;\">\n",
       "      <th></th>\n",
       "      <th>HNO3</th>\n",
       "      <th>O</th>\n",
       "      <th>RH</th>\n",
       "      <th>RCOO2NO2</th>\n",
       "      <th>O3</th>\n",
       "      <th>HO2</th>\n",
       "      <th>RCOO2</th>\n",
       "      <th>RCHO</th>\n",
       "      <th>RO2</th>\n",
       "      <th>NO</th>\n",
       "      <th>NO2</th>\n",
       "      <th>OH</th>\n",
       "    </tr>\n",
       "    <tr>\n",
       "      <th>time</th>\n",
       "      <th></th>\n",
       "      <th></th>\n",
       "      <th></th>\n",
       "      <th></th>\n",
       "      <th></th>\n",
       "      <th></th>\n",
       "      <th></th>\n",
       "      <th></th>\n",
       "      <th></th>\n",
       "      <th></th>\n",
       "      <th></th>\n",
       "      <th></th>\n",
       "    </tr>\n",
       "  </thead>\n",
       "  <tbody>\n",
       "    <tr>\n",
       "      <th>0</th>\n",
       "      <td>0.011969</td>\n",
       "      <td>0.047323</td>\n",
       "      <td>1.977752</td>\n",
       "      <td>0.033784</td>\n",
       "      <td>0.046263</td>\n",
       "      <td>9.376380e-07</td>\n",
       "      <td>4.809425e-07</td>\n",
       "      <td>1.988463</td>\n",
       "      <td>8.080372e-07</td>\n",
       "      <td>0.166118</td>\n",
       "      <td>0.388129</td>\n",
       "      <td>3.142789e-08</td>\n",
       "    </tr>\n",
       "    <tr>\n",
       "      <th>1</th>\n",
       "      <td>0.022814</td>\n",
       "      <td>0.054516</td>\n",
       "      <td>1.966015</td>\n",
       "      <td>0.068263</td>\n",
       "      <td>0.142359</td>\n",
       "      <td>1.834471e-06</td>\n",
       "      <td>6.655699e-07</td>\n",
       "      <td>1.965720</td>\n",
       "      <td>1.441752e-06</td>\n",
       "      <td>0.062340</td>\n",
       "      <td>0.446584</td>\n",
       "      <td>2.289512e-08</td>\n",
       "    </tr>\n",
       "    <tr>\n",
       "      <th>2</th>\n",
       "      <td>0.032028</td>\n",
       "      <td>0.052796</td>\n",
       "      <td>1.956457</td>\n",
       "      <td>0.103805</td>\n",
       "      <td>0.270224</td>\n",
       "      <td>3.193612e-06</td>\n",
       "      <td>9.467450e-07</td>\n",
       "      <td>1.939735</td>\n",
       "      <td>2.406003e-06</td>\n",
       "      <td>0.031787</td>\n",
       "      <td>0.432380</td>\n",
       "      <td>2.061908e-08</td>\n",
       "    </tr>\n",
       "    <tr>\n",
       "      <th>3</th>\n",
       "      <td>0.040186</td>\n",
       "      <td>0.048891</td>\n",
       "      <td>1.947524</td>\n",
       "      <td>0.139794</td>\n",
       "      <td>0.402131</td>\n",
       "      <td>4.864673e-06</td>\n",
       "      <td>1.303912e-06</td>\n",
       "      <td>1.912677</td>\n",
       "      <td>3.600820e-06</td>\n",
       "      <td>0.019676</td>\n",
       "      <td>0.400344</td>\n",
       "      <td>1.992698e-08</td>\n",
       "    </tr>\n",
       "    <tr>\n",
       "      <th>4</th>\n",
       "      <td>0.047505</td>\n",
       "      <td>0.044335</td>\n",
       "      <td>1.938809</td>\n",
       "      <td>0.175995</td>\n",
       "      <td>0.533059</td>\n",
       "      <td>6.894217e-06</td>\n",
       "      <td>1.748860e-06</td>\n",
       "      <td>1.885189</td>\n",
       "      <td>5.061861e-06</td>\n",
       "      <td>0.013483</td>\n",
       "      <td>0.363017</td>\n",
       "      <td>1.973133e-08</td>\n",
       "    </tr>\n",
       "  </tbody>\n",
       "</table>\n",
       "</div>"
      ],
      "text/plain": [
       "          HNO3         O        RH  RCOO2NO2        O3           HO2  \\\n",
       "time                                                                   \n",
       "0     0.011969  0.047323  1.977752  0.033784  0.046263  9.376380e-07   \n",
       "1     0.022814  0.054516  1.966015  0.068263  0.142359  1.834471e-06   \n",
       "2     0.032028  0.052796  1.956457  0.103805  0.270224  3.193612e-06   \n",
       "3     0.040186  0.048891  1.947524  0.139794  0.402131  4.864673e-06   \n",
       "4     0.047505  0.044335  1.938809  0.175995  0.533059  6.894217e-06   \n",
       "\n",
       "             RCOO2      RCHO           RO2        NO       NO2            OH  \n",
       "time                                                                          \n",
       "0     4.809425e-07  1.988463  8.080372e-07  0.166118  0.388129  3.142789e-08  \n",
       "1     6.655699e-07  1.965720  1.441752e-06  0.062340  0.446584  2.289512e-08  \n",
       "2     9.467450e-07  1.939735  2.406003e-06  0.031787  0.432380  2.061908e-08  \n",
       "3     1.303912e-06  1.912677  3.600820e-06  0.019676  0.400344  1.992698e-08  \n",
       "4     1.748860e-06  1.885189  5.061861e-06  0.013483  0.363017  1.973133e-08  "
      ]
     },
     "execution_count": 6,
     "metadata": {},
     "output_type": "execute_result"
    }
   ],
   "source": [
    "df_history = pd.DataFrame(y_history.T, columns=varnames)\n",
    "df_history.index.name = 'time'\n",
    "df_history.head()"
   ]
  },
  {
   "cell_type": "code",
   "execution_count": 7,
   "metadata": {},
   "outputs": [
    {
     "data": {
      "text/plain": [
       "<matplotlib.axes._subplots.AxesSubplot at 0x121670518>"
      ]
     },
     "execution_count": 7,
     "metadata": {},
     "output_type": "execute_result"
    },
    {
     "data": {
      "image/png": "[encoded data removed]",
      "text/plain": [
       "<matplotlib.figure.Figure at 0x121662fd0>"
      ]
     },
     "metadata": {},
     "output_type": "display_data"
    }
   ],
   "source": [
    "df_history.plot(y=None, logy=True, marker='.')"
   ]
  },
  {
   "cell_type": "markdown",
   "metadata": {},
   "source": [
    "# Get data range"
   ]
  },
  {
   "cell_type": "code",
   "execution_count": 8,
   "metadata": {},
   "outputs": [
    {
     "data": {
      "text/html": [
       "<div>\n",
       "<style scoped>\n",
       "    .dataframe tbody tr th:only-of-type {\n",
       "        vertical-align: middle;\n",
       "    }\n",
       "\n",
       "    .dataframe tbody tr th {\n",
       "        vertical-align: top;\n",
       "    }\n",
       "\n",
       "    .dataframe thead th {\n",
       "        text-align: right;\n",
       "    }\n",
       "</style>\n",
       "<table border=\"1\" class=\"dataframe\">\n",
       "  <thead>\n",
       "    <tr style=\"text-align: right;\">\n",
       "      <th></th>\n",
       "      <th>min</th>\n",
       "      <th>max</th>\n",
       "    </tr>\n",
       "  </thead>\n",
       "  <tbody>\n",
       "    <tr>\n",
       "      <th>HNO3</th>\n",
       "      <td>1.196871e-02</td>\n",
       "      <td>8.030713e-02</td>\n",
       "    </tr>\n",
       "    <tr>\n",
       "      <th>O</th>\n",
       "      <td>8.425274e-06</td>\n",
       "      <td>5.451626e-02</td>\n",
       "    </tr>\n",
       "    <tr>\n",
       "      <th>RH</th>\n",
       "      <td>1.850661e+00</td>\n",
       "      <td>1.977752e+00</td>\n",
       "    </tr>\n",
       "    <tr>\n",
       "      <th>RCOO2NO2</th>\n",
       "      <td>3.378443e-02</td>\n",
       "      <td>5.196239e-01</td>\n",
       "    </tr>\n",
       "    <tr>\n",
       "      <th>O3</th>\n",
       "      <td>4.626326e-02</td>\n",
       "      <td>1.750093e+00</td>\n",
       "    </tr>\n",
       "    <tr>\n",
       "      <th>HO2</th>\n",
       "      <td>9.376380e-07</td>\n",
       "      <td>2.617925e-01</td>\n",
       "    </tr>\n",
       "    <tr>\n",
       "      <th>RCOO2</th>\n",
       "      <td>4.809425e-07</td>\n",
       "      <td>2.341105e-02</td>\n",
       "    </tr>\n",
       "    <tr>\n",
       "      <th>RCHO</th>\n",
       "      <td>1.358315e+00</td>\n",
       "      <td>1.988463e+00</td>\n",
       "    </tr>\n",
       "    <tr>\n",
       "      <th>RO2</th>\n",
       "      <td>8.080372e-07</td>\n",
       "      <td>2.479889e-01</td>\n",
       "    </tr>\n",
       "    <tr>\n",
       "      <th>NO</th>\n",
       "      <td>5.853498e-09</td>\n",
       "      <td>1.661183e-01</td>\n",
       "    </tr>\n",
       "    <tr>\n",
       "      <th>NO2</th>\n",
       "      <td>6.900546e-05</td>\n",
       "      <td>4.465838e-01</td>\n",
       "    </tr>\n",
       "    <tr>\n",
       "      <th>OH</th>\n",
       "      <td>4.796498e-10</td>\n",
       "      <td>3.142789e-08</td>\n",
       "    </tr>\n",
       "  </tbody>\n",
       "</table>\n",
       "</div>"
      ],
      "text/plain": [
       "                   min           max\n",
       "HNO3      1.196871e-02  8.030713e-02\n",
       "O         8.425274e-06  5.451626e-02\n",
       "RH        1.850661e+00  1.977752e+00\n",
       "RCOO2NO2  3.378443e-02  5.196239e-01\n",
       "O3        4.626326e-02  1.750093e+00\n",
       "HO2       9.376380e-07  2.617925e-01\n",
       "RCOO2     4.809425e-07  2.341105e-02\n",
       "RCHO      1.358315e+00  1.988463e+00\n",
       "RO2       8.080372e-07  2.479889e-01\n",
       "NO        5.853498e-09  1.661183e-01\n",
       "NO2       6.900546e-05  4.465838e-01\n",
       "OH        4.796498e-10  3.142789e-08"
      ]
     },
     "execution_count": 8,
     "metadata": {},
     "output_type": "execute_result"
    }
   ],
   "source": [
    "df_range = df_history.agg(['min', 'max']).T\n",
    "df_range"
   ]
  },
  {
   "cell_type": "code",
   "execution_count": 9,
   "metadata": {
    "collapsed": true
   },
   "outputs": [],
   "source": [
    "df_range.to_csv('smog_range.csv')"
   ]
  },
  {
   "cell_type": "markdown",
   "metadata": {},
   "source": [
    "# Generate random samples within that range"
   ]
  },
  {
   "cell_type": "code",
   "execution_count": 10,
   "metadata": {},
   "outputs": [
    {
     "data": {
      "text/plain": [
       "(5000, 12)"
      ]
     },
     "execution_count": 10,
     "metadata": {},
     "output_type": "execute_result"
    }
   ],
   "source": [
    "y0_list = np.random.uniform(df_range['min'], df_range['max'], size=(5000, 12) )\n",
    "y0_list.shape"
   ]
  },
  {
   "cell_type": "code",
   "execution_count": 11,
   "metadata": {},
   "outputs": [
    {
     "name": "stdout",
     "output_type": "stream",
     "text": [
      "CPU times: user 448 ms, sys: 6.53 ms, total: 454 ms\n",
      "Wall time: 459 ms\n"
     ]
    }
   ],
   "source": [
    "%%time\n",
    "y1_list = kpp.onestep(y0_list.T).T"
   ]
  },
  {
   "cell_type": "code",
   "execution_count": 12,
   "metadata": {},
   "outputs": [
    {
     "data": {
      "text/plain": [
       "array([  1.24225899e-02,   4.83092533e-06,   1.76676510e+00,\n",
       "         6.36402423e-02,   9.57009183e-02,   4.58453043e-06,\n",
       "         1.47614026e-06,   1.19624716e+00,   3.72545192e-06,\n",
       "         3.84942581e-09,   3.95575182e-05,   1.28732144e-10])"
      ]
     },
     "execution_count": 12,
     "metadata": {},
     "output_type": "execute_result"
    }
   ],
   "source": [
    "y1_list.min(axis=0) # make sure no negative value"
   ]
  },
  {
   "cell_type": "markdown",
   "metadata": {},
   "source": [
    "# Normalize data"
   ]
  },
  {
   "cell_type": "code",
   "execution_count": 13,
   "metadata": {},
   "outputs": [
    {
     "data": {
      "text/plain": [
       "StandardScaler(copy=True, with_mean=True, with_std=True)"
      ]
     },
     "execution_count": 13,
     "metadata": {},
     "output_type": "execute_result"
    }
   ],
   "source": [
    "normalizer = StandardScaler()\n",
    "normalizer.fit(y0_list)"
   ]
  },
  {
   "cell_type": "code",
   "execution_count": 14,
   "metadata": {},
   "outputs": [
    {
     "data": {
      "text/plain": [
       "(5000, 12)"
      ]
     },
     "execution_count": 14,
     "metadata": {},
     "output_type": "execute_result"
    }
   ],
   "source": [
    "X_train = normalizer.transform(y0_list)\n",
    "X_train.shape"
   ]
  },
  {
   "cell_type": "code",
   "execution_count": 15,
   "metadata": {},
   "outputs": [
    {
     "data": {
      "text/plain": [
       "array([ 1.20622806,  0.76510955,  1.08306733,  1.1839305 ,  1.03759816,\n",
       "        0.77302507,  0.3689744 ,  1.00718606,  0.56173056,  0.04543872,\n",
       "        0.75829264,  1.18175151])"
      ]
     },
     "execution_count": 15,
     "metadata": {},
     "output_type": "execute_result"
    }
   ],
   "source": [
    "Y_train = normalizer.transform(y1_list)\n",
    "Y_train.std(axis=0)"
   ]
  },
  {
   "cell_type": "markdown",
   "metadata": {},
   "source": [
    "# Fit ANN"
   ]
  },
  {
   "cell_type": "code",
   "execution_count": 16,
   "metadata": {
    "collapsed": true
   },
   "outputs": [],
   "source": [
    "x_torch = Variable(torch.from_numpy(X_train).type(torch.FloatTensor))\n",
    "y_torch = Variable(torch.from_numpy(Y_train).type(torch.FloatTensor))"
   ]
  },
  {
   "cell_type": "code",
   "execution_count": 17,
   "metadata": {
    "collapsed": true
   },
   "outputs": [],
   "source": [
    "H1, H2 = 30, 30\n",
    "\n",
    "model = torch.nn.Sequential(\n",
    "    torch.nn.Linear(12, H1),\n",
    "    torch.nn.ReLU(),\n",
    "    #torch.nn.BatchNorm1d(H1),\n",
    "    torch.nn.Linear(H1, H2),\n",
    "    torch.nn.ReLU(),\n",
    "    #torch.nn.BatchNorm1d(H2),\n",
    "    torch.nn.Linear(H2, 12)\n",
    ")"
   ]
  },
  {
   "cell_type": "code",
   "execution_count": 18,
   "metadata": {
    "scrolled": true
   },
   "outputs": [
    {
     "name": "stdout",
     "output_type": "stream",
     "text": [
      "200 0.03292034938931465\n",
      "400 0.006658074911683798\n",
      "600 0.003680205438286066\n",
      "800 0.00228567561134696\n",
      "1000 0.0016691390192136168\n",
      "1200 0.0013406443176791072\n",
      "1400 0.0011888745939359069\n",
      "1600 0.0010962777305394411\n",
      "1800 0.0011572845978662372\n",
      "2000 0.0008998924749903381\n",
      "2200 0.0007989921723492444\n",
      "2400 0.0008486927254125476\n",
      "2600 0.0007161701214499772\n",
      "2800 0.0007242973078973591\n",
      "3000 0.0006734388880431652\n"
     ]
    }
   ],
   "source": [
    "loss_fn = torch.nn.MSELoss()\n",
    "\n",
    "#optimizer = torch.optim.LBFGS(model.parameters(), lr=0.1)\n",
    "optimizer = torch.optim.Adam(model.parameters(), lr = 0.005)\n",
    "\n",
    "for t in range(3000):\n",
    "    \n",
    "    def closure():\n",
    "        optimizer.zero_grad()\n",
    "        y_pred = model(x_torch)\n",
    "        loss = loss_fn(y_pred, y_torch)\n",
    "        loss.backward()\n",
    "        return loss\n",
    "    optimizer.step(closure)\n",
    "    \n",
    "    if (t+1)%200==0:\n",
    "        y_pred = model(x_torch)\n",
    "        loss = loss_fn(y_pred, y_torch)\n",
    "        print(t+1, loss.data[0])"
   ]
  },
  {
   "cell_type": "code",
   "execution_count": 19,
   "metadata": {},
   "outputs": [
    {
     "name": "stdout",
     "output_type": "stream",
     "text": [
      "CPU times: user 2.71 ms, sys: 571 µs, total: 3.28 ms\n",
      "Wall time: 1.79 ms\n"
     ]
    }
   ],
   "source": [
    "%%time \n",
    "y_pred = model(x_torch)\n",
    "y_pred_numpy = y_pred.data.numpy()"
   ]
  },
  {
   "cell_type": "code",
   "execution_count": 20,
   "metadata": {},
   "outputs": [
    {
     "data": {
      "text/plain": [
       "(5000, 12)"
      ]
     },
     "execution_count": 20,
     "metadata": {},
     "output_type": "execute_result"
    }
   ],
   "source": [
    "y_pred_numpy.shape"
   ]
  },
  {
   "cell_type": "code",
   "execution_count": 21,
   "metadata": {},
   "outputs": [
    {
     "data": {
      "text/plain": [
       "0.98695315713238518"
      ]
     },
     "execution_count": 21,
     "metadata": {},
     "output_type": "execute_result"
    }
   ],
   "source": [
    "r2_score(y_pred_numpy, Y_train)"
   ]
  },
  {
   "cell_type": "code",
   "execution_count": 22,
   "metadata": {},
   "outputs": [
    {
     "data": {
      "text/plain": [
       "<matplotlib.collections.PathCollection at 0x123ddc7f0>"
      ]
     },
     "execution_count": 22,
     "metadata": {},
     "output_type": "execute_result"
    },
    {
     "data": {
      "image/png": "[encoded data removed]",
      "text/plain": [
       "<matplotlib.figure.Figure at 0x123b9c550>"
      ]
     },
     "metadata": {},
     "output_type": "display_data"
    }
   ],
   "source": [
    "plt.scatter(y_pred_numpy.ravel(), Y_train.ravel(), s=0.1)"
   ]
  },
  {
   "cell_type": "markdown",
   "metadata": {},
   "source": [
    "# Make new prediction"
   ]
  },
  {
   "cell_type": "code",
   "execution_count": 23,
   "metadata": {
    "collapsed": true
   },
   "outputs": [],
   "source": [
    "y0_test = np.random.uniform(df_range['min'], df_range['max'], size=(5000, 12) )"
   ]
  },
  {
   "cell_type": "code",
   "execution_count": 24,
   "metadata": {
    "collapsed": true
   },
   "outputs": [],
   "source": [
    "y1_test = kpp.onestep(y0_test.T).T"
   ]
  },
  {
   "cell_type": "code",
   "execution_count": 25,
   "metadata": {
    "collapsed": true
   },
   "outputs": [],
   "source": [
    "X_test = normalizer.transform(y0_test)\n",
    "Y_test = normalizer.transform(y1_test)"
   ]
  },
  {
   "cell_type": "code",
   "execution_count": 26,
   "metadata": {},
   "outputs": [
    {
     "data": {
      "text/plain": [
       "(5000, 12)"
      ]
     },
     "execution_count": 26,
     "metadata": {},
     "output_type": "execute_result"
    }
   ],
   "source": [
    "Y_test.shape"
   ]
  },
  {
   "cell_type": "code",
   "execution_count": 27,
   "metadata": {},
   "outputs": [
    {
     "data": {
      "text/plain": [
       "(5000, 12)"
      ]
     },
     "execution_count": 27,
     "metadata": {},
     "output_type": "execute_result"
    }
   ],
   "source": [
    "X_torch_test = Variable(torch.from_numpy(X_test).type(torch.FloatTensor))\n",
    "y_test_pred = model(X_torch_test).data.numpy()\n",
    "y_test_pred.shape"
   ]
  },
  {
   "cell_type": "code",
   "execution_count": 28,
   "metadata": {},
   "outputs": [
    {
     "data": {
      "text/plain": [
       "0.98646025480960098"
      ]
     },
     "execution_count": 28,
     "metadata": {},
     "output_type": "execute_result"
    }
   ],
   "source": [
    "r2_score(y_test_pred, Y_test)"
   ]
  },
  {
   "cell_type": "code",
   "execution_count": 29,
   "metadata": {},
   "outputs": [
    {
     "data": {
      "text/plain": [
       "<matplotlib.collections.PathCollection at 0x128b39d30>"
      ]
     },
     "execution_count": 29,
     "metadata": {},
     "output_type": "execute_result"
    },
    {
     "data": {
      "image/png": "[encoded data removed]",
      "text/plain": [
       "<matplotlib.figure.Figure at 0x123b5a358>"
      ]
     },
     "metadata": {},
     "output_type": "display_data"
    }
   ],
   "source": [
    "plt.scatter(y_test_pred, Y_test, s=0.1)"
   ]
  },
  {
   "cell_type": "markdown",
   "metadata": {},
   "source": [
    "# Integrate forward in time"
   ]
  },
  {
   "cell_type": "markdown",
   "metadata": {},
   "source": [
    "## Reference result"
   ]
  },
  {
   "cell_type": "code",
   "execution_count": 30,
   "metadata": {
    "collapsed": true
   },
   "outputs": [],
   "source": [
    "y_start = y0_test[0]\n",
    "y_history_true = kpp.forward(y_start, 10).T"
   ]
  },
  {
   "cell_type": "code",
   "execution_count": 31,
   "metadata": {},
   "outputs": [
    {
     "data": {
      "image/png": "[encoded data removed]",
      "text/plain": [
       "<matplotlib.figure.Figure at 0x1236bfdd8>"
      ]
     },
     "metadata": {},
     "output_type": "display_data"
    }
   ],
   "source": [
    "plt.plot(y_history_true, '-o')\n",
    "plt.yscale('log')"
   ]
  },
  {
   "cell_type": "markdown",
   "metadata": {},
   "source": [
    "## In normalized space"
   ]
  },
  {
   "cell_type": "code",
   "execution_count": 32,
   "metadata": {
    "collapsed": true
   },
   "outputs": [],
   "source": [
    "y_history_true_normed = normalizer.transform(y_history_true)"
   ]
  },
  {
   "cell_type": "code",
   "execution_count": 33,
   "metadata": {},
   "outputs": [
    {
     "data": {
      "image/png": "[encoded data removed]",
      "text/plain": [
       "<matplotlib.figure.Figure at 0x129230748>"
      ]
     },
     "metadata": {},
     "output_type": "display_data"
    }
   ],
   "source": [
    "plt.plot(y_history_true_normed, '-o');"
   ]
  },
  {
   "cell_type": "markdown",
   "metadata": {},
   "source": [
    "## ANN prediction"
   ]
  },
  {
   "cell_type": "code",
   "execution_count": 34,
   "metadata": {
    "collapsed": true
   },
   "outputs": [],
   "source": [
    "y_start_normed = normalizer.transform(y_start.reshape(1,-1))"
   ]
  },
  {
   "cell_type": "code",
   "execution_count": 35,
   "metadata": {
    "collapsed": true
   },
   "outputs": [],
   "source": [
    "y_history_pred = []\n",
    "\n",
    "v_torch_temp = Variable(torch.from_numpy(y_start_normed).type(torch.FloatTensor))\n",
    "\n",
    "for t in range(10):\n",
    "    v_torch_temp = model(v_torch_temp)\n",
    "    y_history_pred.append(v_torch_temp.data.numpy().ravel())\n",
    "    \n",
    "y_history_pred = np.array(y_history_pred)"
   ]
  },
  {
   "cell_type": "code",
   "execution_count": 36,
   "metadata": {},
   "outputs": [
    {
     "data": {
      "image/png": "[encoded data removed]",
      "text/plain": [
       "<matplotlib.figure.Figure at 0x1290e9d30>"
      ]
     },
     "metadata": {},
     "output_type": "display_data"
    }
   ],
   "source": [
    "plt.plot(y_history_pred, '-o');"
   ]
  },
  {
   "cell_type": "code",
   "execution_count": 37,
   "metadata": {},
   "outputs": [
    {
     "data": {
      "text/plain": [
       "<matplotlib.text.Text at 0x1291a3240>"
      ]
     },
     "execution_count": 37,
     "metadata": {},
     "output_type": "execute_result"
    },
    {
     "data": {
      "image/png": "[encoded data removed]",
      "text/plain": [
       "<matplotlib.figure.Figure at 0x123bc40f0>"
      ]
     },
     "metadata": {},
     "output_type": "display_data"
    }
   ],
   "source": [
    "plt.plot(y_history_pred - y_history_true_normed, '-o');\n",
    "#plt.ylim(y_history_true_normed.min(), y_history_true_normed.max())\n",
    "plt.title('error')"
   ]
  },
  {
   "cell_type": "markdown",
   "metadata": {},
   "source": [
    "# Predict multiple time series"
   ]
  },
  {
   "cell_type": "code",
   "execution_count": 38,
   "metadata": {},
   "outputs": [
    {
     "name": "stdout",
     "output_type": "stream",
     "text": [
      "CPU times: user 1.14 s, sys: 27.2 ms, total: 1.17 s\n",
      "Wall time: 1.1 s\n"
     ]
    }
   ],
   "source": [
    "%%time\n",
    "n_step = 10\n",
    "\n",
    "y_end = y0_test.copy() # will be the final concentration\n",
    "for i in range(n_step):\n",
    "    y_end = kpp.onestep(y_end.T).T\n",
    "\n",
    "y_end = normalizer.transform(y_end)"
   ]
  },
  {
   "cell_type": "code",
   "execution_count": 39,
   "metadata": {},
   "outputs": [
    {
     "data": {
      "text/plain": [
       "(5000, 12)"
      ]
     },
     "execution_count": 39,
     "metadata": {},
     "output_type": "execute_result"
    }
   ],
   "source": [
    "y_end.shape"
   ]
  },
  {
   "cell_type": "code",
   "execution_count": 40,
   "metadata": {},
   "outputs": [
    {
     "name": "stdout",
     "output_type": "stream",
     "text": [
      "CPU times: user 43.2 ms, sys: 12.1 ms, total: 55.3 ms\n",
      "Wall time: 29.5 ms\n"
     ]
    }
   ],
   "source": [
    "%%time\n",
    "v_torch_temp = Variable(torch.from_numpy(X_test).type(torch.FloatTensor))\n",
    "\n",
    "for t in range(n_step):\n",
    "    v_torch_temp = model(v_torch_temp)\n",
    "    \n",
    "y_end_pred = v_torch_temp.data.numpy()"
   ]
  },
  {
   "cell_type": "code",
   "execution_count": 41,
   "metadata": {},
   "outputs": [
    {
     "data": {
      "text/plain": [
       "(5000, 12)"
      ]
     },
     "execution_count": 41,
     "metadata": {},
     "output_type": "execute_result"
    }
   ],
   "source": [
    "y_end_pred.shape"
   ]
  },
  {
   "cell_type": "code",
   "execution_count": 42,
   "metadata": {},
   "outputs": [
    {
     "data": {
      "text/plain": [
       "0.90210450066872705"
      ]
     },
     "execution_count": 42,
     "metadata": {},
     "output_type": "execute_result"
    }
   ],
   "source": [
    "r2_score(y_end_pred.ravel(), y_end.ravel())"
   ]
  },
  {
   "cell_type": "code",
   "execution_count": 43,
   "metadata": {},
   "outputs": [
    {
     "data": {
      "text/plain": [
       "<matplotlib.collections.PathCollection at 0x1292f3278>"
      ]
     },
     "execution_count": 43,
     "metadata": {},
     "output_type": "execute_result"
    },
    {
     "data": {
      "image/png": "[encoded data removed]",
      "text/plain": [
       "<matplotlib.figure.Figure at 0x1292dd3c8>"
      ]
     },
     "metadata": {},
     "output_type": "display_data"
    }
   ],
   "source": [
    "plt.scatter(y_end_pred.ravel(), y_end.ravel(), s=0.1)"
   ]
  }
 ],
 "metadata": {
  "kernelspec": {
   "display_name": "Python 3",
   "language": "python",
   "name": "python3"
  },
  "language_info": {
   "codemirror_mode": {
    "name": "ipython",
    "version": 3
   },
   "file_extension": ".py",
   "mimetype": "text/x-python",
   "name": "python",
   "nbconvert_exporter": "python",
   "pygments_lexer": "ipython3",
   "version": "3.6.2"
  },
  "toc": {
   "nav_menu": {},
   "number_sections": true,
   "sideBar": true,
   "skip_h1_title": false,
   "toc_cell": false,
   "toc_position": {},
   "toc_section_display": "block",
   "toc_window_display": false
  }
 },
 "nbformat": 4,
 "nbformat_minor": 2
}
