{
 "cells": [
  {
   "cell_type": "code",
   "execution_count": 1,
   "metadata": {
    "collapsed": true
   },
   "outputs": [],
   "source": [
    "%matplotlib inline\n",
    "import matplotlib.pyplot as plt\n",
    "import pandas as pd\n",
    "import numpy as np\n",
    "\n",
    "import torch\n",
    "from torch.autograd import Variable\n",
    "\n",
    "from sklearn.preprocessing import StandardScaler\n",
    "from sklearn.metrics import r2_score"
   ]
  },
  {
   "cell_type": "code",
   "execution_count": 2,
   "metadata": {
    "collapsed": true
   },
   "outputs": [],
   "source": [
    "from read_results import read_varnames\n",
    "import small_strato_f90.kpp4py as kpp4py"
   ]
  },
  {
   "cell_type": "code",
   "execution_count": 3,
   "metadata": {},
   "outputs": [
    {
     "data": {
      "text/html": [
       "<div>\n",
       "<style scoped>\n",
       "    .dataframe tbody tr th:only-of-type {\n",
       "        vertical-align: middle;\n",
       "    }\n",
       "\n",
       "    .dataframe tbody tr th {\n",
       "        vertical-align: top;\n",
       "    }\n",
       "\n",
       "    .dataframe thead th {\n",
       "        text-align: right;\n",
       "    }\n",
       "</style>\n",
       "<table border=\"1\" class=\"dataframe\">\n",
       "  <thead>\n",
       "    <tr style=\"text-align: right;\">\n",
       "      <th></th>\n",
       "      <th>min</th>\n",
       "      <th>max</th>\n",
       "    </tr>\n",
       "  </thead>\n",
       "  <tbody>\n",
       "    <tr>\n",
       "      <th>O1D</th>\n",
       "      <td>1.000000e-08</td>\n",
       "      <td>1.550810e+02</td>\n",
       "    </tr>\n",
       "    <tr>\n",
       "      <th>O</th>\n",
       "      <td>1.000000e-08</td>\n",
       "      <td>1.040641e+09</td>\n",
       "    </tr>\n",
       "    <tr>\n",
       "      <th>O3</th>\n",
       "      <td>5.377002e+11</td>\n",
       "      <td>8.486620e+11</td>\n",
       "    </tr>\n",
       "    <tr>\n",
       "      <th>NO</th>\n",
       "      <td>1.000000e-08</td>\n",
       "      <td>9.433271e+08</td>\n",
       "    </tr>\n",
       "    <tr>\n",
       "      <th>NO2</th>\n",
       "      <td>1.531729e+08</td>\n",
       "      <td>1.096500e+09</td>\n",
       "    </tr>\n",
       "  </tbody>\n",
       "</table>\n",
       "</div>"
      ],
      "text/plain": [
       "              min           max\n",
       "O1D  1.000000e-08  1.550810e+02\n",
       "O    1.000000e-08  1.040641e+09\n",
       "O3   5.377002e+11  8.486620e+11\n",
       "NO   1.000000e-08  9.433271e+08\n",
       "NO2  1.531729e+08  1.096500e+09"
      ]
     },
     "execution_count": 3,
     "metadata": {},
     "output_type": "execute_result"
    }
   ],
   "source": [
    "df_range = pd.read_csv('small_strato_range.csv', index_col=0)\n",
    "df_range"
   ]
  },
  {
   "cell_type": "code",
   "execution_count": 4,
   "metadata": {},
   "outputs": [
    {
     "data": {
      "text/plain": [
       "array([  1.00000000e-08,   1.00000000e-08,   5.37700220e+11,\n",
       "         1.00000000e-08,   1.53172909e+08,   0.00000000e+00])"
      ]
     },
     "execution_count": 4,
     "metadata": {},
     "output_type": "execute_result"
    }
   ],
   "source": [
    "np.append(df_range['min'],0)"
   ]
  },
  {
   "cell_type": "code",
   "execution_count": 5,
   "metadata": {},
   "outputs": [
    {
     "data": {
      "text/plain": [
       "(5000, 6)"
      ]
     },
     "execution_count": 5,
     "metadata": {},
     "output_type": "execute_result"
    }
   ],
   "source": [
    "y0_list = np.random.uniform(np.append(df_range['min'], 0), \n",
    "                            np.append(df_range['max'], 1), \n",
    "                            size=(5000, 6) )\n",
    "y0_list.shape"
   ]
  },
  {
   "cell_type": "code",
   "execution_count": 6,
   "metadata": {},
   "outputs": [
    {
     "name": "stdout",
     "output_type": "stream",
     "text": [
      "CPU times: user 99.1 ms, sys: 1.24 ms, total: 100 ms\n",
      "Wall time: 101 ms\n"
     ]
    },
    {
     "data": {
      "text/plain": [
       "(5000, 5)"
      ]
     },
     "execution_count": 6,
     "metadata": {},
     "output_type": "execute_result"
    }
   ],
   "source": [
    "%time y1_list = kpp4py.onestep(y0_list.T).T\n",
    "y1_list.shape"
   ]
  },
  {
   "cell_type": "code",
   "execution_count": 7,
   "metadata": {},
   "outputs": [
    {
     "data": {
      "text/plain": [
       "Index(['O1D', 'O', 'O3', 'NO', 'NO2'], dtype='object')"
      ]
     },
     "execution_count": 7,
     "metadata": {},
     "output_type": "execute_result"
    }
   ],
   "source": [
    "df_range.index"
   ]
  },
  {
   "cell_type": "code",
   "execution_count": 8,
   "metadata": {},
   "outputs": [
    {
     "data": {
      "text/html": [
       "<div>\n",
       "<style scoped>\n",
       "    .dataframe tbody tr th:only-of-type {\n",
       "        vertical-align: middle;\n",
       "    }\n",
       "\n",
       "    .dataframe tbody tr th {\n",
       "        vertical-align: top;\n",
       "    }\n",
       "\n",
       "    .dataframe thead th {\n",
       "        text-align: right;\n",
       "    }\n",
       "</style>\n",
       "<table border=\"1\" class=\"dataframe\">\n",
       "  <thead>\n",
       "    <tr style=\"text-align: right;\">\n",
       "      <th></th>\n",
       "      <th>O1D</th>\n",
       "      <th>O</th>\n",
       "      <th>O3</th>\n",
       "      <th>NO</th>\n",
       "      <th>NO2</th>\n",
       "    </tr>\n",
       "    <tr>\n",
       "      <th>time</th>\n",
       "      <th></th>\n",
       "      <th></th>\n",
       "      <th></th>\n",
       "      <th></th>\n",
       "      <th></th>\n",
       "    </tr>\n",
       "  </thead>\n",
       "  <tbody>\n",
       "    <tr>\n",
       "      <th>0</th>\n",
       "      <td>21.957841</td>\n",
       "      <td>2.307980e+08</td>\n",
       "      <td>7.786747e+11</td>\n",
       "      <td>7.005818e+08</td>\n",
       "      <td>4.412792e+08</td>\n",
       "    </tr>\n",
       "    <tr>\n",
       "      <th>1</th>\n",
       "      <td>4.419833</td>\n",
       "      <td>8.187581e+07</td>\n",
       "      <td>8.096660e+11</td>\n",
       "      <td>4.258441e+08</td>\n",
       "      <td>6.768313e+08</td>\n",
       "    </tr>\n",
       "    <tr>\n",
       "      <th>2</th>\n",
       "      <td>8.482972</td>\n",
       "      <td>1.229985e+08</td>\n",
       "      <td>7.982983e+11</td>\n",
       "      <td>7.334371e+08</td>\n",
       "      <td>8.066392e+08</td>\n",
       "    </tr>\n",
       "    <tr>\n",
       "      <th>3</th>\n",
       "      <td>106.739793</td>\n",
       "      <td>7.225634e+08</td>\n",
       "      <td>5.962463e+11</td>\n",
       "      <td>5.164995e+08</td>\n",
       "      <td>9.152334e+07</td>\n",
       "    </tr>\n",
       "    <tr>\n",
       "      <th>4</th>\n",
       "      <td>3.935642</td>\n",
       "      <td>7.407234e+07</td>\n",
       "      <td>7.454267e+11</td>\n",
       "      <td>5.269187e+08</td>\n",
       "      <td>8.019619e+08</td>\n",
       "    </tr>\n",
       "  </tbody>\n",
       "</table>\n",
       "</div>"
      ],
      "text/plain": [
       "             O1D             O            O3            NO           NO2\n",
       "time                                                                    \n",
       "0      21.957841  2.307980e+08  7.786747e+11  7.005818e+08  4.412792e+08\n",
       "1       4.419833  8.187581e+07  8.096660e+11  4.258441e+08  6.768313e+08\n",
       "2       8.482972  1.229985e+08  7.982983e+11  7.334371e+08  8.066392e+08\n",
       "3     106.739793  7.225634e+08  5.962463e+11  5.164995e+08  9.152334e+07\n",
       "4       3.935642  7.407234e+07  7.454267e+11  5.269187e+08  8.019619e+08"
      ]
     },
     "execution_count": 8,
     "metadata": {},
     "output_type": "execute_result"
    }
   ],
   "source": [
    "df_y1 = pd.DataFrame(y1_list, columns=df_range.index)\n",
    "df_y1.index.name = 'time'\n",
    "df_y1.head()"
   ]
  },
  {
   "cell_type": "code",
   "execution_count": 9,
   "metadata": {},
   "outputs": [
    {
     "data": {
      "text/html": [
       "<div>\n",
       "<style scoped>\n",
       "    .dataframe tbody tr th:only-of-type {\n",
       "        vertical-align: middle;\n",
       "    }\n",
       "\n",
       "    .dataframe tbody tr th {\n",
       "        vertical-align: top;\n",
       "    }\n",
       "\n",
       "    .dataframe thead th {\n",
       "        text-align: right;\n",
       "    }\n",
       "</style>\n",
       "<table border=\"1\" class=\"dataframe\">\n",
       "  <thead>\n",
       "    <tr style=\"text-align: right;\">\n",
       "      <th></th>\n",
       "      <th>min</th>\n",
       "      <th>max</th>\n",
       "    </tr>\n",
       "  </thead>\n",
       "  <tbody>\n",
       "    <tr>\n",
       "      <th>O1D</th>\n",
       "      <td>2.120252e-05</td>\n",
       "      <td>1.565499e+02</td>\n",
       "    </tr>\n",
       "    <tr>\n",
       "      <th>O</th>\n",
       "      <td>1.222626e+05</td>\n",
       "      <td>1.050742e+09</td>\n",
       "    </tr>\n",
       "    <tr>\n",
       "      <th>O3</th>\n",
       "      <td>5.374734e+11</td>\n",
       "      <td>8.506460e+11</td>\n",
       "    </tr>\n",
       "    <tr>\n",
       "      <th>NO</th>\n",
       "      <td>5.212953e+06</td>\n",
       "      <td>1.612665e+09</td>\n",
       "    </tr>\n",
       "    <tr>\n",
       "      <th>NO2</th>\n",
       "      <td>3.155395e+07</td>\n",
       "      <td>1.819113e+09</td>\n",
       "    </tr>\n",
       "  </tbody>\n",
       "</table>\n",
       "</div>"
      ],
      "text/plain": [
       "              min           max\n",
       "O1D  2.120252e-05  1.565499e+02\n",
       "O    1.222626e+05  1.050742e+09\n",
       "O3   5.374734e+11  8.506460e+11\n",
       "NO   5.212953e+06  1.612665e+09\n",
       "NO2  3.155395e+07  1.819113e+09"
      ]
     },
     "execution_count": 9,
     "metadata": {},
     "output_type": "execute_result"
    }
   ],
   "source": [
    "df_y1.agg(['min', 'max']).T"
   ]
  },
  {
   "cell_type": "markdown",
   "metadata": {},
   "source": [
    "# Normalize data"
   ]
  },
  {
   "cell_type": "code",
   "execution_count": 10,
   "metadata": {},
   "outputs": [
    {
     "data": {
      "text/plain": [
       "StandardScaler(copy=True, with_mean=True, with_std=True)"
      ]
     },
     "execution_count": 10,
     "metadata": {},
     "output_type": "execute_result"
    }
   ],
   "source": [
    "normalizer = StandardScaler()\n",
    "normalizer.fit(y0_list[:,0:5])"
   ]
  },
  {
   "cell_type": "code",
   "execution_count": 11,
   "metadata": {},
   "outputs": [
    {
     "data": {
      "text/plain": [
       "(5000, 6)"
      ]
     },
     "execution_count": 11,
     "metadata": {},
     "output_type": "execute_result"
    }
   ],
   "source": [
    "X_train = np.append(normalizer.transform(y0_list[:,0:5]), \n",
    "                    y0_list[:,-1:], \n",
    "                    axis=1)\n",
    "X_train.shape"
   ]
  },
  {
   "cell_type": "code",
   "execution_count": 12,
   "metadata": {},
   "outputs": [
    {
     "data": {
      "text/plain": [
       "array([ 0.85919934,  0.84716111,  0.99384073,  1.2709902 ,  1.04302031])"
      ]
     },
     "execution_count": 12,
     "metadata": {},
     "output_type": "execute_result"
    }
   ],
   "source": [
    "Y_train = normalizer.transform(y1_list)\n",
    "Y_train.std(axis=0)"
   ]
  },
  {
   "cell_type": "markdown",
   "metadata": {},
   "source": [
    "# Fit ANN"
   ]
  },
  {
   "cell_type": "code",
   "execution_count": 13,
   "metadata": {
    "collapsed": true
   },
   "outputs": [],
   "source": [
    "x_torch = Variable(torch.from_numpy(X_train).type(torch.FloatTensor))\n",
    "y_torch = Variable(torch.from_numpy(Y_train).type(torch.FloatTensor))"
   ]
  },
  {
   "cell_type": "code",
   "execution_count": 14,
   "metadata": {
    "collapsed": true
   },
   "outputs": [],
   "source": [
    "H1, H2 = 10, 10\n",
    "\n",
    "model = torch.nn.Sequential(\n",
    "    torch.nn.Linear(6, H1),\n",
    "    #torch.nn.ReLU(),\n",
    "    torch.nn.Tanh(),\n",
    "    #torch.nn.BatchNorm1d(H1),\n",
    "    torch.nn.Linear(H1, H2),\n",
    "    #torch.nn.ReLU(),\n",
    "    torch.nn.Tanh(),\n",
    "    #torch.nn.BatchNorm1d(H2),\n",
    "    torch.nn.Linear(H2, 5)\n",
    ")"
   ]
  },
  {
   "cell_type": "code",
   "execution_count": 15,
   "metadata": {},
   "outputs": [
    {
     "name": "stdout",
     "output_type": "stream",
     "text": [
      "20 0.0003501904720906168\n",
      "40 0.00013025895168539137\n",
      "60 6.947971996851265e-05\n",
      "80 5.3778261644765735e-05\n",
      "100 4.2751871660584584e-05\n",
      "120 3.4051616239594296e-05\n",
      "140 2.7901889552595094e-05\n",
      "160 2.4750914235482924e-05\n",
      "180 2.125240644090809e-05\n",
      "200 1.9092951333732344e-05\n"
     ]
    }
   ],
   "source": [
    "loss_fn = torch.nn.MSELoss()\n",
    "\n",
    "optimizer = torch.optim.LBFGS(model.parameters(), lr=0.1)\n",
    "#optimizer = torch.optim.Adam(model.parameters(), lr = 0.005)\n",
    "\n",
    "for t in range(200):\n",
    "    \n",
    "    def closure():\n",
    "        optimizer.zero_grad()\n",
    "        y_pred = model(x_torch)\n",
    "        loss = loss_fn(y_pred, y_torch)\n",
    "        loss.backward()\n",
    "        return loss\n",
    "    optimizer.step(closure)\n",
    "    \n",
    "    if (t+1)%20==0:\n",
    "        y_pred = model(x_torch)\n",
    "        loss = loss_fn(y_pred, y_torch)\n",
    "        print(t+1, loss.data[0])"
   ]
  },
  {
   "cell_type": "code",
   "execution_count": 16,
   "metadata": {},
   "outputs": [
    {
     "name": "stdout",
     "output_type": "stream",
     "text": [
      "CPU times: user 13.1 ms, sys: 1.07 ms, total: 14.2 ms\n",
      "Wall time: 7.37 ms\n"
     ]
    }
   ],
   "source": [
    "%%time \n",
    "y_pred = model(x_torch)\n",
    "y_pred_numpy = y_pred.data.numpy()"
   ]
  },
  {
   "cell_type": "code",
   "execution_count": 17,
   "metadata": {},
   "outputs": [
    {
     "data": {
      "text/plain": [
       "(5000, 5)"
      ]
     },
     "execution_count": 17,
     "metadata": {},
     "output_type": "execute_result"
    }
   ],
   "source": [
    "y_pred_numpy.shape"
   ]
  },
  {
   "cell_type": "code",
   "execution_count": 18,
   "metadata": {},
   "outputs": [
    {
     "data": {
      "text/plain": [
       "0.99998048340752099"
      ]
     },
     "execution_count": 18,
     "metadata": {},
     "output_type": "execute_result"
    }
   ],
   "source": [
    "r2_score(y_pred_numpy, Y_train)"
   ]
  },
  {
   "cell_type": "markdown",
   "metadata": {},
   "source": [
    "# Test set"
   ]
  },
  {
   "cell_type": "code",
   "execution_count": 19,
   "metadata": {},
   "outputs": [
    {
     "data": {
      "text/plain": [
       "(5000, 6)"
      ]
     },
     "execution_count": 19,
     "metadata": {},
     "output_type": "execute_result"
    }
   ],
   "source": [
    "y0_test = np.random.uniform(np.append(df_range['min'], 0), \n",
    "                            np.append(df_range['max'], 1), \n",
    "                            size=(20000, 6) )\n",
    "y0_list.shape"
   ]
  },
  {
   "cell_type": "code",
   "execution_count": 20,
   "metadata": {},
   "outputs": [
    {
     "name": "stdout",
     "output_type": "stream",
     "text": [
      "CPU times: user 625 ms, sys: 3.13 ms, total: 628 ms\n",
      "Wall time: 413 ms\n"
     ]
    }
   ],
   "source": [
    "%time y1_test = kpp4py.onestep(y0_test.T).T"
   ]
  },
  {
   "cell_type": "code",
   "execution_count": 21,
   "metadata": {
    "collapsed": true
   },
   "outputs": [],
   "source": [
    "X_test = np.append(normalizer.transform(y0_test[:,0:5]), \n",
    "                   y0_test[:,-1:], \n",
    "                   axis=1)\n",
    "Y_test = normalizer.transform(y1_test)"
   ]
  },
  {
   "cell_type": "code",
   "execution_count": 22,
   "metadata": {},
   "outputs": [
    {
     "data": {
      "text/plain": [
       "(20000, 5)"
      ]
     },
     "execution_count": 22,
     "metadata": {},
     "output_type": "execute_result"
    }
   ],
   "source": [
    "Y_test.shape"
   ]
  },
  {
   "cell_type": "code",
   "execution_count": 23,
   "metadata": {},
   "outputs": [
    {
     "name": "stdout",
     "output_type": "stream",
     "text": [
      "CPU times: user 13.6 ms, sys: 3.07 ms, total: 16.6 ms\n",
      "Wall time: 10.6 ms\n"
     ]
    }
   ],
   "source": [
    "%%time\n",
    "X_torch_test = Variable(torch.from_numpy(X_test).type(torch.FloatTensor))\n",
    "y_test_pred = model(X_torch_test).data.numpy()"
   ]
  },
  {
   "cell_type": "code",
   "execution_count": 24,
   "metadata": {},
   "outputs": [
    {
     "data": {
      "text/plain": [
       "0.99997977258341741"
      ]
     },
     "execution_count": 24,
     "metadata": {},
     "output_type": "execute_result"
    }
   ],
   "source": [
    "r2_score(y_test_pred, Y_test)"
   ]
  },
  {
   "cell_type": "code",
   "execution_count": 25,
   "metadata": {},
   "outputs": [
    {
     "data": {
      "text/plain": [
       "<matplotlib.collections.PathCollection at 0x11f792d30>"
      ]
     },
     "execution_count": 25,
     "metadata": {},
     "output_type": "execute_result"
    },
    {
     "data": {
      "image/png": "[encoded data removed]",
      "text/plain": [
       "<matplotlib.figure.Figure at 0x118b38e80>"
      ]
     },
     "metadata": {},
     "output_type": "display_data"
    }
   ],
   "source": [
    "plt.scatter(y_test_pred, Y_test, s=0.1)"
   ]
  }
 ],
 "metadata": {
  "kernelspec": {
   "display_name": "Python 3",
   "language": "python",
   "name": "python3"
  },
  "language_info": {
   "codemirror_mode": {
    "name": "ipython",
    "version": 3
   },
   "file_extension": ".py",
   "mimetype": "text/x-python",
   "name": "python",
   "nbconvert_exporter": "python",
   "pygments_lexer": "ipython3",
   "version": "3.6.2"
  },
  "toc": {
   "nav_menu": {},
   "number_sections": true,
   "sideBar": true,
   "skip_h1_title": false,
   "toc_cell": false,
   "toc_position": {},
   "toc_section_display": "block",
   "toc_window_display": false
  }
 },
 "nbformat": 4,
 "nbformat_minor": 2
}
