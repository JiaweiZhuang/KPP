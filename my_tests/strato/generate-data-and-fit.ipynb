{
 "cells": [
  {
   "cell_type": "code",
   "execution_count": 1,
   "metadata": {
    "collapsed": true
   },
   "outputs": [],
   "source": [
    "%matplotlib inline\n",
    "import matplotlib.pyplot as plt\n",
    "import pandas as pd\n",
    "import numpy as np\n",
    "\n",
    "import torch\n",
    "from torch.autograd import Variable\n",
    "\n",
    "from sklearn.preprocessing import StandardScaler\n",
    "from sklearn.metrics import r2_score"
   ]
  },
  {
   "cell_type": "code",
   "execution_count": 2,
   "metadata": {},
   "outputs": [],
   "source": [
    "from read_results import read_varnames\n",
    "import strato_code.kpp4py as kpp"
   ]
  },
  {
   "cell_type": "code",
   "execution_count": 3,
   "metadata": {},
   "outputs": [
    {
     "name": "stdout",
     "output_type": "stream",
     "text": [
      "['CH3', 'Cl2', 'Cl2O2', 'ClOO', 'OClO', 'BrCl', 'HOBr', 'BrONO2', 'HCO', 'CH3O', 'O1D', 'N2O5', 'HBr', 'CH3OOH', 'HNO4', 'HCl', 'H2O2', 'HOCl', 'HNO3', 'H', 'CH3O2', 'ClONO2', 'NO3', 'CH2O', 'Br', 'OH', 'Cl', 'ClO', 'O3', 'NO', 'BrO', 'O', 'HO2', 'NO2']\n"
     ]
    }
   ],
   "source": [
    "nvar = 34\n",
    "varnames = read_varnames(\"strato_code/strato_Parameters.f90\")[0:nvar]\n",
    "print(varnames)"
   ]
  },
  {
   "cell_type": "code",
   "execution_count": 4,
   "metadata": {},
   "outputs": [
    {
     "data": {
      "text/html": [
       "<div>\n",
       "<style scoped>\n",
       "    .dataframe tbody tr th:only-of-type {\n",
       "        vertical-align: middle;\n",
       "    }\n",
       "\n",
       "    .dataframe tbody tr th {\n",
       "        vertical-align: top;\n",
       "    }\n",
       "\n",
       "    .dataframe thead th {\n",
       "        text-align: right;\n",
       "    }\n",
       "</style>\n",
       "<table border=\"1\" class=\"dataframe\">\n",
       "  <thead>\n",
       "    <tr style=\"text-align: right;\">\n",
       "      <th></th>\n",
       "      <th>min</th>\n",
       "      <th>max</th>\n",
       "    </tr>\n",
       "  </thead>\n",
       "  <tbody>\n",
       "    <tr>\n",
       "      <th>CH3</th>\n",
       "      <td>3.685817e-06</td>\n",
       "      <td>3.234628e+00</td>\n",
       "    </tr>\n",
       "    <tr>\n",
       "      <th>Cl2</th>\n",
       "      <td>6.685439e+03</td>\n",
       "      <td>1.245632e+05</td>\n",
       "    </tr>\n",
       "    <tr>\n",
       "      <th>Cl2O2</th>\n",
       "      <td>2.478591e+03</td>\n",
       "      <td>2.227402e+04</td>\n",
       "    </tr>\n",
       "    <tr>\n",
       "      <th>ClOO</th>\n",
       "      <td>3.769876e-04</td>\n",
       "      <td>2.320970e+02</td>\n",
       "    </tr>\n",
       "    <tr>\n",
       "      <th>OClO</th>\n",
       "      <td>5.689835e+03</td>\n",
       "      <td>2.060717e+06</td>\n",
       "    </tr>\n",
       "    <tr>\n",
       "      <th>BrCl</th>\n",
       "      <td>4.626044e+03</td>\n",
       "      <td>3.018356e+05</td>\n",
       "    </tr>\n",
       "    <tr>\n",
       "      <th>HOBr</th>\n",
       "      <td>3.703886e+05</td>\n",
       "      <td>8.473285e+05</td>\n",
       "    </tr>\n",
       "    <tr>\n",
       "      <th>BrONO2</th>\n",
       "      <td>7.216404e+03</td>\n",
       "      <td>5.382783e+05</td>\n",
       "    </tr>\n",
       "    <tr>\n",
       "      <th>HCO</th>\n",
       "      <td>3.274070e-08</td>\n",
       "      <td>2.464155e-02</td>\n",
       "    </tr>\n",
       "    <tr>\n",
       "      <th>CH3O</th>\n",
       "      <td>1.000000e-08</td>\n",
       "      <td>2.027971e+02</td>\n",
       "    </tr>\n",
       "  </tbody>\n",
       "</table>\n",
       "</div>"
      ],
      "text/plain": [
       "                 min           max\n",
       "CH3     3.685817e-06  3.234628e+00\n",
       "Cl2     6.685439e+03  1.245632e+05\n",
       "Cl2O2   2.478591e+03  2.227402e+04\n",
       "ClOO    3.769876e-04  2.320970e+02\n",
       "OClO    5.689835e+03  2.060717e+06\n",
       "BrCl    4.626044e+03  3.018356e+05\n",
       "HOBr    3.703886e+05  8.473285e+05\n",
       "BrONO2  7.216404e+03  5.382783e+05\n",
       "HCO     3.274070e-08  2.464155e-02\n",
       "CH3O    1.000000e-08  2.027971e+02"
      ]
     },
     "execution_count": 4,
     "metadata": {},
     "output_type": "execute_result"
    }
   ],
   "source": [
    "df_range = pd.read_csv('strato_range.csv', index_col=0)\n",
    "df_range.head(10)"
   ]
  },
  {
   "cell_type": "markdown",
   "metadata": {},
   "source": [
    "# Make training data"
   ]
  },
  {
   "cell_type": "code",
   "execution_count": 5,
   "metadata": {},
   "outputs": [
    {
     "data": {
      "text/plain": [
       "(5000, 35)"
      ]
     },
     "execution_count": 5,
     "metadata": {},
     "output_type": "execute_result"
    }
   ],
   "source": [
    "y0_list = np.random.uniform(np.append(df_range['min'], 0), \n",
    "                            np.append(df_range['max'], 1), \n",
    "                            size=(5000, 35) )\n",
    "y0_list.shape"
   ]
  },
  {
   "cell_type": "code",
   "execution_count": 6,
   "metadata": {},
   "outputs": [
    {
     "name": "stdout",
     "output_type": "stream",
     "text": [
      "CPU times: user 1.4 s, sys: 29.7 ms, total: 1.43 s\n",
      "Wall time: 1.5 s\n"
     ]
    },
    {
     "data": {
      "text/plain": [
       "(5000, 34)"
      ]
     },
     "execution_count": 6,
     "metadata": {},
     "output_type": "execute_result"
    }
   ],
   "source": [
    "%time y1_list = kpp.onestep(y0_list.T).T\n",
    "y1_list.shape"
   ]
  },
  {
   "cell_type": "markdown",
   "metadata": {},
   "source": [
    "# Normalize data"
   ]
  },
  {
   "cell_type": "code",
   "execution_count": 7,
   "metadata": {},
   "outputs": [
    {
     "data": {
      "text/plain": [
       "StandardScaler(copy=True, with_mean=True, with_std=True)"
      ]
     },
     "execution_count": 7,
     "metadata": {},
     "output_type": "execute_result"
    }
   ],
   "source": [
    "normalizer = StandardScaler()\n",
    "normalizer.fit(y0_list[:,0:34])"
   ]
  },
  {
   "cell_type": "code",
   "execution_count": 8,
   "metadata": {},
   "outputs": [
    {
     "data": {
      "text/plain": [
       "(5000, 35)"
      ]
     },
     "execution_count": 8,
     "metadata": {},
     "output_type": "execute_result"
    }
   ],
   "source": [
    "X_train = np.append(normalizer.transform(y0_list[:,0:34]), \n",
    "                    y0_list[:,-1:], \n",
    "                    axis=1)\n",
    "X_train.shape"
   ]
  },
  {
   "cell_type": "code",
   "execution_count": 9,
   "metadata": {},
   "outputs": [
    {
     "data": {
      "text/plain": [
       "array([ 0.97444866,  1.15243255,  0.767098  ,  1.03533635,  0.11408981,\n",
       "        0.25442245,  1.2993885 ,  0.64317628,  0.89613306,  0.96202575,\n",
       "        0.94513314,  0.85229202,  1.51083245,  1.29249694,  1.07815599,\n",
       "        1.10927924,  0.97573787,  1.12121107,  1.11610697,  0.87838348,\n",
       "        1.1826658 ,  0.88186295,  0.07183912,  0.83015733,  1.08828863,\n",
       "        0.99047584,  1.0205667 ,  1.01666619,  0.97640752,  1.23522696,\n",
       "        0.90021032,  0.91415716,  0.82171633,  1.05060348])"
      ]
     },
     "execution_count": 9,
     "metadata": {},
     "output_type": "execute_result"
    }
   ],
   "source": [
    "Y_train = normalizer.transform(y1_list)\n",
    "Y_train.std(axis=0)"
   ]
  },
  {
   "cell_type": "markdown",
   "metadata": {},
   "source": [
    "# Fit ANN"
   ]
  },
  {
   "cell_type": "code",
   "execution_count": 10,
   "metadata": {
    "collapsed": true
   },
   "outputs": [],
   "source": [
    "x_torch = Variable(torch.from_numpy(X_train).type(torch.FloatTensor))\n",
    "y_torch = Variable(torch.from_numpy(Y_train).type(torch.FloatTensor))"
   ]
  },
  {
   "cell_type": "code",
   "execution_count": 11,
   "metadata": {
    "collapsed": true
   },
   "outputs": [],
   "source": [
    "H1, H2 = 100, 100\n",
    "\n",
    "model = torch.nn.Sequential(\n",
    "    torch.nn.Linear(35, H1),\n",
    "    torch.nn.ReLU(),\n",
    "    #torch.nn.Tanh(),\n",
    "    #torch.nn.BatchNorm1d(H1),\n",
    "    torch.nn.Linear(H1, H2),\n",
    "    torch.nn.ReLU(),\n",
    "    #torch.nn.Tanh(),\n",
    "    #torch.nn.BatchNorm1d(H2),\n",
    "    torch.nn.Linear(H2, 34)\n",
    ")"
   ]
  },
  {
   "cell_type": "code",
   "execution_count": 12,
   "metadata": {},
   "outputs": [
    {
     "name": "stdout",
     "output_type": "stream",
     "text": [
      "100 0.13272932171821594\n",
      "200 0.0671980157494545\n",
      "300 0.036297984421253204\n",
      "400 0.026132801547646523\n",
      "500 0.020453736186027527\n",
      "600 0.015953069552779198\n",
      "700 0.012986352667212486\n",
      "800 0.011178435757756233\n",
      "900 0.009994094260036945\n",
      "1000 0.00897530559450388\n"
     ]
    }
   ],
   "source": [
    "loss_fn = torch.nn.MSELoss()\n",
    "\n",
    "#optimizer = torch.optim.LBFGS(model.parameters(), lr=0.1)\n",
    "optimizer = torch.optim.Adam(model.parameters(), lr = 0.002)\n",
    "\n",
    "for t in range(1000):\n",
    "    \n",
    "    def closure():\n",
    "        optimizer.zero_grad()\n",
    "        y_pred = model(x_torch)\n",
    "        loss = loss_fn(y_pred, y_torch)\n",
    "        loss.backward()\n",
    "        return loss\n",
    "    optimizer.step(closure)\n",
    "    \n",
    "    if (t+1)%100==0:\n",
    "        y_pred = model(x_torch)\n",
    "        loss = loss_fn(y_pred, y_torch)\n",
    "        print(t+1, loss.data[0])"
   ]
  },
  {
   "cell_type": "code",
   "execution_count": 13,
   "metadata": {},
   "outputs": [
    {
     "name": "stdout",
     "output_type": "stream",
     "text": [
      "CPU times: user 12.1 ms, sys: 1.92 ms, total: 14.1 ms\n",
      "Wall time: 5.45 ms\n"
     ]
    }
   ],
   "source": [
    "%%time \n",
    "y_pred = model(x_torch)\n",
    "y_pred_numpy = y_pred.data.numpy()"
   ]
  },
  {
   "cell_type": "code",
   "execution_count": 14,
   "metadata": {},
   "outputs": [
    {
     "data": {
      "text/plain": [
       "0.81873033953224006"
      ]
     },
     "execution_count": 14,
     "metadata": {},
     "output_type": "execute_result"
    }
   ],
   "source": [
    "r2_score(y_pred_numpy, Y_train)"
   ]
  },
  {
   "cell_type": "code",
   "execution_count": 15,
   "metadata": {},
   "outputs": [
    {
     "data": {
      "text/plain": [
       "<matplotlib.collections.PathCollection at 0x12110ff60>"
      ]
     },
     "execution_count": 15,
     "metadata": {},
     "output_type": "execute_result"
    },
    {
     "data": {
      "image/png": "[encoded data removed]",
      "text/plain": [
       "<matplotlib.figure.Figure at 0x11782c438>"
      ]
     },
     "metadata": {},
     "output_type": "display_data"
    }
   ],
   "source": [
    "plt.scatter(y_pred_numpy.ravel(), Y_train.ravel(), s=0.1)"
   ]
  },
  {
   "cell_type": "markdown",
   "metadata": {},
   "source": [
    "# Test set"
   ]
  },
  {
   "cell_type": "code",
   "execution_count": 16,
   "metadata": {
    "scrolled": true
   },
   "outputs": [
    {
     "data": {
      "text/plain": [
       "(5000, 35)"
      ]
     },
     "execution_count": 16,
     "metadata": {},
     "output_type": "execute_result"
    }
   ],
   "source": [
    "y0_test = np.random.uniform(np.append(df_range['min'], 0), \n",
    "                            np.append(df_range['max'], 1), \n",
    "                            size=(5000, 35) )\n",
    "y0_list.shape"
   ]
  },
  {
   "cell_type": "code",
   "execution_count": 17,
   "metadata": {},
   "outputs": [
    {
     "name": "stdout",
     "output_type": "stream",
     "text": [
      "CPU times: user 1.39 s, sys: 24.1 ms, total: 1.41 s\n",
      "Wall time: 1.36 s\n"
     ]
    }
   ],
   "source": [
    "%time y1_test = kpp.onestep(y0_test.T).T"
   ]
  },
  {
   "cell_type": "code",
   "execution_count": 18,
   "metadata": {},
   "outputs": [],
   "source": [
    "X_test = np.append(normalizer.transform(y0_test[:,0:34]), \n",
    "                   y0_test[:,-1:], \n",
    "                   axis=1)\n",
    "Y_test = normalizer.transform(y1_test)"
   ]
  },
  {
   "cell_type": "code",
   "execution_count": 19,
   "metadata": {},
   "outputs": [
    {
     "name": "stdout",
     "output_type": "stream",
     "text": [
      "CPU times: user 13.5 ms, sys: 3.62 ms, total: 17.1 ms\n",
      "Wall time: 9.22 ms\n"
     ]
    }
   ],
   "source": [
    "%%time\n",
    "X_torch_test = Variable(torch.from_numpy(X_test).type(torch.FloatTensor))\n",
    "y_test_pred = model(X_torch_test).data.numpy()"
   ]
  },
  {
   "cell_type": "code",
   "execution_count": 20,
   "metadata": {},
   "outputs": [
    {
     "data": {
      "text/plain": [
       "0.87282695014400202"
      ]
     },
     "execution_count": 20,
     "metadata": {},
     "output_type": "execute_result"
    }
   ],
   "source": [
    "r2_score(y_test_pred, Y_test)"
   ]
  },
  {
   "cell_type": "code",
   "execution_count": 21,
   "metadata": {},
   "outputs": [
    {
     "data": {
      "text/plain": [
       "(-4, 4)"
      ]
     },
     "execution_count": 21,
     "metadata": {},
     "output_type": "execute_result"
    },
    {
     "data": {
      "image/png": "[encoded data removed]",
      "text/plain": [
       "<matplotlib.figure.Figure at 0x11782c7b8>"
      ]
     },
     "metadata": {},
     "output_type": "display_data"
    }
   ],
   "source": [
    "plt.scatter(y_test_pred, Y_test, s=0.1)\n",
    "plt.xlim(-4,4)\n",
    "plt.ylim(-4,4)"
   ]
  },
  {
   "cell_type": "code",
   "execution_count": 22,
   "metadata": {},
   "outputs": [
    {
     "data": {
      "text/plain": [
       "(-4, 4)"
      ]
     },
     "execution_count": 22,
     "metadata": {},
     "output_type": "execute_result"
    },
    {
     "data": {
      "image/png": "[encoded data removed]",
      "text/plain": [
       "<matplotlib.figure.Figure at 0x1213efcc0>"
      ]
     },
     "metadata": {},
     "output_type": "display_data"
    }
   ],
   "source": [
    "plt.scatter(Y_test, y_test_pred-Y_test, s=0.1)\n",
    "plt.xlim(-4,4)\n",
    "plt.ylim(-4,4)"
   ]
  },
  {
   "cell_type": "code",
   "execution_count": null,
   "metadata": {
    "collapsed": true
   },
   "outputs": [],
   "source": []
  }
 ],
 "metadata": {
  "kernelspec": {
   "display_name": "Python 3",
   "language": "python",
   "name": "python3"
  },
  "language_info": {
   "codemirror_mode": {
    "name": "ipython",
    "version": 3
   },
   "file_extension": ".py",
   "mimetype": "text/x-python",
   "name": "python",
   "nbconvert_exporter": "python",
   "pygments_lexer": "ipython3",
   "version": "3.6.2"
  },
  "toc": {
   "nav_menu": {},
   "number_sections": true,
   "sideBar": true,
   "skip_h1_title": false,
   "toc_cell": false,
   "toc_position": {},
   "toc_section_display": "block",
   "toc_window_display": false
  }
 },
 "nbformat": 4,
 "nbformat_minor": 2
}
