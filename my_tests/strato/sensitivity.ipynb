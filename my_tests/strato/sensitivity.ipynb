{
 "cells": [
  {
   "cell_type": "code",
   "execution_count": 1,
   "metadata": {
    "collapsed": true
   },
   "outputs": [],
   "source": [
    "%matplotlib inline\n",
    "import matplotlib.pyplot as plt\n",
    "import pandas as pd\n",
    "import numpy as np\n",
    "\n",
    "from sklearn.preprocessing import StandardScaler\n",
    "from sklearn.metrics import r2_score"
   ]
  },
  {
   "cell_type": "code",
   "execution_count": 2,
   "metadata": {
    "collapsed": true
   },
   "outputs": [],
   "source": [
    "from read_results import read_varnames\n",
    "import strato_code.kpp4py as kpp"
   ]
  },
  {
   "cell_type": "code",
   "execution_count": 3,
   "metadata": {},
   "outputs": [
    {
     "name": "stdout",
     "output_type": "stream",
     "text": [
      "['CH3', 'Cl2', 'Cl2O2', 'ClOO', 'OClO', 'BrCl', 'HOBr', 'BrONO2', 'HCO', 'CH3O', 'O1D', 'N2O5', 'HBr', 'CH3OOH', 'HNO4', 'HCl', 'H2O2', 'HOCl', 'HNO3', 'H', 'CH3O2', 'ClONO2', 'NO3', 'CH2O', 'Br', 'OH', 'Cl', 'ClO', 'O3', 'NO', 'BrO', 'O', 'HO2', 'NO2']\n"
     ]
    }
   ],
   "source": [
    "nvar = 34\n",
    "varnames = read_varnames(\"strato_code/strato_Parameters.f90\")[0:nvar]\n",
    "print(varnames)"
   ]
  },
  {
   "cell_type": "code",
   "execution_count": 4,
   "metadata": {},
   "outputs": [
    {
     "data": {
      "text/html": [
       "<div>\n",
       "<style scoped>\n",
       "    .dataframe tbody tr th:only-of-type {\n",
       "        vertical-align: middle;\n",
       "    }\n",
       "\n",
       "    .dataframe tbody tr th {\n",
       "        vertical-align: top;\n",
       "    }\n",
       "\n",
       "    .dataframe thead th {\n",
       "        text-align: right;\n",
       "    }\n",
       "</style>\n",
       "<table border=\"1\" class=\"dataframe\">\n",
       "  <thead>\n",
       "    <tr style=\"text-align: right;\">\n",
       "      <th></th>\n",
       "      <th>min</th>\n",
       "      <th>max</th>\n",
       "      <th>mid</th>\n",
       "    </tr>\n",
       "  </thead>\n",
       "  <tbody>\n",
       "    <tr>\n",
       "      <th>CH3</th>\n",
       "      <td>3.685817e-06</td>\n",
       "      <td>3.234628e+00</td>\n",
       "      <td>1.617316e+00</td>\n",
       "    </tr>\n",
       "    <tr>\n",
       "      <th>Cl2</th>\n",
       "      <td>6.685439e+03</td>\n",
       "      <td>1.245632e+05</td>\n",
       "      <td>6.562433e+04</td>\n",
       "    </tr>\n",
       "    <tr>\n",
       "      <th>Cl2O2</th>\n",
       "      <td>2.478591e+03</td>\n",
       "      <td>2.227402e+04</td>\n",
       "      <td>1.237631e+04</td>\n",
       "    </tr>\n",
       "    <tr>\n",
       "      <th>ClOO</th>\n",
       "      <td>3.769876e-04</td>\n",
       "      <td>2.320970e+02</td>\n",
       "      <td>1.160487e+02</td>\n",
       "    </tr>\n",
       "    <tr>\n",
       "      <th>OClO</th>\n",
       "      <td>5.689835e+03</td>\n",
       "      <td>2.060717e+06</td>\n",
       "      <td>1.033203e+06</td>\n",
       "    </tr>\n",
       "    <tr>\n",
       "      <th>BrCl</th>\n",
       "      <td>4.626044e+03</td>\n",
       "      <td>3.018356e+05</td>\n",
       "      <td>1.532308e+05</td>\n",
       "    </tr>\n",
       "    <tr>\n",
       "      <th>HOBr</th>\n",
       "      <td>3.703886e+05</td>\n",
       "      <td>8.473285e+05</td>\n",
       "      <td>6.088586e+05</td>\n",
       "    </tr>\n",
       "    <tr>\n",
       "      <th>BrONO2</th>\n",
       "      <td>7.216404e+03</td>\n",
       "      <td>5.382783e+05</td>\n",
       "      <td>2.727474e+05</td>\n",
       "    </tr>\n",
       "    <tr>\n",
       "      <th>HCO</th>\n",
       "      <td>3.274070e-08</td>\n",
       "      <td>2.464155e-02</td>\n",
       "      <td>1.232079e-02</td>\n",
       "    </tr>\n",
       "    <tr>\n",
       "      <th>CH3O</th>\n",
       "      <td>1.000000e-08</td>\n",
       "      <td>2.027971e+02</td>\n",
       "      <td>1.013985e+02</td>\n",
       "    </tr>\n",
       "  </tbody>\n",
       "</table>\n",
       "</div>"
      ],
      "text/plain": [
       "                 min           max           mid\n",
       "CH3     3.685817e-06  3.234628e+00  1.617316e+00\n",
       "Cl2     6.685439e+03  1.245632e+05  6.562433e+04\n",
       "Cl2O2   2.478591e+03  2.227402e+04  1.237631e+04\n",
       "ClOO    3.769876e-04  2.320970e+02  1.160487e+02\n",
       "OClO    5.689835e+03  2.060717e+06  1.033203e+06\n",
       "BrCl    4.626044e+03  3.018356e+05  1.532308e+05\n",
       "HOBr    3.703886e+05  8.473285e+05  6.088586e+05\n",
       "BrONO2  7.216404e+03  5.382783e+05  2.727474e+05\n",
       "HCO     3.274070e-08  2.464155e-02  1.232079e-02\n",
       "CH3O    1.000000e-08  2.027971e+02  1.013985e+02"
      ]
     },
     "execution_count": 4,
     "metadata": {},
     "output_type": "execute_result"
    }
   ],
   "source": [
    "df_range = pd.read_csv('strato_range.csv', index_col=0)\n",
    "df_range['mid'] = 0.5*(df_range['min']+df_range['max'])\n",
    "df_range.head(10)"
   ]
  },
  {
   "cell_type": "code",
   "execution_count": 5,
   "metadata": {},
   "outputs": [
    {
     "data": {
      "text/plain": [
       "(35,)"
      ]
     },
     "execution_count": 5,
     "metadata": {},
     "output_type": "execute_result"
    }
   ],
   "source": [
    "y0 = np.append(df_range['mid'], 0.5)\n",
    "#y0 = np.random.uniform(np.append(df_range['min'], 0), np.append(df_range['max'], 1))\n",
    "\n",
    "y0.shape"
   ]
  },
  {
   "cell_type": "code",
   "execution_count": 6,
   "metadata": {},
   "outputs": [
    {
     "data": {
      "text/plain": [
       "(1, 34)"
      ]
     },
     "execution_count": 6,
     "metadata": {},
     "output_type": "execute_result"
    }
   ],
   "source": [
    "f0 = kpp.onestep(y0.T).T\n",
    "f0.shape"
   ]
  },
  {
   "cell_type": "code",
   "execution_count": 7,
   "metadata": {},
   "outputs": [],
   "source": [
    "y_perturb = np.empty([35, 35])\n",
    "y_perturb[:] = y0\n",
    "for i in range(35):\n",
    "    y_perturb[i, i] *= 1.1"
   ]
  },
  {
   "cell_type": "code",
   "execution_count": 8,
   "metadata": {},
   "outputs": [
    {
     "data": {
      "text/plain": [
       "(35, 34)"
      ]
     },
     "execution_count": 8,
     "metadata": {},
     "output_type": "execute_result"
    }
   ],
   "source": [
    "f = kpp.onestep(y_perturb.T).T\n",
    "f.shape"
   ]
  },
  {
   "cell_type": "code",
   "execution_count": 9,
   "metadata": {
    "collapsed": true
   },
   "outputs": [],
   "source": [
    "A = f/f0 # sensitivity matrix"
   ]
  },
  {
   "cell_type": "code",
   "execution_count": 10,
   "metadata": {
    "scrolled": true
   },
   "outputs": [
    {
     "data": {
      "text/plain": [
       "<matplotlib.text.Text at 0x1145fac88>"
      ]
     },
     "execution_count": 10,
     "metadata": {},
     "output_type": "execute_result"
    },
    {
     "data": {
      "image/png": "[encoded data removed]",
      "text/plain": [
       "<matplotlib.figure.Figure at 0x112579d30>"
      ]
     },
     "metadata": {},
     "output_type": "display_data"
    }
   ],
   "source": [
    "plt.pcolormesh(A, cmap='bwr', vmin=0.95, vmax=1.05)\n",
    "plt.colorbar()\n",
    "plt.ylabel('input')\n",
    "plt.xlabel('output')\n",
    "plt.title('sensitivity matrix')"
   ]
  },
  {
   "cell_type": "code",
   "execution_count": 11,
   "metadata": {},
   "outputs": [
    {
     "name": "stdout",
     "output_type": "stream",
     "text": [
      "0.01 [4 7 4 6 8 7 6 8 5 4 2 2 2 1 4 1 1 4 1 2 5 2 3 1 8 2 6 4 1 4 4 2 3 5]\n",
      "0.02 [2 6 3 5 4 4 4 6 2 2 2 2 1 1 2 1 1 3 1 2 5 2 3 1 4 2 5 2 1 3 2 2 2 4]\n",
      "0.05 [1 4 1 3 2 2 0 1 2 1 2 1 1 1 1 1 1 1 1 2 1 2 0 1 2 1 3 1 1 1 0 2 2 2]\n"
     ]
    }
   ],
   "source": [
    "for thres in [0.01, 0.02, 0.05]:\n",
    "    print(thres, (np.abs(A - 1.0) > thres).sum(axis=0))"
   ]
  },
  {
   "cell_type": "code",
   "execution_count": null,
   "metadata": {
    "collapsed": true
   },
   "outputs": [],
   "source": []
  }
 ],
 "metadata": {
  "kernelspec": {
   "display_name": "Python 3",
   "language": "python",
   "name": "python3"
  },
  "language_info": {
   "codemirror_mode": {
    "name": "ipython",
    "version": 3
   },
   "file_extension": ".py",
   "mimetype": "text/x-python",
   "name": "python",
   "nbconvert_exporter": "python",
   "pygments_lexer": "ipython3",
   "version": "3.6.2"
  },
  "toc": {
   "nav_menu": {},
   "number_sections": true,
   "sideBar": true,
   "skip_h1_title": false,
   "toc_cell": false,
   "toc_position": {},
   "toc_section_display": "block",
   "toc_window_display": false
  }
 },
 "nbformat": 4,
 "nbformat_minor": 2
}
