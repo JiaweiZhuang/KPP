{
 "cells": [
  {
   "cell_type": "code",
   "execution_count": 1,
   "metadata": {
    "collapsed": true
   },
   "outputs": [],
   "source": [
    "%matplotlib inline\n",
    "import matplotlib.pyplot as plt\n",
    "import pandas as pd\n",
    "import numpy as np\n",
    "\n",
    "from scipy.interpolate import interp1d, interp2d\n",
    "\n",
    "from sklearn.preprocessing import StandardScaler\n",
    "from sklearn.metrics import r2_score\n",
    "\n",
    "from ipywidgets import interact, IntSlider"
   ]
  },
  {
   "cell_type": "markdown",
   "metadata": {},
   "source": [
    "# Preparation"
   ]
  },
  {
   "cell_type": "code",
   "execution_count": 2,
   "metadata": {},
   "outputs": [
    {
     "name": "stdout",
     "output_type": "stream",
     "text": [
      "['CH3', 'Cl2', 'Cl2O2', 'ClOO', 'OClO', 'BrCl', 'HOBr', 'BrONO2', 'HCO', 'CH3O', 'O1D', 'N2O5', 'HBr', 'CH3OOH', 'HNO4', 'HCl', 'H2O2', 'HOCl', 'HNO3', 'H', 'CH3O2', 'ClONO2', 'NO3', 'CH2O', 'Br', 'OH', 'Cl', 'ClO', 'O3', 'NO', 'BrO', 'O', 'HO2', 'NO2']\n"
     ]
    }
   ],
   "source": [
    "from read_results import read_varnames\n",
    "import strato_code.kpp4py as kpp\n",
    "\n",
    "nvar = 34\n",
    "varnames = read_varnames(\"strato_code/strato_Parameters.f90\")[0:nvar]\n",
    "print(varnames)"
   ]
  },
  {
   "cell_type": "code",
   "execution_count": 3,
   "metadata": {},
   "outputs": [
    {
     "data": {
      "text/html": [
       "<div>\n",
       "<style scoped>\n",
       "    .dataframe tbody tr th:only-of-type {\n",
       "        vertical-align: middle;\n",
       "    }\n",
       "\n",
       "    .dataframe tbody tr th {\n",
       "        vertical-align: top;\n",
       "    }\n",
       "\n",
       "    .dataframe thead th {\n",
       "        text-align: right;\n",
       "    }\n",
       "</style>\n",
       "<table border=\"1\" class=\"dataframe\">\n",
       "  <thead>\n",
       "    <tr style=\"text-align: right;\">\n",
       "      <th></th>\n",
       "      <th>min</th>\n",
       "      <th>max</th>\n",
       "      <th>mid</th>\n",
       "    </tr>\n",
       "  </thead>\n",
       "  <tbody>\n",
       "    <tr>\n",
       "      <th>OH</th>\n",
       "      <td>3.791087e+01</td>\n",
       "      <td>1.655987e+07</td>\n",
       "      <td>8.279952e+06</td>\n",
       "    </tr>\n",
       "    <tr>\n",
       "      <th>Cl</th>\n",
       "      <td>7.667911e-01</td>\n",
       "      <td>7.642127e+05</td>\n",
       "      <td>3.821067e+05</td>\n",
       "    </tr>\n",
       "    <tr>\n",
       "      <th>ClO</th>\n",
       "      <td>2.236826e+07</td>\n",
       "      <td>8.342272e+07</td>\n",
       "      <td>5.289549e+07</td>\n",
       "    </tr>\n",
       "    <tr>\n",
       "      <th>O3</th>\n",
       "      <td>4.342945e+11</td>\n",
       "      <td>5.292275e+11</td>\n",
       "      <td>4.817610e+11</td>\n",
       "    </tr>\n",
       "    <tr>\n",
       "      <th>NO</th>\n",
       "      <td>1.000000e-08</td>\n",
       "      <td>8.828713e+08</td>\n",
       "      <td>4.414357e+08</td>\n",
       "    </tr>\n",
       "    <tr>\n",
       "      <th>BrO</th>\n",
       "      <td>1.096853e+04</td>\n",
       "      <td>9.603792e+05</td>\n",
       "      <td>4.856739e+05</td>\n",
       "    </tr>\n",
       "    <tr>\n",
       "      <th>O</th>\n",
       "      <td>1.000000e-08</td>\n",
       "      <td>6.590324e+08</td>\n",
       "      <td>3.295162e+08</td>\n",
       "    </tr>\n",
       "    <tr>\n",
       "      <th>HO2</th>\n",
       "      <td>9.779919e+02</td>\n",
       "      <td>1.166693e+07</td>\n",
       "      <td>5.833955e+06</td>\n",
       "    </tr>\n",
       "    <tr>\n",
       "      <th>NO2</th>\n",
       "      <td>2.134505e+08</td>\n",
       "      <td>1.066423e+09</td>\n",
       "      <td>6.399367e+08</td>\n",
       "    </tr>\n",
       "    <tr>\n",
       "      <th>SUN</th>\n",
       "      <td>0.000000e+00</td>\n",
       "      <td>1.000000e+00</td>\n",
       "      <td>5.000000e-01</td>\n",
       "    </tr>\n",
       "  </tbody>\n",
       "</table>\n",
       "</div>"
      ],
      "text/plain": [
       "              min           max           mid\n",
       "OH   3.791087e+01  1.655987e+07  8.279952e+06\n",
       "Cl   7.667911e-01  7.642127e+05  3.821067e+05\n",
       "ClO  2.236826e+07  8.342272e+07  5.289549e+07\n",
       "O3   4.342945e+11  5.292275e+11  4.817610e+11\n",
       "NO   1.000000e-08  8.828713e+08  4.414357e+08\n",
       "BrO  1.096853e+04  9.603792e+05  4.856739e+05\n",
       "O    1.000000e-08  6.590324e+08  3.295162e+08\n",
       "HO2  9.779919e+02  1.166693e+07  5.833955e+06\n",
       "NO2  2.134505e+08  1.066423e+09  6.399367e+08\n",
       "SUN  0.000000e+00  1.000000e+00  5.000000e-01"
      ]
     },
     "execution_count": 3,
     "metadata": {},
     "output_type": "execute_result"
    }
   ],
   "source": [
    "df_range = (\n",
    "    pd.read_csv('strato_range.csv', index_col=0)\n",
    "    .append(pd.DataFrame(np.array([[0.0, 1.0]]), \n",
    "                         columns=['min','max'], \n",
    "                         index=['SUN']\n",
    "                        )\n",
    "           )\n",
    ")\n",
    "\n",
    "df_range['mid'] = 0.5*(df_range['min']+df_range['max'])\n",
    "df_range.tail(10)"
   ]
  },
  {
   "cell_type": "markdown",
   "metadata": {},
   "source": [
    "## 0-th order"
   ]
  },
  {
   "cell_type": "code",
   "execution_count": 4,
   "metadata": {},
   "outputs": [
    {
     "data": {
      "text/plain": [
       "((35,), (1, 34))"
      ]
     },
     "execution_count": 4,
     "metadata": {},
     "output_type": "execute_result"
    }
   ],
   "source": [
    "x0 = df_range['mid'].values\n",
    "f0 = y0 = kpp.onestep(x0.T).T\n",
    "x0.shape, y0.shape"
   ]
  },
  {
   "cell_type": "markdown",
   "metadata": {},
   "source": [
    "## 1-st orer"
   ]
  },
  {
   "cell_type": "code",
   "execution_count": 5,
   "metadata": {},
   "outputs": [
    {
     "data": {
      "application/vnd.jupyter.widget-view+json": {
       "model_id": "525811625bc34a0f888767de6676d53d"
      }
     },
     "metadata": {},
     "output_type": "display_data"
    }
   ],
   "source": [
    "@interact(n=IntSlider(min=0,max=34,step=1,value=29,continuous_update=False))\n",
    "def plot_1d(n):\n",
    "    res = 20 # resolution\n",
    "\n",
    "    x_list = np.empty([res, nvar+1])\n",
    "    x_list[:] = df_range['mid'].values\n",
    "\n",
    "    x_list[:,n] = np.linspace(df_range['min'][n],df_range['max'][n], res)\n",
    "\n",
    "    y = kpp.onestep(x_list.T).T\n",
    "    plt.plot(x_list[:,n], y/y0-1)\n",
    "    plt.ylim(-1,1)\n",
    "    plt.show()"
   ]
  },
  {
   "cell_type": "code",
   "execution_count": 6,
   "metadata": {
    "collapsed": true
   },
   "outputs": [],
   "source": [
    "def hdmr_axis(n, res = 10):\n",
    "    '''Sample along one axis'''\n",
    "    x_list = np.empty([res, nvar+1])\n",
    "    x_list[:] = df_range['mid'].values\n",
    "    x_list[:,n] = np.linspace(df_range['min'][n],df_range['max'][n], res)\n",
    "\n",
    "    y1 = kpp.onestep(x_list.T).T - y0\n",
    "    return y1, x_list[:,n]"
   ]
  },
  {
   "cell_type": "code",
   "execution_count": 7,
   "metadata": {
    "collapsed": true
   },
   "outputs": [],
   "source": [
    "# construct all 1-st order components\n",
    "y1_list = [None]*(nvar+1)\n",
    "x1_list = [None]*(nvar+1)\n",
    "\n",
    "for n in range(nvar+1):\n",
    "    y1_list[n], x1_list[n] = hdmr_axis(n)"
   ]
  },
  {
   "cell_type": "markdown",
   "metadata": {},
   "source": [
    "## Interpolate"
   ]
  },
  {
   "cell_type": "code",
   "execution_count": 8,
   "metadata": {},
   "outputs": [
    {
     "data": {
      "image/png": "[encoded data removed]",
      "text/plain": [
       "<matplotlib.figure.Figure at 0x11cb93c50>"
      ]
     },
     "metadata": {},
     "output_type": "display_data"
    }
   ],
   "source": [
    "j_in = 34\n",
    "plt.plot(x1_list[j_in], y1_list[j_in], '-o');"
   ]
  },
  {
   "cell_type": "code",
   "execution_count": 9,
   "metadata": {},
   "outputs": [
    {
     "data": {
      "image/png": "[encoded data removed]",
      "text/plain": [
       "<matplotlib.figure.Figure at 0x11ccbd0b8>"
      ]
     },
     "metadata": {},
     "output_type": "display_data"
    }
   ],
   "source": [
    "f = interp1d(x1_list[j_in], y1_list[j_in].T)\n",
    "plt.plot(f(x1_list[j_in]).T);"
   ]
  },
  {
   "cell_type": "code",
   "execution_count": 10,
   "metadata": {
    "collapsed": true
   },
   "outputs": [],
   "source": [
    "# interpolate all HDMR components\n",
    "f1 = []\n",
    "for j_in in range(nvar+1):\n",
    "    f1.append( interp1d(x1_list[j_in], y1_list[j_in].T) )"
   ]
  },
  {
   "cell_type": "code",
   "execution_count": 11,
   "metadata": {},
   "outputs": [
    {
     "data": {
      "text/plain": [
       "array([[  1.28243260e-09,   8.06274615e-09,  -3.40689483e-09,\n",
       "          2.24203958e-09,  -4.67368533e-07,  -4.95419427e-07,\n",
       "          6.72703615e-07,   1.77915000e-07,   9.41755087e-10,\n",
       "          6.24831815e-10,   9.05656287e-11,  -9.15587090e-12,\n",
       "          8.91324828e-08,   1.03174034e-09,  -2.56741623e-09,\n",
       "          2.39054307e-10,  -1.80423124e-10,  -7.92308084e-09,\n",
       "         -1.13834275e-09,   9.75782990e-10,   5.73019302e-10,\n",
       "         -7.04540941e-11,   1.15822963e-09,   7.55289678e-10,\n",
       "         -3.56151804e-07,   9.83098522e-10,   2.36814236e-09,\n",
       "          1.66402222e-09,   9.05679331e-11,   1.19454491e-09,\n",
       "         -2.77567527e-07,   5.34853397e-11,   7.62867350e-11,\n",
       "         -2.29093242e-09]])"
      ]
     },
     "execution_count": 11,
     "metadata": {},
     "output_type": "execute_result"
    }
   ],
   "source": [
    "j_in = 6\n",
    "f1[j_in](df_range['mid'][j_in])/f0"
   ]
  },
  {
   "cell_type": "code",
   "execution_count": 12,
   "metadata": {},
   "outputs": [
    {
     "data": {
      "text/plain": [
       "(34, 10)"
      ]
     },
     "execution_count": 12,
     "metadata": {},
     "output_type": "execute_result"
    }
   ],
   "source": [
    "j_in = 6\n",
    "f1[j_in](np.linspace(df_range['max'][j_in], df_range['max'][j_in], 10)).shape"
   ]
  },
  {
   "cell_type": "code",
   "execution_count": 13,
   "metadata": {
    "collapsed": true
   },
   "outputs": [],
   "source": [
    "def eval_hdmr1(x, f0=f0, f1=f1):\n",
    "    '''Evaluate 1-st order HDMR at x'''\n",
    "    S = 0.0 # to hold the sum of all components\n",
    "    \n",
    "    # 1-st order components\n",
    "    for j_in in range(nvar+1):\n",
    "        S += f1[j_in](x[:,j_in]).T\n",
    "    \n",
    "    # 0-th order term\n",
    "    S += f0\n",
    "    return S"
   ]
  },
  {
   "cell_type": "markdown",
   "metadata": {},
   "source": [
    "## Test set"
   ]
  },
  {
   "cell_type": "code",
   "execution_count": 14,
   "metadata": {
    "collapsed": true
   },
   "outputs": [],
   "source": [
    "df_range['span'] = df_range['max'] - df_range['min']"
   ]
  },
  {
   "cell_type": "code",
   "execution_count": 15,
   "metadata": {},
   "outputs": [
    {
     "data": {
      "text/plain": [
       "(5000, 35)"
      ]
     },
     "execution_count": 15,
     "metadata": {},
     "output_type": "execute_result"
    }
   ],
   "source": [
    "#x_test = np.random.uniform(df_range['min'], df_range['max'], size=(5000, nvar+1))\n",
    "\n",
    "x_test = np.random.uniform(df_range['min'] + 0.3*df_range['span'],\n",
    "                           df_range['max'] - 0.3*df_range['span'], \n",
    "                           size=(5000, nvar+1))\n",
    "\n",
    "x_test.shape"
   ]
  },
  {
   "cell_type": "code",
   "execution_count": 16,
   "metadata": {},
   "outputs": [
    {
     "name": "stdout",
     "output_type": "stream",
     "text": [
      "CPU times: user 61.2 ms, sys: 10 ms, total: 71.3 ms\n",
      "Wall time: 49.5 ms\n"
     ]
    },
    {
     "data": {
      "text/plain": [
       "(5000, 34)"
      ]
     },
     "execution_count": 16,
     "metadata": {},
     "output_type": "execute_result"
    }
   ],
   "source": [
    "%time y_test_pred = eval_hdmr1(x_test)\n",
    "y_test_pred.shape"
   ]
  },
  {
   "cell_type": "code",
   "execution_count": 17,
   "metadata": {},
   "outputs": [
    {
     "name": "stdout",
     "output_type": "stream",
     "text": [
      "CPU times: user 1.18 s, sys: 10.5 ms, total: 1.19 s\n",
      "Wall time: 1.19 s\n"
     ]
    },
    {
     "data": {
      "text/plain": [
       "(5000, 34)"
      ]
     },
     "execution_count": 17,
     "metadata": {},
     "output_type": "execute_result"
    }
   ],
   "source": [
    "%time y_test_true = kpp.onestep(x_test.T).T\n",
    "y_test_true.shape"
   ]
  },
  {
   "cell_type": "code",
   "execution_count": 18,
   "metadata": {},
   "outputs": [
    {
     "data": {
      "text/plain": [
       "0.99999977456428912"
      ]
     },
     "execution_count": 18,
     "metadata": {},
     "output_type": "execute_result"
    }
   ],
   "source": [
    "r2_score(y_test_pred.ravel(), y_test_true.ravel())"
   ]
  },
  {
   "cell_type": "code",
   "execution_count": 19,
   "metadata": {},
   "outputs": [
    {
     "data": {
      "text/plain": [
       "0.99952650995095549"
      ]
     },
     "execution_count": 19,
     "metadata": {},
     "output_type": "execute_result"
    }
   ],
   "source": [
    "r2_score((y_test_pred/df_range['max'][:-1].values).ravel(), \n",
    "         (y_test_true/df_range['max'][:-1].values).ravel())"
   ]
  },
  {
   "cell_type": "code",
   "execution_count": 20,
   "metadata": {},
   "outputs": [
    {
     "data": {
      "text/plain": [
       "<matplotlib.collections.PathCollection at 0x11d7b03c8>"
      ]
     },
     "execution_count": 20,
     "metadata": {},
     "output_type": "execute_result"
    },
    {
     "data": {
      "image/png": "[encoded data removed]",
      "text/plain": [
       "<matplotlib.figure.Figure at 0x11cd060f0>"
      ]
     },
     "metadata": {},
     "output_type": "display_data"
    }
   ],
   "source": [
    "plt.scatter(y_test_pred/df_range['max'][:-1].values, \n",
    "            y_test_true/df_range['max'][:-1].values,\n",
    "            s=0.2)"
   ]
  },
  {
   "cell_type": "markdown",
   "metadata": {},
   "source": [
    "# Second-order components"
   ]
  },
  {
   "cell_type": "code",
   "execution_count": 21,
   "metadata": {},
   "outputs": [
    {
     "data": {
      "application/vnd.jupyter.widget-view+json": {
       "model_id": "685d197c8ebf4fddb191087e37655302"
      }
     },
     "metadata": {},
     "output_type": "display_data"
    }
   ],
   "source": [
    "@interact(n=IntSlider(min=0,max=34,step=1,value=21,continuous_update=False),\n",
    "          m=IntSlider(min=0,max=34,step=1,value=27,continuous_update=False),\n",
    "          k=IntSlider(min=0,max=33,step=1,value=33,continuous_update=False))\n",
    "def plot_2d(n, m, k):\n",
    "    res = 20 # resolution\n",
    "\n",
    "    range_n = np.linspace(df_range['min'][n], df_range['max'][n], res)\n",
    "    range_m = np.linspace(df_range['min'][m], df_range['max'][m], res)\n",
    "\n",
    "    x_list = np.empty([res, res, nvar+1])\n",
    "    x_list[:] = df_range['mid'].values\n",
    "    x_list[:,:,n] = range_n.reshape(1,res)\n",
    "    x_list[:,:,m] = range_m.reshape(res,1)\n",
    "\n",
    "    y = kpp.onestep(x_list.reshape(res*res,-1).T).T\n",
    "    \n",
    "    plt.pcolormesh(range_n, range_m, y.reshape(res,res,-1)[...,k])\n",
    "    plt.xlabel(df_range.iloc[n].name)\n",
    "    plt.ylabel(df_range.iloc[m].name)\n",
    "    plt.title(df_range.iloc[k].name)\n",
    "    plt.show()"
   ]
  },
  {
   "cell_type": "code",
   "execution_count": 22,
   "metadata": {
    "collapsed": true
   },
   "outputs": [],
   "source": [
    "def hdmr_plane(n, m, res = 10):\n",
    "    '''Sample along one 2D plane'''\n",
    "\n",
    "    range_n = np.linspace(df_range['min'][n], df_range['max'][n], res)\n",
    "    range_m = np.linspace(df_range['min'][m], df_range['max'][m], res)\n",
    "\n",
    "    x_list = np.empty([res, res, nvar+1])\n",
    "    x_list[:] = df_range['mid'].values\n",
    "    x_list[:,:,n] = range_n.reshape(1,res)\n",
    "    x_list[:,:,m] = range_m.reshape(res,1)\n",
    "\n",
    "    y = kpp.onestep(x_list.reshape(res*res,-1).T).T.reshape(res,res,-1)\n",
    "    \n",
    "    # Use 1D axis to approximate 2D plane\n",
    "    y_approx = y1_list[n].reshape(1, res, -1) + y1_list[m].reshape(res, 1, -1) + y0\n",
    "    \n",
    "    y2 = y - y_approx # store the differene in 2-nd order components\n",
    "\n",
    "    return y2"
   ]
  },
  {
   "cell_type": "code",
   "execution_count": 23,
   "metadata": {
    "scrolled": true
   },
   "outputs": [
    {
     "name": "stdout",
     "output_type": "stream",
     "text": [
      "0 1 2 3 4 5 6 7 8 9 10 11 12 13 14 15 16 17 18 19 20 21 22 23 24 25 26 27 28 29 30 31 32 33 34 CPU times: user 19.1 s, sys: 205 ms, total: 19.3 s\n",
      "Wall time: 21 s\n"
     ]
    }
   ],
   "source": [
    "%%time\n",
    "# construct all 2-nd order components\n",
    "y2_list = np.empty([nvar+1, nvar+1], dtype=object)\n",
    "x2_list = np.empty([nvar+1, nvar+1], dtype=object)\n",
    "\n",
    "for n in range(nvar+1):\n",
    "    print(n, end=' ')\n",
    "    for m in range(nvar+1):\n",
    "        if m==n:\n",
    "            break\n",
    "        y2_list[n,m] = hdmr_plane(n, m)"
   ]
  },
  {
   "cell_type": "markdown",
   "metadata": {},
   "source": [
    "## Difference between 1D approximation and true 2D plane"
   ]
  },
  {
   "cell_type": "code",
   "execution_count": 24,
   "metadata": {},
   "outputs": [
    {
     "data": {
      "application/vnd.jupyter.widget-view+json": {
       "model_id": "e05aff56ad8742dabcd599f532be9b74"
      }
     },
     "metadata": {},
     "output_type": "display_data"
    }
   ],
   "source": [
    "@interact(n=IntSlider(min=0,max=34,step=1,value=33,continuous_update=False),\n",
    "          m=IntSlider(min=0,max=34,step=1,value=29,continuous_update=False),\n",
    "          k=IntSlider(min=0,max=33,step=1,value=20,continuous_update=False))\n",
    "def plot_2d_diff(n, m, k):\n",
    "    \n",
    "    if n < m:\n",
    "        m, n = n, m\n",
    "    if n == m:\n",
    "        print('no 2D component for n=m')\n",
    "        return\n",
    "    \n",
    "    res = 10 # determined by data\n",
    "    \n",
    "    range_n = np.linspace(df_range['min'][n], df_range['max'][n], res)\n",
    "    range_m = np.linspace(df_range['min'][m], df_range['max'][m], res)\n",
    "    \n",
    "    # Use 1D axis to approximate 2D plane\n",
    "    y2_approx = y1_list[n].reshape(1, res, -1) + y1_list[m].reshape(res, 1, -1) + y0\n",
    "    \n",
    "    ratio = y2_list[n,m][...,k]/y2_approx[...,k]\n",
    "    ratio_range = np.max(np.abs(ratio))\n",
    "    \n",
    "    plt.pcolormesh(range_n, range_m, ratio,\n",
    "                   cmap='bwr', vmin=-ratio_range, vmax=ratio_range)\n",
    "    \n",
    "    plt.xlabel(df_range.iloc[n].name)\n",
    "    plt.ylabel(df_range.iloc[m].name)\n",
    "    plt.title(df_range.iloc[k].name)\n",
    "    \n",
    "    plt.colorbar()\n",
    "    plt.show()"
   ]
  },
  {
   "cell_type": "markdown",
   "metadata": {},
   "source": [
    "Strong correlation between SUN (last variable) and other variables."
   ]
  },
  {
   "cell_type": "code",
   "execution_count": 25,
   "metadata": {
    "collapsed": true
   },
   "outputs": [],
   "source": [
    "ratio_list = np.empty([nvar+1, nvar+1], dtype=object)\n",
    "\n",
    "res = 10\n",
    "for n in range(nvar+1):\n",
    "    for m in range(nvar+1):\n",
    "        if n <= m:\n",
    "            break\n",
    "        y2_approx = y1_list[n].reshape(1, res, -1) + y1_list[m].reshape(res, 1, -1) + y0\n",
    "        ratio_list[n,m] = y2_list[n,m]/y2_approx"
   ]
  },
  {
   "cell_type": "code",
   "execution_count": 26,
   "metadata": {},
   "outputs": [
    {
     "name": "stdout",
     "output_type": "stream",
     "text": [
      "21 17 0.331095016063\n",
      "27 6 0.112238959713\n",
      "27 7 0.141664318166\n",
      "27 17 0.139707936641\n",
      "27 21 849.373160491\n",
      "28 21 0.66110787723\n",
      "29 7 0.135333525922\n",
      "29 21 9.87806255738\n",
      "29 27 0.353542082494\n",
      "30 27 0.346435160737\n",
      "30 29 0.207294821365\n",
      "33 7 0.127779299102\n",
      "33 11 0.122933197142\n",
      "33 21 6.90904172205\n",
      "33 27 0.335150164119\n",
      "33 29 0.799783108799\n",
      "33 30 0.197819781203\n",
      "34 0 25.481695494\n",
      "34 1 3.16916197085\n",
      "34 2 22.2864407016\n",
      "34 3 34.4010160575\n",
      "34 4 28.3936159993\n",
      "34 5 2.29197316675\n",
      "34 6 235.941808703\n",
      "34 7 46.0928413124\n",
      "34 8 2.47406301186\n",
      "34 9 2.95984613602\n",
      "34 10 3.14762043439\n",
      "34 11 26.0151714399\n",
      "34 12 30.5423137142\n",
      "34 13 15.667848493\n",
      "34 14 3.01790323876\n",
      "34 15 69.6729754342\n",
      "34 16 18.2519861624\n",
      "34 17 6.75169629243\n",
      "34 18 3.11743656512\n",
      "34 19 2.30495095214\n",
      "34 20 24.7975008043\n",
      "34 21 2976.01165799\n",
      "34 22 37.8305090871\n",
      "34 23 41.4568672012\n",
      "34 24 10.1710059423\n",
      "34 25 17.1403067738\n",
      "34 26 9.26247013069\n",
      "34 27 74.027259101\n",
      "34 28 12.7303454444\n",
      "34 29 733.662218254\n",
      "34 30 19.9583778353\n",
      "34 31 27.4070611366\n",
      "34 32 13.8666725639\n",
      "34 33 21.1763214321\n"
     ]
    }
   ],
   "source": [
    "for n in range(nvar+1):\n",
    "    for m in range(nvar+1):\n",
    "        if n <= m:\n",
    "            break\n",
    "        #max_temp = np.max(np.mean(np.abs(ratio_list[n,m]), axis=2))\n",
    "        max_temp = np.max(np.max(np.abs(ratio_list[n,m]), axis=2))\n",
    "        if max_temp > 0.1:\n",
    "            print(n, m, max_temp)"
   ]
  },
  {
   "cell_type": "markdown",
   "metadata": {},
   "source": [
    "## Interpolation"
   ]
  },
  {
   "cell_type": "code",
   "execution_count": 27,
   "metadata": {
    "collapsed": true
   },
   "outputs": [],
   "source": [
    "res = 10\n",
    "n = 34 # SUN\n",
    "range_n = np.linspace(df_range['min'][n], df_range['max'][n], res)\n",
    "\n",
    "# interpolate all HDMR components\n",
    "f2_SUN = np.empty([nvar, nvar], dtype=object) # [input except SUN, output]\n",
    "\n",
    "for m in range(nvar): # input except SUN\n",
    "    range_m = np.linspace(df_range['min'][m], df_range['max'][m], res)\n",
    "    \n",
    "    for k in range(nvar): # output variable\n",
    "        # interp2d can only fit one level at a time\n",
    "        f2_SUN[m,k] = interp2d(range_n, range_m, y2_list[n,m][...,k])"
   ]
  },
  {
   "cell_type": "code",
   "execution_count": 28,
   "metadata": {
    "collapsed": true
   },
   "outputs": [],
   "source": [
    "def eval_hdmr2_sun(x, f2_SUN=f2_SUN):\n",
    "    '''\n",
    "    Evaluate 2-nd order HDMR at x\n",
    "    Only consider correlation with SUN. Skip other correlations\n",
    "    '''\n",
    "    S = eval_hdmr1(x)  # start with 1-st order approx\n",
    "    \n",
    "    for i, xi in enumerate(x): # data points\n",
    "        for k in range(nvar): # output variable\n",
    "            for m in range(nvar):\n",
    "                S[i, k] += f2_SUN[m, k](xi[-1], xi[m])\n",
    "\n",
    "    return S"
   ]
  },
  {
   "cell_type": "markdown",
   "metadata": {},
   "source": [
    "## Test set"
   ]
  },
  {
   "cell_type": "code",
   "execution_count": 29,
   "metadata": {},
   "outputs": [
    {
     "data": {
      "text/plain": [
       "(5000, 35)"
      ]
     },
     "execution_count": 29,
     "metadata": {},
     "output_type": "execute_result"
    }
   ],
   "source": [
    "x_test.shape"
   ]
  },
  {
   "cell_type": "code",
   "execution_count": 30,
   "metadata": {},
   "outputs": [
    {
     "name": "stdout",
     "output_type": "stream",
     "text": [
      "CPU times: user 9.32 s, sys: 126 ms, total: 9.44 s\n",
      "Wall time: 10.4 s\n"
     ]
    },
    {
     "data": {
      "text/plain": [
       "(200, 34)"
      ]
     },
     "execution_count": 30,
     "metadata": {},
     "output_type": "execute_result"
    }
   ],
   "source": [
    "%time y_test_pred_2nd = eval_hdmr2_sun(x_test[:200])\n",
    "y_test_pred_2nd.shape"
   ]
  },
  {
   "cell_type": "code",
   "execution_count": 31,
   "metadata": {},
   "outputs": [
    {
     "data": {
      "text/plain": [
       "0.99999997375450511"
      ]
     },
     "execution_count": 31,
     "metadata": {},
     "output_type": "execute_result"
    }
   ],
   "source": [
    "r2_score(y_test_pred_2nd[:200].ravel(), y_test_true[:200].ravel())"
   ]
  },
  {
   "cell_type": "code",
   "execution_count": 32,
   "metadata": {},
   "outputs": [
    {
     "data": {
      "text/plain": [
       "<matplotlib.collections.PathCollection at 0x11cebe908>"
      ]
     },
     "execution_count": 32,
     "metadata": {},
     "output_type": "execute_result"
    },
    {
     "data": {
      "image/png": "[encoded data removed]",
      "text/plain": [
       "<matplotlib.figure.Figure at 0x11db16710>"
      ]
     },
     "metadata": {},
     "output_type": "display_data"
    }
   ],
   "source": [
    "plt.scatter(y_test_pred_2nd/df_range['max'][:-1].values, \n",
    "            y_test_true[:200]/df_range['max'][:-1].values,\n",
    "            s=0.2)"
   ]
  },
  {
   "cell_type": "markdown",
   "metadata": {},
   "source": [
    "## Add more 2nd-order components"
   ]
  },
  {
   "cell_type": "code",
   "execution_count": 33,
   "metadata": {
    "collapsed": true
   },
   "outputs": [],
   "source": [
    "res = 10\n",
    "n_list = [27, 29, 33] # species with significant correlation with others\n",
    "\n",
    "f2_more = np.empty(len(n_list), dtype=object)\n",
    "\n",
    "for ni, n in enumerate(n_list):\n",
    "    f2_more[ni] = np.empty([n, nvar], dtype=object)\n",
    "    range_n = np.linspace(df_range['min'][n], df_range['max'][n], res)\n",
    "\n",
    "    for m in range(n): # from 0 to n\n",
    "        range_m = np.linspace(df_range['min'][m], df_range['max'][m], res)\n",
    "\n",
    "        for k in range(nvar): # output variable\n",
    "            f2_more[ni][m,k] = interp2d(range_n, range_m, y2_list[n,m][...,k])"
   ]
  },
  {
   "cell_type": "code",
   "execution_count": 34,
   "metadata": {
    "collapsed": true
   },
   "outputs": [],
   "source": [
    "def eval_hdmr2_more(x, f2_more=f2_more):\n",
    "    '''\n",
    "    Add more 2nd-order components\n",
    "    '''\n",
    "    S = eval_hdmr2_sun(x)  # start with previous 2nd-order approx\n",
    "    \n",
    "    for i, xi in enumerate(x): # data points\n",
    "        for ni, n in enumerate(n_list):\n",
    "            for m in range(n):\n",
    "                for k in range(nvar): # output variable\n",
    "                     # remember to use n for input, not -1 anymore\n",
    "                    S[i, k] += f2_more[ni][m,k](xi[n], xi[m])\n",
    "\n",
    "    return S"
   ]
  },
  {
   "cell_type": "markdown",
   "metadata": {},
   "source": [
    "### Debug"
   ]
  },
  {
   "cell_type": "code",
   "execution_count": 35,
   "metadata": {
    "collapsed": true
   },
   "outputs": [],
   "source": [
    "xi = df_range['mid'].values.copy().reshape(1,-1)\n",
    "xi[:,-1] = 0.2\n",
    "xi[:,33] = df_range['min'].iloc[33]\n",
    "xi[:,29] = df_range['max'].iloc[29]"
   ]
  },
  {
   "cell_type": "code",
   "execution_count": 36,
   "metadata": {},
   "outputs": [
    {
     "data": {
      "text/plain": [
       "(1, 34)"
      ]
     },
     "execution_count": 36,
     "metadata": {},
     "output_type": "execute_result"
    }
   ],
   "source": [
    "yi_true = kpp.onestep(xi.T).T\n",
    "yi_true.shape"
   ]
  },
  {
   "cell_type": "code",
   "execution_count": 37,
   "metadata": {},
   "outputs": [
    {
     "data": {
      "text/plain": [
       "array([[ 1.00290836,  1.0008962 ,  1.01106342,  0.99926151,  1.02353459,\n",
       "         1.02499017,  1.01622998,  1.03351743,  0.99403565,  0.99580098,\n",
       "         1.04526468,  0.9984915 ,  1.00085429,  1.03645005,  0.99948014,\n",
       "         1.00002303,  1.00396727,  1.00931033,  1.00367441,  1.01887461,\n",
       "         1.48141834,  0.99969033,  1.0621583 ,  0.99487657,  0.99738783,\n",
       "         0.99273513,  0.99926979,  0.99631358,  1.00014984,  0.99578581,\n",
       "         0.98229262,  1.0104797 ,  1.01697129,  1.00328907]])"
      ]
     },
     "execution_count": 37,
     "metadata": {},
     "output_type": "execute_result"
    }
   ],
   "source": [
    "eval_hdmr1(xi)/yi_true"
   ]
  },
  {
   "cell_type": "code",
   "execution_count": 38,
   "metadata": {},
   "outputs": [
    {
     "data": {
      "text/plain": [
       "array([[ 0.99714426,  1.01581302,  1.01442851,  0.98841217,  1.02273569,\n",
       "         1.02484278,  1.01702912,  1.03148875,  0.99416661,  0.99654729,\n",
       "         1.0488581 ,  0.99834116,  1.00111   ,  1.01302787,  0.98265192,\n",
       "         1.00001213,  1.00279541,  1.00850433,  1.00305402,  1.05956269,\n",
       "         1.18313986,  0.99818608,  1.03397341,  0.99834792,  0.99487215,\n",
       "         0.99116607,  0.98841468,  0.9974663 ,  1.00003172,  0.98947597,\n",
       "         0.98223734,  1.01202222,  1.01594635,  1.00840547]])"
      ]
     },
     "execution_count": 38,
     "metadata": {},
     "output_type": "execute_result"
    }
   ],
   "source": [
    "eval_hdmr2_sun(xi)/yi_true"
   ]
  },
  {
   "cell_type": "code",
   "execution_count": 39,
   "metadata": {},
   "outputs": [
    {
     "data": {
      "text/plain": [
       "array([[ 1.00806677,  1.0087094 ,  1.01653458,  0.99407817,  1.02498967,\n",
       "         1.02713692,  1.01147425,  1.03533379,  1.00876024,  1.01505139,\n",
       "         1.04873445,  0.99834519,  1.00093187,  0.97885817,  0.99374925,\n",
       "         0.99994613,  1.00019247,  1.00447365,  0.99917212,  1.13174245,\n",
       "         0.69447131,  0.99872062,  1.03890631,  1.00387657,  0.99864607,\n",
       "         1.01406686,  0.9940807 ,  0.99903328,  1.00001193,  0.98702959,\n",
       "         0.98545553,  1.01200855,  0.9965982 ,  1.01049169]])"
      ]
     },
     "execution_count": 39,
     "metadata": {},
     "output_type": "execute_result"
    }
   ],
   "source": [
    "eval_hdmr2_more(xi)/yi_true"
   ]
  },
  {
   "cell_type": "markdown",
   "metadata": {},
   "source": [
    "### Test "
   ]
  },
  {
   "cell_type": "code",
   "execution_count": 40,
   "metadata": {
    "scrolled": true
   },
   "outputs": [
    {
     "name": "stdout",
     "output_type": "stream",
     "text": [
      "CPU times: user 23.5 s, sys: 255 ms, total: 23.7 s\n",
      "Wall time: 24.4 s\n"
     ]
    },
    {
     "data": {
      "text/plain": [
       "(200, 34)"
      ]
     },
     "execution_count": 40,
     "metadata": {},
     "output_type": "execute_result"
    }
   ],
   "source": [
    "%time y_test_pred_2nd_more = eval_hdmr2_more(x_test[:200])\n",
    "y_test_pred_2nd_more.shape"
   ]
  },
  {
   "cell_type": "code",
   "execution_count": 41,
   "metadata": {},
   "outputs": [
    {
     "data": {
      "text/plain": [
       "0.99943412742388793"
      ]
     },
     "execution_count": 41,
     "metadata": {},
     "output_type": "execute_result"
    }
   ],
   "source": [
    "r2_score(y_test_pred_2nd_more, y_test_true[:200])"
   ]
  },
  {
   "cell_type": "code",
   "execution_count": 42,
   "metadata": {
    "scrolled": true
   },
   "outputs": [
    {
     "data": {
      "text/plain": [
       "<matplotlib.collections.PathCollection at 0x11dd9e128>"
      ]
     },
     "execution_count": 42,
     "metadata": {},
     "output_type": "execute_result"
    },
    {
     "data": {
      "image/png": "[encoded data removed]",
      "text/plain": [
       "<matplotlib.figure.Figure at 0x11dd35e48>"
      ]
     },
     "metadata": {},
     "output_type": "display_data"
    }
   ],
   "source": [
    "plt.scatter(y_test_pred_2nd_more/df_range['max'][:-1].values, \n",
    "            y_test_true[:200]/df_range['max'][:-1].values,\n",
    "            s=0.2)"
   ]
  },
  {
   "cell_type": "code",
   "execution_count": null,
   "metadata": {
    "collapsed": true
   },
   "outputs": [],
   "source": []
  }
 ],
 "metadata": {
  "kernelspec": {
   "display_name": "Python 3",
   "language": "python",
   "name": "python3"
  },
  "language_info": {
   "codemirror_mode": {
    "name": "ipython",
    "version": 3
   },
   "file_extension": ".py",
   "mimetype": "text/x-python",
   "name": "python",
   "nbconvert_exporter": "python",
   "pygments_lexer": "ipython3",
   "version": "3.6.2"
  },
  "toc": {
   "nav_menu": {},
   "number_sections": true,
   "sideBar": true,
   "skip_h1_title": false,
   "toc_cell": false,
   "toc_position": {},
   "toc_section_display": "block",
   "toc_window_display": false
  }
 },
 "nbformat": 4,
 "nbformat_minor": 2
}
