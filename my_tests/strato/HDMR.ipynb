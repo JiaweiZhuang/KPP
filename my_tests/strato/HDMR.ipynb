{
 "cells": [
  {
   "cell_type": "code",
   "execution_count": 1,
   "metadata": {},
   "outputs": [],
   "source": [
    "%matplotlib inline\n",
    "import matplotlib.pyplot as plt\n",
    "import pandas as pd\n",
    "import numpy as np\n",
    "\n",
    "from scipy.interpolate import interp1d, interp2d\n",
    "\n",
    "from sklearn.preprocessing import StandardScaler\n",
    "from sklearn.metrics import r2_score\n",
    "\n",
    "from ipywidgets import interact, IntSlider"
   ]
  },
  {
   "cell_type": "markdown",
   "metadata": {},
   "source": [
    "# Preparation"
   ]
  },
  {
   "cell_type": "code",
   "execution_count": 2,
   "metadata": {},
   "outputs": [
    {
     "name": "stdout",
     "output_type": "stream",
     "text": [
      "['CH3', 'Cl2', 'Cl2O2', 'ClOO', 'OClO', 'BrCl', 'HOBr', 'BrONO2', 'HCO', 'CH3O', 'O1D', 'N2O5', 'HBr', 'CH3OOH', 'HNO4', 'HCl', 'H2O2', 'HOCl', 'HNO3', 'H', 'CH3O2', 'ClONO2', 'NO3', 'CH2O', 'Br', 'OH', 'Cl', 'ClO', 'O3', 'NO', 'BrO', 'O', 'HO2', 'NO2']\n"
     ]
    }
   ],
   "source": [
    "from read_results import read_varnames\n",
    "import strato_code.kpp4py as kpp\n",
    "\n",
    "nvar = 34\n",
    "varnames = read_varnames(\"strato_code/strato_Parameters.f90\")[0:nvar]\n",
    "print(varnames)"
   ]
  },
  {
   "cell_type": "code",
   "execution_count": 3,
   "metadata": {},
   "outputs": [
    {
     "data": {
      "text/html": [
       "<div>\n",
       "<style scoped>\n",
       "    .dataframe tbody tr th:only-of-type {\n",
       "        vertical-align: middle;\n",
       "    }\n",
       "\n",
       "    .dataframe tbody tr th {\n",
       "        vertical-align: top;\n",
       "    }\n",
       "\n",
       "    .dataframe thead th {\n",
       "        text-align: right;\n",
       "    }\n",
       "</style>\n",
       "<table border=\"1\" class=\"dataframe\">\n",
       "  <thead>\n",
       "    <tr style=\"text-align: right;\">\n",
       "      <th></th>\n",
       "      <th>min</th>\n",
       "      <th>max</th>\n",
       "      <th>mid</th>\n",
       "    </tr>\n",
       "  </thead>\n",
       "  <tbody>\n",
       "    <tr>\n",
       "      <th>OH</th>\n",
       "      <td>3.791087e+01</td>\n",
       "      <td>1.655987e+07</td>\n",
       "      <td>8.279952e+06</td>\n",
       "    </tr>\n",
       "    <tr>\n",
       "      <th>Cl</th>\n",
       "      <td>7.667911e-01</td>\n",
       "      <td>7.642127e+05</td>\n",
       "      <td>3.821067e+05</td>\n",
       "    </tr>\n",
       "    <tr>\n",
       "      <th>ClO</th>\n",
       "      <td>2.236826e+07</td>\n",
       "      <td>8.342272e+07</td>\n",
       "      <td>5.289549e+07</td>\n",
       "    </tr>\n",
       "    <tr>\n",
       "      <th>O3</th>\n",
       "      <td>4.342945e+11</td>\n",
       "      <td>5.292275e+11</td>\n",
       "      <td>4.817610e+11</td>\n",
       "    </tr>\n",
       "    <tr>\n",
       "      <th>NO</th>\n",
       "      <td>1.000000e-08</td>\n",
       "      <td>8.828713e+08</td>\n",
       "      <td>4.414357e+08</td>\n",
       "    </tr>\n",
       "    <tr>\n",
       "      <th>BrO</th>\n",
       "      <td>1.096853e+04</td>\n",
       "      <td>9.603792e+05</td>\n",
       "      <td>4.856739e+05</td>\n",
       "    </tr>\n",
       "    <tr>\n",
       "      <th>O</th>\n",
       "      <td>1.000000e-08</td>\n",
       "      <td>6.590324e+08</td>\n",
       "      <td>3.295162e+08</td>\n",
       "    </tr>\n",
       "    <tr>\n",
       "      <th>HO2</th>\n",
       "      <td>9.779919e+02</td>\n",
       "      <td>1.166693e+07</td>\n",
       "      <td>5.833955e+06</td>\n",
       "    </tr>\n",
       "    <tr>\n",
       "      <th>NO2</th>\n",
       "      <td>2.134505e+08</td>\n",
       "      <td>1.066423e+09</td>\n",
       "      <td>6.399367e+08</td>\n",
       "    </tr>\n",
       "    <tr>\n",
       "      <th>SUN</th>\n",
       "      <td>0.000000e+00</td>\n",
       "      <td>1.000000e+00</td>\n",
       "      <td>5.000000e-01</td>\n",
       "    </tr>\n",
       "  </tbody>\n",
       "</table>\n",
       "</div>"
      ],
      "text/plain": [
       "              min           max           mid\n",
       "OH   3.791087e+01  1.655987e+07  8.279952e+06\n",
       "Cl   7.667911e-01  7.642127e+05  3.821067e+05\n",
       "ClO  2.236826e+07  8.342272e+07  5.289549e+07\n",
       "O3   4.342945e+11  5.292275e+11  4.817610e+11\n",
       "NO   1.000000e-08  8.828713e+08  4.414357e+08\n",
       "BrO  1.096853e+04  9.603792e+05  4.856739e+05\n",
       "O    1.000000e-08  6.590324e+08  3.295162e+08\n",
       "HO2  9.779919e+02  1.166693e+07  5.833955e+06\n",
       "NO2  2.134505e+08  1.066423e+09  6.399367e+08\n",
       "SUN  0.000000e+00  1.000000e+00  5.000000e-01"
      ]
     },
     "execution_count": 3,
     "metadata": {},
     "output_type": "execute_result"
    }
   ],
   "source": [
    "df_range = (\n",
    "    pd.read_csv('strato_range.csv', index_col=0)\n",
    "    .append(pd.DataFrame(np.array([[0.0, 1.0]]), \n",
    "                         columns=['min','max'], \n",
    "                         index=['SUN']\n",
    "                        )\n",
    "           )\n",
    ")\n",
    "\n",
    "df_range['mid'] = 0.5*(df_range['min']+df_range['max'])\n",
    "df_range.tail(10)"
   ]
  },
  {
   "cell_type": "markdown",
   "metadata": {},
   "source": [
    "## 0-th order"
   ]
  },
  {
   "cell_type": "code",
   "execution_count": 4,
   "metadata": {},
   "outputs": [
    {
     "data": {
      "text/plain": [
       "((35,), (1, 34))"
      ]
     },
     "execution_count": 4,
     "metadata": {},
     "output_type": "execute_result"
    }
   ],
   "source": [
    "x0 = df_range['mid'].values\n",
    "f0 = y0 = kpp.onestep(x0.T).T\n",
    "x0.shape, y0.shape"
   ]
  },
  {
   "cell_type": "markdown",
   "metadata": {},
   "source": [
    "## 1-st orer"
   ]
  },
  {
   "cell_type": "code",
   "execution_count": 5,
   "metadata": {},
   "outputs": [
    {
     "data": {
      "application/vnd.jupyter.widget-view+json": {
       "model_id": "143edf9c281e4147aa462924f9bccd77"
      }
     },
     "metadata": {},
     "output_type": "display_data"
    }
   ],
   "source": [
    "@interact(n=IntSlider(min=0,max=34,step=1,value=29,continuous_update=False))\n",
    "def plot_1d(n):\n",
    "    res = 20 # resolution\n",
    "\n",
    "    x_list = np.empty([res, nvar+1])\n",
    "    x_list[:] = df_range['mid'].values\n",
    "\n",
    "    x_list[:,n] = np.linspace(df_range['min'][n],df_range['max'][n], res)\n",
    "\n",
    "    y = kpp.onestep(x_list.T).T\n",
    "    plt.plot(x_list[:,n], y/y0-1)\n",
    "    plt.ylim(-1,1)\n",
    "    plt.show()"
   ]
  },
  {
   "cell_type": "code",
   "execution_count": 6,
   "metadata": {
    "collapsed": true
   },
   "outputs": [],
   "source": [
    "def hdmr_axis(n, res = 10):\n",
    "    '''Sample along one axis'''\n",
    "    x_list = np.empty([res, nvar+1])\n",
    "    x_list[:] = df_range['mid'].values\n",
    "    x_list[:,n] = np.linspace(df_range['min'][n],df_range['max'][n], res)\n",
    "\n",
    "    y1 = kpp.onestep(x_list.T).T - y0\n",
    "    return y1, x_list[:,n]"
   ]
  },
  {
   "cell_type": "code",
   "execution_count": 7,
   "metadata": {
    "collapsed": true
   },
   "outputs": [],
   "source": [
    "# construct all 1-st order components\n",
    "y1_list = [None]*(nvar+1)\n",
    "x1_list = [None]*(nvar+1)\n",
    "\n",
    "for n in range(nvar+1):\n",
    "    y1_list[n], x1_list[n] = hdmr_axis(n)"
   ]
  },
  {
   "cell_type": "markdown",
   "metadata": {},
   "source": [
    "## Interpolate"
   ]
  },
  {
   "cell_type": "code",
   "execution_count": 8,
   "metadata": {},
   "outputs": [
    {
     "data": {
      "image/png": "[encoded data removed]",
      "text/plain": [
       "<matplotlib.figure.Figure at 0x1105a2c88>"
      ]
     },
     "metadata": {},
     "output_type": "display_data"
    }
   ],
   "source": [
    "j_in = 34\n",
    "plt.plot(x1_list[j_in], y1_list[j_in], '-o');"
   ]
  },
  {
   "cell_type": "code",
   "execution_count": 9,
   "metadata": {},
   "outputs": [
    {
     "data": {
      "image/png": "[encoded data removed]",
      "text/plain": [
       "<matplotlib.figure.Figure at 0x104640710>"
      ]
     },
     "metadata": {},
     "output_type": "display_data"
    }
   ],
   "source": [
    "f = interp1d(x1_list[j_in], y1_list[j_in].T)\n",
    "plt.plot(f(x1_list[j_in]).T);"
   ]
  },
  {
   "cell_type": "code",
   "execution_count": 10,
   "metadata": {
    "collapsed": true
   },
   "outputs": [],
   "source": [
    "# interpolate all HDMR components\n",
    "f1 = []\n",
    "for j_in in range(nvar+1):\n",
    "    f1.append( interp1d(x1_list[j_in], y1_list[j_in].T) )"
   ]
  },
  {
   "cell_type": "code",
   "execution_count": 11,
   "metadata": {},
   "outputs": [
    {
     "data": {
      "text/plain": [
       "array([[  1.28243260e-09,   8.06274615e-09,  -3.40689483e-09,\n",
       "          2.24203958e-09,  -4.67368533e-07,  -4.95419427e-07,\n",
       "          6.72703615e-07,   1.77915000e-07,   9.41755087e-10,\n",
       "          6.24831815e-10,   9.05656287e-11,  -9.15587090e-12,\n",
       "          8.91324828e-08,   1.03174034e-09,  -2.56741623e-09,\n",
       "          2.39054307e-10,  -1.80423124e-10,  -7.92308084e-09,\n",
       "         -1.13834275e-09,   9.75782990e-10,   5.73019302e-10,\n",
       "         -7.04540941e-11,   1.15822963e-09,   7.55289678e-10,\n",
       "         -3.56151804e-07,   9.83098522e-10,   2.36814236e-09,\n",
       "          1.66402222e-09,   9.05679331e-11,   1.19454491e-09,\n",
       "         -2.77567527e-07,   5.34853397e-11,   7.62867350e-11,\n",
       "         -2.29093242e-09]])"
      ]
     },
     "execution_count": 11,
     "metadata": {},
     "output_type": "execute_result"
    }
   ],
   "source": [
    "j_in = 6\n",
    "f1[j_in](df_range['mid'][j_in])/f0"
   ]
  },
  {
   "cell_type": "code",
   "execution_count": 12,
   "metadata": {},
   "outputs": [
    {
     "data": {
      "text/plain": [
       "(34, 10)"
      ]
     },
     "execution_count": 12,
     "metadata": {},
     "output_type": "execute_result"
    }
   ],
   "source": [
    "j_in = 6\n",
    "f1[j_in](np.linspace(df_range['max'][j_in], df_range['max'][j_in], 10)).shape"
   ]
  },
  {
   "cell_type": "code",
   "execution_count": 13,
   "metadata": {
    "collapsed": true
   },
   "outputs": [],
   "source": [
    "def eval_hdmr1(x, f0=f0, f1=f1):\n",
    "    '''Evaluate 1-st order HDMR at x'''\n",
    "    S = 0.0 # to hold the sum of all components\n",
    "    \n",
    "    # 1-st order components\n",
    "    for j_in in range(nvar+1):\n",
    "        S += f1[j_in](x[:,j_in]).T\n",
    "    \n",
    "    # 0-th order term\n",
    "    S += f0\n",
    "    return S"
   ]
  },
  {
   "cell_type": "markdown",
   "metadata": {},
   "source": [
    "## Test set"
   ]
  },
  {
   "cell_type": "code",
   "execution_count": 14,
   "metadata": {
    "collapsed": true
   },
   "outputs": [],
   "source": [
    "df_range['span'] = df_range['max'] - df_range['min']"
   ]
  },
  {
   "cell_type": "code",
   "execution_count": 15,
   "metadata": {},
   "outputs": [
    {
     "data": {
      "text/plain": [
       "(5000, 35)"
      ]
     },
     "execution_count": 15,
     "metadata": {},
     "output_type": "execute_result"
    }
   ],
   "source": [
    "#x_test = np.random.uniform(df_range['min'], df_range['max'], size=(5000, nvar+1))\n",
    "\n",
    "x_test = np.random.uniform(df_range['min'] + 0.0*df_range['span'],\n",
    "                           df_range['max'] - 0.0*df_range['span'], \n",
    "                           size=(5000, nvar+1))\n",
    "\n",
    "x_test.shape"
   ]
  },
  {
   "cell_type": "code",
   "execution_count": 16,
   "metadata": {},
   "outputs": [
    {
     "name": "stdout",
     "output_type": "stream",
     "text": [
      "CPU times: user 73.4 ms, sys: 9.57 ms, total: 83 ms\n",
      "Wall time: 64.8 ms\n"
     ]
    },
    {
     "data": {
      "text/plain": [
       "(5000, 34)"
      ]
     },
     "execution_count": 16,
     "metadata": {},
     "output_type": "execute_result"
    }
   ],
   "source": [
    "%time y_test_pred = eval_hdmr1(x_test)\n",
    "y_test_pred.shape"
   ]
  },
  {
   "cell_type": "code",
   "execution_count": 17,
   "metadata": {},
   "outputs": [
    {
     "name": "stdout",
     "output_type": "stream",
     "text": [
      "CPU times: user 1.32 s, sys: 7.6 ms, total: 1.33 s\n",
      "Wall time: 1.33 s\n"
     ]
    },
    {
     "data": {
      "text/plain": [
       "(5000, 34)"
      ]
     },
     "execution_count": 17,
     "metadata": {},
     "output_type": "execute_result"
    }
   ],
   "source": [
    "%time y_test_true = kpp.onestep(x_test.T).T\n",
    "y_test_true.shape"
   ]
  },
  {
   "cell_type": "code",
   "execution_count": 18,
   "metadata": {},
   "outputs": [
    {
     "data": {
      "text/plain": [
       "0.86175323267628634"
      ]
     },
     "execution_count": 18,
     "metadata": {},
     "output_type": "execute_result"
    }
   ],
   "source": [
    "r2_score(y_test_pred, y_test_true)"
   ]
  },
  {
   "cell_type": "code",
   "execution_count": 19,
   "metadata": {},
   "outputs": [
    {
     "data": {
      "text/plain": [
       "0.86175323267628612"
      ]
     },
     "execution_count": 19,
     "metadata": {},
     "output_type": "execute_result"
    }
   ],
   "source": [
    "r2_score(y_test_pred/df_range['max'][:-1].values, \n",
    "         y_test_true/df_range['max'][:-1].values)"
   ]
  },
  {
   "cell_type": "code",
   "execution_count": 20,
   "metadata": {},
   "outputs": [
    {
     "data": {
      "text/plain": [
       "<matplotlib.collections.PathCollection at 0x11075b860>"
      ]
     },
     "execution_count": 20,
     "metadata": {},
     "output_type": "execute_result"
    },
    {
     "data": {
      "image/png": "[encoded data removed]",
      "text/plain": [
       "<matplotlib.figure.Figure at 0x110395978>"
      ]
     },
     "metadata": {},
     "output_type": "display_data"
    }
   ],
   "source": [
    "plt.scatter(y_test_pred/df_range['max'][:-1].values, \n",
    "            y_test_true/df_range['max'][:-1].values,\n",
    "            s=0.2)"
   ]
  },
  {
   "cell_type": "markdown",
   "metadata": {},
   "source": [
    "# Second-order components"
   ]
  },
  {
   "cell_type": "code",
   "execution_count": 21,
   "metadata": {},
   "outputs": [
    {
     "data": {
      "application/vnd.jupyter.widget-view+json": {
       "model_id": "e20b42a779c44411973359a45e99bedc"
      }
     },
     "metadata": {},
     "output_type": "display_data"
    }
   ],
   "source": [
    "@interact(n=IntSlider(min=0,max=34,step=1,value=21,continuous_update=False),\n",
    "          m=IntSlider(min=0,max=34,step=1,value=27,continuous_update=False),\n",
    "          k=IntSlider(min=0,max=33,step=1,value=33,continuous_update=False))\n",
    "def plot_2d(n, m, k):\n",
    "    res = 20 # resolution\n",
    "\n",
    "    range_n = np.linspace(df_range['min'][n], df_range['max'][n], res)\n",
    "    range_m = np.linspace(df_range['min'][m], df_range['max'][m], res)\n",
    "\n",
    "    x_list = np.empty([res, res, nvar+1])\n",
    "    x_list[:] = df_range['mid'].values\n",
    "    x_list[:,:,n] = range_n.reshape(1,res)\n",
    "    x_list[:,:,m] = range_m.reshape(res,1)\n",
    "\n",
    "    y = kpp.onestep(x_list.reshape(res*res,-1).T).T\n",
    "    \n",
    "    plt.pcolormesh(range_n, range_m, y.reshape(res,res,-1)[...,k])\n",
    "    plt.xlabel(df_range.iloc[n].name)\n",
    "    plt.ylabel(df_range.iloc[m].name)\n",
    "    plt.title(df_range.iloc[k].name)\n",
    "    plt.show()"
   ]
  },
  {
   "cell_type": "code",
   "execution_count": 22,
   "metadata": {},
   "outputs": [],
   "source": [
    "def hdmr_plane(n, m, res = 10):\n",
    "    '''Sample along one 2D plane'''\n",
    "    x_list = np.empty([res, nvar+1])\n",
    "    x_list[:] = df_range['mid'].values\n",
    "    x_list[:,n] = np.linspace(df_range['min'][n],df_range['max'][n], res)\n",
    "\n",
    "    range_n = np.linspace(df_range['min'][n], df_range['max'][n], res)\n",
    "    range_m = np.linspace(df_range['min'][m], df_range['max'][m], res)\n",
    "\n",
    "    x_list = np.empty([res, res, nvar+1])\n",
    "    x_list[:] = df_range['mid'].values\n",
    "    x_list[:,:,n] = range_n.reshape(1,res)\n",
    "    x_list[:,:,m] = range_m.reshape(res,1)\n",
    "\n",
    "    y = kpp.onestep(x_list.reshape(res*res,-1).T).T.reshape(res,res,-1)\n",
    "    \n",
    "    # Use 1D axis to approximate 2D plane\n",
    "    y_approx = y1_list[n].reshape(res, 1, -1) + y1_list[m].reshape(1, res, -1) + y0\n",
    "    \n",
    "    y2 = y - y_approx # store the differene in 2-nd order components\n",
    "\n",
    "    return y2"
   ]
  },
  {
   "cell_type": "code",
   "execution_count": 23,
   "metadata": {
    "scrolled": true
   },
   "outputs": [
    {
     "name": "stdout",
     "output_type": "stream",
     "text": [
      "0 1 2 3 4 5 6 7 8 9 10 11 12 13 14 15 16 17 18 19 20 21 22 23 24 25 26 27 28 29 30 31 32 33 34 CPU times: user 15 s, sys: 157 ms, total: 15.1 s\n",
      "Wall time: 15.3 s\n"
     ]
    }
   ],
   "source": [
    "%%time\n",
    "# construct all 2-nd order components\n",
    "y2_list = np.empty([nvar+1, nvar+1], dtype=object)\n",
    "x2_list = np.empty([nvar+1, nvar+1], dtype=object)\n",
    "\n",
    "for n in range(nvar+1):\n",
    "    print(n, end=' ')\n",
    "    for m in range(nvar+1):\n",
    "        if m==n:\n",
    "            break\n",
    "        y2_list[n,m] = hdmr_plane(n, m)"
   ]
  },
  {
   "cell_type": "markdown",
   "metadata": {},
   "source": [
    "## Difference between 1D approximation and true 2D plane"
   ]
  },
  {
   "cell_type": "code",
   "execution_count": 24,
   "metadata": {},
   "outputs": [
    {
     "data": {
      "application/vnd.jupyter.widget-view+json": {
       "model_id": "768e32e5efac4c7c837a10cb9f6fb22f"
      }
     },
     "metadata": {},
     "output_type": "display_data"
    }
   ],
   "source": [
    "@interact(n=IntSlider(min=0,max=34,step=1,value=33,continuous_update=False),\n",
    "          m=IntSlider(min=0,max=34,step=1,value=29,continuous_update=False),\n",
    "          k=IntSlider(min=0,max=33,step=1,value=20,continuous_update=False))\n",
    "def plot_2d_diff(n, m, k):\n",
    "    \n",
    "    if n < m:\n",
    "        m, n = n, m\n",
    "    if n == m:\n",
    "        print('no 2D component for n=m')\n",
    "        return\n",
    "    \n",
    "    res = 10 # determined by data\n",
    "    \n",
    "    range_n = np.linspace(df_range['min'][n], df_range['max'][n], res)\n",
    "    range_m = np.linspace(df_range['min'][m], df_range['max'][m], res)\n",
    "    \n",
    "    # Use 1D axis to approximate 2D plane\n",
    "    y2_approx = y1_list[n].reshape(res, 1, -1) + y1_list[m].reshape(1, res, -1) + y0\n",
    "    \n",
    "    ratio = y2_list[n,m][...,k]/y2_approx[...,k]\n",
    "    ratio_range = np.max(np.abs(ratio))\n",
    "    \n",
    "    plt.pcolormesh(range_n, range_m, ratio,\n",
    "                   cmap='bwr', vmin=-ratio_range, vmax=ratio_range)\n",
    "    \n",
    "    plt.xlabel(df_range.iloc[n].name)\n",
    "    plt.ylabel(df_range.iloc[m].name)\n",
    "    plt.title(df_range.iloc[k].name)\n",
    "    \n",
    "    plt.colorbar()\n",
    "    plt.show()"
   ]
  },
  {
   "cell_type": "markdown",
   "metadata": {},
   "source": [
    "Strong correlation between SUN (last variable) and other variables."
   ]
  }
 ],
 "metadata": {
  "kernelspec": {
   "display_name": "Python 3",
   "language": "python",
   "name": "python3"
  },
  "language_info": {
   "codemirror_mode": {
    "name": "ipython",
    "version": 3
   },
   "file_extension": ".py",
   "mimetype": "text/x-python",
   "name": "python",
   "nbconvert_exporter": "python",
   "pygments_lexer": "ipython3",
   "version": "3.6.2"
  },
  "toc": {
   "nav_menu": {},
   "number_sections": true,
   "sideBar": true,
   "skip_h1_title": false,
   "toc_cell": false,
   "toc_position": {},
   "toc_section_display": "block",
   "toc_window_display": false
  }
 },
 "nbformat": 4,
 "nbformat_minor": 2
}
