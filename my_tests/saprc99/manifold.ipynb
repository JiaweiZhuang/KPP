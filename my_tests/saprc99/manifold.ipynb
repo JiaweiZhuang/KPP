{
 "cells": [
  {
   "cell_type": "code",
   "execution_count": 1,
   "metadata": {},
   "outputs": [
    {
     "name": "stderr",
     "output_type": "stream",
     "text": [
      "/home/ec2-user/anaconda3/envs/pytorch_p36/lib/python3.6/site-packages/matplotlib/__init__.py:1067: UserWarning: Duplicate key in file \"/home/ec2-user/.config/matplotlib/matplotlibrc\", line #2\n",
      "  (fname, cnt))\n",
      "/home/ec2-user/anaconda3/envs/pytorch_p36/lib/python3.6/site-packages/matplotlib/__init__.py:1067: UserWarning: Duplicate key in file \"/home/ec2-user/.config/matplotlib/matplotlibrc\", line #3\n",
      "  (fname, cnt))\n"
     ]
    }
   ],
   "source": [
    "%matplotlib inline\n",
    "import matplotlib.pyplot as plt\n",
    "import pandas as pd\n",
    "import numpy as np\n",
    "\n",
    "from ipywidgets import interact, IntSlider\n",
    "\n",
    "import torch\n",
    "from torch.autograd import Variable\n",
    "\n",
    "from sklearn.preprocessing import StandardScaler\n",
    "from sklearn.metrics import r2_score"
   ]
  },
  {
   "cell_type": "code",
   "execution_count": 2,
   "metadata": {},
   "outputs": [
    {
     "name": "stdout",
     "output_type": "stream",
     "text": [
      "['H2SO4', 'HCOOH', 'CCO_OH', 'RCO_OH', 'CCO_OOH', 'RCO_OOH', 'XN', 'XC', 'SO2', 'O1D', 'ALK1', 'BACL', 'PAN', 'PAN2', 'PBZN', 'MA_PAN', 'H2O2', 'N2O5', 'HONO', 'ALK2', 'ALK3', 'TBU_O', 'ALK5', 'ARO2', 'HNO4', 'COOH', 'HOCOO', 'BZNO2_O', 'MEOH', 'ALK4', 'ARO1', 'DCB2', 'DCB3', 'CRES', 'DCB1', 'NPHE', 'ROOH', 'BALD', 'PHEN', 'CO', 'MGLY', 'ACET', 'HNO3', 'ETHENE', 'GLY', 'BZ_O', 'ISOPRENE', 'R2O2', 'TERP', 'METHACRO', 'OLE1', 'ISOPROD', 'OLE2', 'MVK', 'CCHO', 'HCHO', 'RNO3', 'O3P', 'RCHO', 'MEK', 'PROD2', 'O3', 'HO2', 'RO2_N', 'MA_RCO3', 'C_O2', 'BZCO_O2', 'RO2_R', 'NO', 'NO2', 'NO3', 'CCO_O2', 'RCO_O2', 'OH']\n"
     ]
    }
   ],
   "source": [
    "from read_results import read_varnames\n",
    "import saprc99_code.kpp4py as kpp\n",
    "\n",
    "nvar = 74\n",
    "varnames = read_varnames(\"saprc99_code/saprc99_Parameters.f90\")[0:nvar]\n",
    "print(varnames)"
   ]
  },
  {
   "cell_type": "code",
   "execution_count": 3,
   "metadata": {},
   "outputs": [
    {
     "data": {
      "text/html": [
       "<div>\n",
       "<style scoped>\n",
       "    .dataframe tbody tr th:only-of-type {\n",
       "        vertical-align: middle;\n",
       "    }\n",
       "\n",
       "    .dataframe tbody tr th {\n",
       "        vertical-align: top;\n",
       "    }\n",
       "\n",
       "    .dataframe thead th {\n",
       "        text-align: right;\n",
       "    }\n",
       "</style>\n",
       "<table border=\"1\" class=\"dataframe\">\n",
       "  <thead>\n",
       "    <tr style=\"text-align: right;\">\n",
       "      <th></th>\n",
       "      <th>min</th>\n",
       "      <th>max</th>\n",
       "      <th>mid</th>\n",
       "      <th>span</th>\n",
       "    </tr>\n",
       "  </thead>\n",
       "  <tbody>\n",
       "    <tr>\n",
       "      <th>C_O2</th>\n",
       "      <td>5.391452e+06</td>\n",
       "      <td>1.419437e+09</td>\n",
       "      <td>7.124145e+08</td>\n",
       "      <td>1.414046e+09</td>\n",
       "    </tr>\n",
       "    <tr>\n",
       "      <th>BZCO_O2</th>\n",
       "      <td>1.000000e-08</td>\n",
       "      <td>3.226580e+06</td>\n",
       "      <td>1.613290e+06</td>\n",
       "      <td>3.226580e+06</td>\n",
       "    </tr>\n",
       "    <tr>\n",
       "      <th>RO2_R</th>\n",
       "      <td>2.006049e+05</td>\n",
       "      <td>1.824368e+09</td>\n",
       "      <td>9.122844e+08</td>\n",
       "      <td>1.824168e+09</td>\n",
       "    </tr>\n",
       "    <tr>\n",
       "      <th>NO</th>\n",
       "      <td>1.006610e+05</td>\n",
       "      <td>9.000156e+11</td>\n",
       "      <td>4.500078e+11</td>\n",
       "      <td>9.000155e+11</td>\n",
       "    </tr>\n",
       "    <tr>\n",
       "      <th>NO2</th>\n",
       "      <td>5.003760e+09</td>\n",
       "      <td>1.461165e+12</td>\n",
       "      <td>7.330842e+11</td>\n",
       "      <td>1.456161e+12</td>\n",
       "    </tr>\n",
       "    <tr>\n",
       "      <th>NO3</th>\n",
       "      <td>1.742790e+06</td>\n",
       "      <td>1.039629e+10</td>\n",
       "      <td>5.199017e+09</td>\n",
       "      <td>1.039455e+10</td>\n",
       "    </tr>\n",
       "    <tr>\n",
       "      <th>CCO_O2</th>\n",
       "      <td>6.779490e+05</td>\n",
       "      <td>5.267318e+08</td>\n",
       "      <td>2.637049e+08</td>\n",
       "      <td>5.260539e+08</td>\n",
       "    </tr>\n",
       "    <tr>\n",
       "      <th>RCO_O2</th>\n",
       "      <td>7.110903e+04</td>\n",
       "      <td>3.979400e+08</td>\n",
       "      <td>1.990056e+08</td>\n",
       "      <td>3.978689e+08</td>\n",
       "    </tr>\n",
       "    <tr>\n",
       "      <th>OH</th>\n",
       "      <td>9.784155e+04</td>\n",
       "      <td>7.272688e+07</td>\n",
       "      <td>3.641236e+07</td>\n",
       "      <td>7.262904e+07</td>\n",
       "    </tr>\n",
       "    <tr>\n",
       "      <th>SUN</th>\n",
       "      <td>0.000000e+00</td>\n",
       "      <td>1.000000e+00</td>\n",
       "      <td>5.000000e-01</td>\n",
       "      <td>1.000000e+00</td>\n",
       "    </tr>\n",
       "  </tbody>\n",
       "</table>\n",
       "</div>"
      ],
      "text/plain": [
       "                  min           max           mid          span\n",
       "C_O2     5.391452e+06  1.419437e+09  7.124145e+08  1.414046e+09\n",
       "BZCO_O2  1.000000e-08  3.226580e+06  1.613290e+06  3.226580e+06\n",
       "RO2_R    2.006049e+05  1.824368e+09  9.122844e+08  1.824168e+09\n",
       "NO       1.006610e+05  9.000156e+11  4.500078e+11  9.000155e+11\n",
       "NO2      5.003760e+09  1.461165e+12  7.330842e+11  1.456161e+12\n",
       "NO3      1.742790e+06  1.039629e+10  5.199017e+09  1.039455e+10\n",
       "CCO_O2   6.779490e+05  5.267318e+08  2.637049e+08  5.260539e+08\n",
       "RCO_O2   7.110903e+04  3.979400e+08  1.990056e+08  3.978689e+08\n",
       "OH       9.784155e+04  7.272688e+07  3.641236e+07  7.262904e+07\n",
       "SUN      0.000000e+00  1.000000e+00  5.000000e-01  1.000000e+00"
      ]
     },
     "execution_count": 3,
     "metadata": {},
     "output_type": "execute_result"
    }
   ],
   "source": [
    "df_range = (\n",
    "    pd.read_csv('saprc99_range.csv', index_col=0)\n",
    "    .append(pd.DataFrame(np.array([[0.0, 1.0]]), \n",
    "                         columns=['min','max'], \n",
    "                         index=['SUN']\n",
    "                        )\n",
    "           )\n",
    ")\n",
    "\n",
    "df_range['mid'] = 0.5*(df_range['min']+df_range['max'])\n",
    "df_range['span'] = df_range['max'] - df_range['min']\n",
    "df_range.tail(10)"
   ]
  },
  {
   "cell_type": "markdown",
   "metadata": {},
   "source": [
    "# Make training data"
   ]
  },
  {
   "cell_type": "code",
   "execution_count": 4,
   "metadata": {},
   "outputs": [
    {
     "data": {
      "text/plain": [
       "(20000, 75)"
      ]
     },
     "execution_count": 4,
     "metadata": {},
     "output_type": "execute_result"
    }
   ],
   "source": [
    "shrink = 0.0\n",
    "np.random.seed(42) # reproducible\n",
    "y0_list =  np.random.uniform(df_range['min'] + shrink*df_range['span'],\n",
    "                             df_range['max'] - shrink*df_range['span'], \n",
    "                             size=(20000, nvar+1))\n",
    "\n",
    "y0_list.shape"
   ]
  },
  {
   "cell_type": "code",
   "execution_count": 5,
   "metadata": {},
   "outputs": [
    {
     "data": {
      "text/plain": [
       "array([4.71694377e+11, 1.09093885e+11, 1.52596600e+12, 8.31462679e+11,\n",
       "       1.89715835e+11, 1.15236910e+11, 1.17320555e+10, 5.50189916e+12,\n",
       "       7.22831335e+11, 4.96510216e-01])"
      ]
     },
     "execution_count": 5,
     "metadata": {},
     "output_type": "execute_result"
    }
   ],
   "source": [
    "y0_list[0,:10]"
   ]
  },
  {
   "cell_type": "code",
   "execution_count": 6,
   "metadata": {},
   "outputs": [
    {
     "data": {
      "text/html": [
       "<div>\n",
       "<style scoped>\n",
       "    .dataframe tbody tr th:only-of-type {\n",
       "        vertical-align: middle;\n",
       "    }\n",
       "\n",
       "    .dataframe tbody tr th {\n",
       "        vertical-align: top;\n",
       "    }\n",
       "\n",
       "    .dataframe thead th {\n",
       "        text-align: right;\n",
       "    }\n",
       "</style>\n",
       "<table border=\"1\" class=\"dataframe\">\n",
       "  <thead>\n",
       "    <tr style=\"text-align: right;\">\n",
       "      <th></th>\n",
       "      <th>H2SO4</th>\n",
       "      <th>HCOOH</th>\n",
       "      <th>CCO_OH</th>\n",
       "      <th>RCO_OH</th>\n",
       "      <th>CCO_OOH</th>\n",
       "      <th>RCO_OOH</th>\n",
       "      <th>XN</th>\n",
       "      <th>XC</th>\n",
       "      <th>SO2</th>\n",
       "      <th>O1D</th>\n",
       "      <th>...</th>\n",
       "      <th>C_O2</th>\n",
       "      <th>BZCO_O2</th>\n",
       "      <th>RO2_R</th>\n",
       "      <th>NO</th>\n",
       "      <th>NO2</th>\n",
       "      <th>NO3</th>\n",
       "      <th>CCO_O2</th>\n",
       "      <th>RCO_O2</th>\n",
       "      <th>OH</th>\n",
       "      <th>SUN</th>\n",
       "    </tr>\n",
       "  </thead>\n",
       "  <tbody>\n",
       "    <tr>\n",
       "      <th>0</th>\n",
       "      <td>4.716944e+11</td>\n",
       "      <td>1.090939e+11</td>\n",
       "      <td>1.525966e+12</td>\n",
       "      <td>8.314627e+11</td>\n",
       "      <td>1.897158e+11</td>\n",
       "      <td>1.152369e+11</td>\n",
       "      <td>1.173206e+10</td>\n",
       "      <td>5.501899e+12</td>\n",
       "      <td>7.228313e+11</td>\n",
       "      <td>0.496510</td>\n",
       "      <td>...</td>\n",
       "      <td>7.727887e+08</td>\n",
       "      <td>4.547033e+05</td>\n",
       "      <td>1.463542e+09</td>\n",
       "      <td>6.709683e+10</td>\n",
       "      <td>1.442070e+12</td>\n",
       "      <td>8.028878e+09</td>\n",
       "      <td>1.052131e+08</td>\n",
       "      <td>2.268188e+06</td>\n",
       "      <td>5.932402e+07</td>\n",
       "      <td>0.706857</td>\n",
       "    </tr>\n",
       "    <tr>\n",
       "      <th>1</th>\n",
       "      <td>8.979349e+11</td>\n",
       "      <td>9.216716e+10</td>\n",
       "      <td>1.812789e+11</td>\n",
       "      <td>5.029841e+11</td>\n",
       "      <td>1.408949e+11</td>\n",
       "      <td>6.375934e+11</td>\n",
       "      <td>1.253182e+11</td>\n",
       "      <td>5.133668e+12</td>\n",
       "      <td>7.642867e+10</td>\n",
       "      <td>0.218065</td>\n",
       "      <td>...</td>\n",
       "      <td>1.366336e+09</td>\n",
       "      <td>8.123958e+05</td>\n",
       "      <td>9.072652e+08</td>\n",
       "      <td>2.707952e+11</td>\n",
       "      <td>4.197773e+11</td>\n",
       "      <td>3.851659e+08</td>\n",
       "      <td>3.213416e+08</td>\n",
       "      <td>2.000715e+08</td>\n",
       "      <td>3.836694e+06</td>\n",
       "      <td>0.278646</td>\n",
       "    </tr>\n",
       "    <tr>\n",
       "      <th>2</th>\n",
       "      <td>1.113490e+12</td>\n",
       "      <td>4.201177e+10</td>\n",
       "      <td>3.260794e+11</td>\n",
       "      <td>6.821171e+11</td>\n",
       "      <td>1.198528e+12</td>\n",
       "      <td>1.788118e+11</td>\n",
       "      <td>1.351327e+11</td>\n",
       "      <td>5.429972e+12</td>\n",
       "      <td>2.857559e+11</td>\n",
       "      <td>0.510635</td>\n",
       "      <td>...</td>\n",
       "      <td>3.408726e+08</td>\n",
       "      <td>1.049928e+06</td>\n",
       "      <td>1.361926e+09</td>\n",
       "      <td>5.846798e+11</td>\n",
       "      <td>1.241610e+12</td>\n",
       "      <td>6.837332e+09</td>\n",
       "      <td>2.996389e+08</td>\n",
       "      <td>3.734139e+07</td>\n",
       "      <td>2.680469e+07</td>\n",
       "      <td>0.265202</td>\n",
       "    </tr>\n",
       "    <tr>\n",
       "      <th>3</th>\n",
       "      <td>3.147097e+11</td>\n",
       "      <td>1.111971e+11</td>\n",
       "      <td>8.333452e+11</td>\n",
       "      <td>1.232689e+12</td>\n",
       "      <td>7.674505e+11</td>\n",
       "      <td>5.871446e+11</td>\n",
       "      <td>1.010700e+11</td>\n",
       "      <td>5.302901e+12</td>\n",
       "      <td>5.922449e+11</td>\n",
       "      <td>0.136907</td>\n",
       "      <td>...</td>\n",
       "      <td>4.852021e+07</td>\n",
       "      <td>1.205069e+05</td>\n",
       "      <td>1.500762e+09</td>\n",
       "      <td>3.241772e+11</td>\n",
       "      <td>1.900243e+11</td>\n",
       "      <td>5.430226e+09</td>\n",
       "      <td>4.057361e+08</td>\n",
       "      <td>8.593959e+07</td>\n",
       "      <td>4.533778e+07</td>\n",
       "      <td>0.085347</td>\n",
       "    </tr>\n",
       "    <tr>\n",
       "      <th>4</th>\n",
       "      <td>8.346269e+10</td>\n",
       "      <td>6.953621e+10</td>\n",
       "      <td>1.134875e+12</td>\n",
       "      <td>8.844850e+11</td>\n",
       "      <td>8.829107e+11</td>\n",
       "      <td>7.208833e+11</td>\n",
       "      <td>1.038158e+11</td>\n",
       "      <td>5.128204e+12</td>\n",
       "      <td>9.561986e+11</td>\n",
       "      <td>0.189911</td>\n",
       "      <td>...</td>\n",
       "      <td>5.513583e+08</td>\n",
       "      <td>3.101359e+06</td>\n",
       "      <td>1.651712e+09</td>\n",
       "      <td>1.762151e+11</td>\n",
       "      <td>1.060050e+11</td>\n",
       "      <td>1.049285e+09</td>\n",
       "      <td>1.026361e+07</td>\n",
       "      <td>3.764703e+07</td>\n",
       "      <td>4.970396e+07</td>\n",
       "      <td>0.071189</td>\n",
       "    </tr>\n",
       "  </tbody>\n",
       "</table>\n",
       "<p>5 rows × 75 columns</p>\n",
       "</div>"
      ],
      "text/plain": [
       "          H2SO4         HCOOH        CCO_OH        RCO_OH       CCO_OOH  \\\n",
       "0  4.716944e+11  1.090939e+11  1.525966e+12  8.314627e+11  1.897158e+11   \n",
       "1  8.979349e+11  9.216716e+10  1.812789e+11  5.029841e+11  1.408949e+11   \n",
       "2  1.113490e+12  4.201177e+10  3.260794e+11  6.821171e+11  1.198528e+12   \n",
       "3  3.147097e+11  1.111971e+11  8.333452e+11  1.232689e+12  7.674505e+11   \n",
       "4  8.346269e+10  6.953621e+10  1.134875e+12  8.844850e+11  8.829107e+11   \n",
       "\n",
       "        RCO_OOH            XN            XC           SO2       O1D    ...     \\\n",
       "0  1.152369e+11  1.173206e+10  5.501899e+12  7.228313e+11  0.496510    ...      \n",
       "1  6.375934e+11  1.253182e+11  5.133668e+12  7.642867e+10  0.218065    ...      \n",
       "2  1.788118e+11  1.351327e+11  5.429972e+12  2.857559e+11  0.510635    ...      \n",
       "3  5.871446e+11  1.010700e+11  5.302901e+12  5.922449e+11  0.136907    ...      \n",
       "4  7.208833e+11  1.038158e+11  5.128204e+12  9.561986e+11  0.189911    ...      \n",
       "\n",
       "           C_O2       BZCO_O2         RO2_R            NO           NO2  \\\n",
       "0  7.727887e+08  4.547033e+05  1.463542e+09  6.709683e+10  1.442070e+12   \n",
       "1  1.366336e+09  8.123958e+05  9.072652e+08  2.707952e+11  4.197773e+11   \n",
       "2  3.408726e+08  1.049928e+06  1.361926e+09  5.846798e+11  1.241610e+12   \n",
       "3  4.852021e+07  1.205069e+05  1.500762e+09  3.241772e+11  1.900243e+11   \n",
       "4  5.513583e+08  3.101359e+06  1.651712e+09  1.762151e+11  1.060050e+11   \n",
       "\n",
       "            NO3        CCO_O2        RCO_O2            OH       SUN  \n",
       "0  8.028878e+09  1.052131e+08  2.268188e+06  5.932402e+07  0.706857  \n",
       "1  3.851659e+08  3.213416e+08  2.000715e+08  3.836694e+06  0.278646  \n",
       "2  6.837332e+09  2.996389e+08  3.734139e+07  2.680469e+07  0.265202  \n",
       "3  5.430226e+09  4.057361e+08  8.593959e+07  4.533778e+07  0.085347  \n",
       "4  1.049285e+09  1.026361e+07  3.764703e+07  4.970396e+07  0.071189  \n",
       "\n",
       "[5 rows x 75 columns]"
      ]
     },
     "execution_count": 6,
     "metadata": {},
     "output_type": "execute_result"
    }
   ],
   "source": [
    "df_y0 = pd.DataFrame(y0_list, columns=varnames+['SUN'])\n",
    "df_y0.head()"
   ]
  },
  {
   "cell_type": "code",
   "execution_count": 7,
   "metadata": {},
   "outputs": [],
   "source": [
    "df_y0.to_csv('train_data.csv')"
   ]
  },
  {
   "cell_type": "code",
   "execution_count": 8,
   "metadata": {},
   "outputs": [
    {
     "name": "stdout",
     "output_type": "stream",
     "text": [
      "CPU times: user 20.3 s, sys: 4 ms, total: 20.3 s\n",
      "Wall time: 20.2 s\n"
     ]
    },
    {
     "data": {
      "text/plain": [
       "(20000, 74)"
      ]
     },
     "execution_count": 8,
     "metadata": {},
     "output_type": "execute_result"
    }
   ],
   "source": [
    "%time y1_list = kpp.onestep(y0_list.T).T\n",
    "y1_list.shape"
   ]
  },
  {
   "cell_type": "markdown",
   "metadata": {},
   "source": [
    "# Normalize data"
   ]
  },
  {
   "cell_type": "code",
   "execution_count": 9,
   "metadata": {},
   "outputs": [
    {
     "data": {
      "text/plain": [
       "StandardScaler(copy=True, with_mean=True, with_std=True)"
      ]
     },
     "execution_count": 9,
     "metadata": {},
     "output_type": "execute_result"
    }
   ],
   "source": [
    "normalizer = StandardScaler()\n",
    "normalizer.fit(y0_list[:,0:74])"
   ]
  },
  {
   "cell_type": "code",
   "execution_count": 10,
   "metadata": {},
   "outputs": [
    {
     "data": {
      "text/plain": [
       "(20000, 75)"
      ]
     },
     "execution_count": 10,
     "metadata": {},
     "output_type": "execute_result"
    }
   ],
   "source": [
    "X_train = np.append(normalizer.transform(y0_list[:,0:74]), \n",
    "                    y0_list[:,-1:], \n",
    "                    axis=1)\n",
    "X_train.shape"
   ]
  },
  {
   "cell_type": "code",
   "execution_count": 11,
   "metadata": {},
   "outputs": [],
   "source": [
    "Y_train = normalizer.transform(y1_list)"
   ]
  },
  {
   "cell_type": "markdown",
   "metadata": {},
   "source": [
    "# Plot distribution before and after reaction"
   ]
  },
  {
   "cell_type": "code",
   "execution_count": 12,
   "metadata": {},
   "outputs": [
    {
     "data": {
      "image/png": "[encoded data removed]",
      "text/plain": [
       "<Figure size 432x288 with 1 Axes>"
      ]
     },
     "metadata": {},
     "output_type": "display_data"
    }
   ],
   "source": [
    "@interact(n=IntSlider(min=0,max=73,step=1,value=0,continuous_update=True))\n",
    "def plot_dist(n):\n",
    "    plt.hist(X_train[:,n], bins=20, alpha=0.5, label='before')\n",
    "    plt.hist(Y_train[:,n], bins=20, alpha=0.5, label='after')\n",
    "    plt.legend()\n",
    "    plt.title(varnames[n])"
   ]
  },
  {
   "cell_type": "markdown",
   "metadata": {},
   "source": [
    "# React one more step"
   ]
  },
  {
   "cell_type": "code",
   "execution_count": 13,
   "metadata": {},
   "outputs": [
    {
     "name": "stdout",
     "output_type": "stream",
     "text": [
      "CPU times: user 7.09 s, sys: 8 ms, total: 7.1 s\n",
      "Wall time: 7.08 s\n"
     ]
    },
    {
     "data": {
      "text/plain": [
       "(20000, 74)"
      ]
     },
     "execution_count": 13,
     "metadata": {},
     "output_type": "execute_result"
    }
   ],
   "source": [
    "%time y2_list = kpp.onestep(np.c_[y1_list, y0_list[:,-1:]].T).T  # use the same SUN as y0\n",
    "y2_list.shape"
   ]
  },
  {
   "cell_type": "code",
   "execution_count": 14,
   "metadata": {},
   "outputs": [
    {
     "data": {
      "image/png": "[encoded data removed]",
      "text/plain": [
       "<Figure size 432x288 with 1 Axes>"
      ]
     },
     "metadata": {},
     "output_type": "display_data"
    }
   ],
   "source": [
    "@interact(n=IntSlider(min=0,max=73,step=1,value=0,continuous_update=True))\n",
    "def plot_dist(n):\n",
    "    plt.hist(y1_list[:,n], bins=20, alpha=0.5, label='before')\n",
    "    plt.hist(y2_list[:,n], bins=20, alpha=0.5, label='after')\n",
    "    plt.legend()\n",
    "    plt.title(varnames[n])"
   ]
  },
  {
   "cell_type": "markdown",
   "metadata": {},
   "source": [
    "# Re-normalize data"
   ]
  },
  {
   "cell_type": "code",
   "execution_count": 15,
   "metadata": {},
   "outputs": [],
   "source": [
    "normalizer = StandardScaler()\n",
    "normalizer.fit(y1_list[:,0:74])\n",
    "\n",
    "X_train = np.append(normalizer.transform(y1_list[:,0:74]), \n",
    "                    y0_list[:,-1:],  # use old SUN !\n",
    "                    axis=1)\n",
    "Y_train = normalizer.transform(y2_list)"
   ]
  },
  {
   "cell_type": "markdown",
   "metadata": {},
   "source": [
    "# Fit ANN"
   ]
  },
  {
   "cell_type": "code",
   "execution_count": 16,
   "metadata": {},
   "outputs": [],
   "source": [
    "#x_torch = Variable(torch.from_numpy(X_train))\n",
    "#y_torch = Variable(torch.from_numpy(Y_train))\n",
    "\n",
    "x_torch = Variable(torch.from_numpy(X_train)).type(torch.FloatTensor).cuda()\n",
    "y_torch = Variable(torch.from_numpy(Y_train)).type(torch.FloatTensor).cuda()"
   ]
  },
  {
   "cell_type": "code",
   "execution_count": 17,
   "metadata": {},
   "outputs": [],
   "source": [
    "H1, H2 = 200, 200\n",
    "\n",
    "torch.manual_seed(7) # reproducible\n",
    "\n",
    "model = torch.nn.Sequential(\n",
    "    torch.nn.Linear(75, H1),\n",
    "    #torch.nn.ReLU(),\n",
    "    torch.nn.Tanh(),\n",
    "    #torch.nn.BatchNorm1d(H1),\n",
    "    torch.nn.Linear(H1, H2),\n",
    "    #torch.nn.ReLU(),\n",
    "    torch.nn.Tanh(),\n",
    "    #torch.nn.BatchNorm1d(H2),\n",
    "    torch.nn.Linear(H2, 74)\n",
    ").cuda()#double()"
   ]
  },
  {
   "cell_type": "code",
   "execution_count": 18,
   "metadata": {},
   "outputs": [
    {
     "data": {
      "text/plain": [
       "Parameter containing:\n",
       " 0.0081 -0.0696  0.0368  ...   0.0632 -0.0633 -0.0271\n",
       " 0.1089  0.0213  0.0081  ...  -0.0062  0.0954  0.0040\n",
       "-0.0297 -0.1128 -0.1062  ...  -0.0675  0.0017  0.0252\n",
       "          ...             ⋱             ...          \n",
       " 0.0975  0.0947 -0.0608  ...   0.0942  0.0094 -0.0410\n",
       " 0.0993  0.0867 -0.0633  ...  -0.0578 -0.0500  0.0252\n",
       "-0.0034 -0.0813 -0.0826  ...   0.0353  0.1135 -0.0712\n",
       "[torch.cuda.FloatTensor of size 200x75 (GPU 0)]"
      ]
     },
     "execution_count": 18,
     "metadata": {},
     "output_type": "execute_result"
    }
   ],
   "source": [
    "list(model.parameters())[0]"
   ]
  },
  {
   "cell_type": "code",
   "execution_count": 19,
   "metadata": {},
   "outputs": [
    {
     "name": "stdout",
     "output_type": "stream",
     "text": [
      "20 0.00476657971739769\n",
      "40 0.0027975612320005894\n",
      "60 0.0020969384349882603\n",
      "80 0.001725238747894764\n",
      "100 0.0014803429367020726\n",
      "120 0.0013165355194360018\n",
      "140 0.0011862436076626182\n",
      "160 0.0010845480719581246\n",
      "180 0.0010040198685601354\n",
      "200 0.0009371524211019278\n",
      "220 0.0008837530040182173\n",
      "240 0.0008362314547412097\n",
      "260 0.0007957796915434301\n",
      "280 0.0007607510196976364\n",
      "300 0.0007303837337531149\n",
      "320 0.0007020289776846766\n",
      "340 0.0006766514270566404\n",
      "360 0.0006555960862897336\n",
      "380 0.0006351317861117423\n",
      "400 0.0006169091793708503\n",
      "420 0.0005995504907332361\n",
      "440 0.0005838118959218264\n",
      "460 0.0005697429878637195\n",
      "480 0.000555792183149606\n",
      "500 0.0005421440582722425\n",
      "520 0.0005300500197336078\n",
      "540 0.0005185342160984874\n",
      "560 0.0005079600377939641\n",
      "580 0.0004974972107447684\n",
      "600 0.00048803735990077257\n",
      "CPU times: user 4min 6s, sys: 1min 4s, total: 5min 11s\n",
      "Wall time: 5min 11s\n"
     ]
    }
   ],
   "source": [
    "%%time\n",
    "loss_fn = torch.nn.MSELoss()\n",
    "\n",
    "optimizer = torch.optim.LBFGS(model.parameters(), lr=1.0)\n",
    "#optimizer = torch.optim.Adam(model.parameters(), lr = 0.01)\n",
    "\n",
    "for t in range(600):\n",
    "    \n",
    "    def closure():\n",
    "        optimizer.zero_grad()\n",
    "        y_pred = model(x_torch)\n",
    "        loss = loss_fn(y_pred, y_torch)\n",
    "        loss.backward()\n",
    "        return loss\n",
    "    optimizer.step(closure)\n",
    "    \n",
    "    if (t+1)%20==0:\n",
    "        y_pred = model(x_torch)\n",
    "        loss = loss_fn(y_pred, y_torch)\n",
    "        print(t+1, loss.data[0])"
   ]
  },
  {
   "cell_type": "code",
   "execution_count": 20,
   "metadata": {},
   "outputs": [
    {
     "data": {
      "text/plain": [
       "Parameter containing:\n",
       "-1.9669e-03 -6.3742e-03 -1.6819e-03  ...   2.2053e-02 -3.3278e-02  6.3223e-02\n",
       "-2.5824e-05  1.1929e-04 -1.2944e-05  ...  -2.5817e-03 -3.8335e-02 -4.4682e-01\n",
       "-4.1317e-03 -4.3728e-03 -9.5799e-03  ...  -3.0486e-03  1.7924e-02  1.2579e-02\n",
       "                ...                   ⋱                   ...                \n",
       "-1.5980e-04 -7.2200e-04  3.5545e-04  ...  -3.2094e-02  1.8427e-02 -7.1764e-02\n",
       " 1.0604e-02  1.1191e-02 -5.9377e-03  ...  -3.8323e-03 -9.4209e-04 -3.1001e-02\n",
       " 1.1682e-03  3.9280e-04 -2.9998e-04  ...  -1.9707e-03  1.6533e-02 -4.1770e-01\n",
       "[torch.cuda.FloatTensor of size 200x75 (GPU 0)]"
      ]
     },
     "execution_count": 20,
     "metadata": {},
     "output_type": "execute_result"
    }
   ],
   "source": [
    "list(model.parameters())[0]"
   ]
  },
  {
   "cell_type": "code",
   "execution_count": 21,
   "metadata": {},
   "outputs": [],
   "source": [
    "# save the model to disk\n",
    "torch.save(model.state_dict(), 'trained_model.pt')"
   ]
  },
  {
   "cell_type": "code",
   "execution_count": 22,
   "metadata": {},
   "outputs": [],
   "source": [
    "y_pred = model(x_torch)\n",
    "#y_pred_numpy = y_pred.data.numpy()\n",
    "y_pred_numpy = y_pred.cpu().data.numpy()"
   ]
  },
  {
   "cell_type": "code",
   "execution_count": 23,
   "metadata": {},
   "outputs": [
    {
     "data": {
      "text/plain": [
       "array([0.99990378, 0.9997824 , 0.9999158 , 0.99992344, 0.99992151,\n",
       "       0.99992028, 0.99983883, 0.99985914, 0.9999018 , 0.99987627,\n",
       "       0.99990537, 0.99928298, 0.99973716, 0.99968933, 0.99958995,\n",
       "       0.99953694, 0.99985119, 0.99934766, 0.99841409, 0.99989122,\n",
       "       0.99989189, 0.99902173, 0.99977027, 0.99968046, 0.99930031,\n",
       "       0.9997701 , 0.99941624, 0.99882388, 0.99988709, 0.99983175,\n",
       "       0.99981414, 0.99900239, 0.99781589, 0.99383987, 0.99950345,\n",
       "       0.99872434, 0.99970194, 0.99964474, 0.993671  , 0.99990941,\n",
       "       0.99955522, 0.99989725, 0.99988751, 0.99972733, 0.99938286,\n",
       "       0.99907659, 0.99469268, 0.99951043, 0.98219123, 0.9995921 ,\n",
       "       0.99917379, 0.9986731 , 0.99456128, 0.99949135, 0.99951979,\n",
       "       0.99951194, 0.99976341, 0.99976639, 0.99951642, 0.99987854,\n",
       "       0.99967505, 0.99988378, 0.99973393, 0.99948949, 0.9995341 ,\n",
       "       0.99981819, 0.99966253, 0.99974528, 0.99883848, 0.99983799,\n",
       "       0.99942376, 0.99980018, 0.99974894, 0.99942077])"
      ]
     },
     "execution_count": 23,
     "metadata": {},
     "output_type": "execute_result"
    }
   ],
   "source": [
    "r2_score(y_pred_numpy, Y_train, multioutput='raw_values')"
   ]
  },
  {
   "cell_type": "code",
   "execution_count": 24,
   "metadata": {},
   "outputs": [
    {
     "data": {
      "text/plain": [
       "0.9995693206136738"
      ]
     },
     "execution_count": 24,
     "metadata": {},
     "output_type": "execute_result"
    }
   ],
   "source": [
    "r2_score(y_pred_numpy, Y_train, multioutput='variance_weighted')"
   ]
  },
  {
   "cell_type": "code",
   "execution_count": 25,
   "metadata": {},
   "outputs": [
    {
     "data": {
      "text/plain": [
       "Text(0,0.5,'neural net prediction')"
      ]
     },
     "execution_count": 25,
     "metadata": {},
     "output_type": "execute_result"
    },
    {
     "data": {
      "image/png": "[encoded data removed]",
      "text/plain": [
       "<Figure size 432x288 with 1 Axes>"
      ]
     },
     "metadata": {},
     "output_type": "display_data"
    }
   ],
   "source": [
    "plt.scatter(y_pred_numpy, Y_train, alpha=0.1, s=2.0)\n",
    "plt.xlim(-5,5)\n",
    "plt.ylim(-5,5)\n",
    "\n",
    "plt.xlabel('true value')\n",
    "plt.ylabel('neural net prediction')"
   ]
  },
  {
   "cell_type": "markdown",
   "metadata": {},
   "source": [
    "# Test set"
   ]
  },
  {
   "cell_type": "code",
   "execution_count": 26,
   "metadata": {},
   "outputs": [
    {
     "data": {
      "text/plain": [
       "(5000, 75)"
      ]
     },
     "execution_count": 26,
     "metadata": {},
     "output_type": "execute_result"
    }
   ],
   "source": [
    "shrink = 0.0\n",
    "\n",
    "y0_test = np.random.uniform(df_range['min'] + shrink*df_range['span'],\n",
    "                           df_range['max'] - shrink*df_range['span'], \n",
    "                           size=(5000, nvar+1))\n",
    "\n",
    "y0_test.shape"
   ]
  },
  {
   "cell_type": "code",
   "execution_count": 27,
   "metadata": {},
   "outputs": [
    {
     "name": "stdout",
     "output_type": "stream",
     "text": [
      "CPU times: user 6.82 s, sys: 4 ms, total: 6.83 s\n",
      "Wall time: 6.81 s\n"
     ]
    }
   ],
   "source": [
    "%%time \n",
    "y1_test = kpp.onestep(y0_test.T).T\n",
    "y2_test = kpp.onestep(np.c_[y1_test, y0_test[:,-1:]].T).T  # use the same SUN as y0\n",
    "y2_test.shape"
   ]
  },
  {
   "cell_type": "code",
   "execution_count": 28,
   "metadata": {},
   "outputs": [],
   "source": [
    "X_test = np.append(normalizer.transform(y1_test[:,0:74]), \n",
    "                   y0_test[:,-1:], \n",
    "                   axis=1)\n",
    "Y_test = normalizer.transform(y2_test)"
   ]
  },
  {
   "cell_type": "code",
   "execution_count": 29,
   "metadata": {},
   "outputs": [
    {
     "name": "stdout",
     "output_type": "stream",
     "text": [
      "CPU times: user 4 ms, sys: 0 ns, total: 4 ms\n",
      "Wall time: 3.01 ms\n"
     ]
    }
   ],
   "source": [
    "%%time\n",
    "#X_torch_test = Variable(torch.from_numpy(X_test))\n",
    "#y_test_pred = model(X_torch_test).data.numpy()\n",
    "X_torch_test = Variable(torch.from_numpy(X_test).type(torch.FloatTensor).cuda())\n",
    "y_test_pred = model(X_torch_test).data.cpu().numpy()"
   ]
  },
  {
   "cell_type": "code",
   "execution_count": 30,
   "metadata": {},
   "outputs": [
    {
     "data": {
      "text/plain": [
       "0.9993178038427472"
      ]
     },
     "execution_count": 30,
     "metadata": {},
     "output_type": "execute_result"
    }
   ],
   "source": [
    "r2_score(y_test_pred, Y_test, multioutput='variance_weighted')"
   ]
  },
  {
   "cell_type": "code",
   "execution_count": 31,
   "metadata": {},
   "outputs": [
    {
     "data": {
      "text/plain": [
       "array([0.99988339, 0.99975701, 0.99986215, 0.9999021 , 0.99987707,\n",
       "       0.99989536, 0.99979336, 0.9998249 , 0.99979162, 0.99986273,\n",
       "       0.99986074, 0.99912182, 0.99962899, 0.99961883, 0.99947443,\n",
       "       0.99943331, 0.99982026, 0.99797246, 0.99814789, 0.99985698,\n",
       "       0.99986383, 0.99894446, 0.99972704, 0.9995934 , 0.99898784,\n",
       "       0.99972811, 0.99926142, 0.99811532, 0.9997791 , 0.99977916,\n",
       "       0.99969332, 0.99878254, 0.99706644, 0.99296273, 0.99937794,\n",
       "       0.99839904, 0.99951247, 0.99952819, 0.99108563, 0.99989211,\n",
       "       0.99943109, 0.99984218, 0.9997867 , 0.99952074, 0.99921684,\n",
       "       0.99836202, 0.98986657, 0.99913555, 0.94042192, 0.99952099,\n",
       "       0.99896098, 0.99843357, 0.98210029, 0.99934308, 0.99937598,\n",
       "       0.9994077 , 0.99951849, 0.9997154 , 0.99944311, 0.99984033,\n",
       "       0.99957321, 0.999863  , 0.9997052 , 0.99873087, 0.99892519,\n",
       "       0.99968748, 0.99934424, 0.99960795, 0.99852135, 0.99979989,\n",
       "       0.99842008, 0.99963227, 0.99960375, 0.99934087])"
      ]
     },
     "execution_count": 31,
     "metadata": {},
     "output_type": "execute_result"
    }
   ],
   "source": [
    "r2_score(y_test_pred, Y_test, multioutput='raw_values')"
   ]
  },
  {
   "cell_type": "code",
   "execution_count": 32,
   "metadata": {},
   "outputs": [
    {
     "data": {
      "text/plain": [
       "Text(0,0.5,'neural net prediction')"
      ]
     },
     "execution_count": 32,
     "metadata": {},
     "output_type": "execute_result"
    },
    {
     "data": {
      "image/png": "[encoded data removed]",
      "text/plain": [
       "<Figure size 432x288 with 1 Axes>"
      ]
     },
     "metadata": {},
     "output_type": "display_data"
    }
   ],
   "source": [
    "plt.scatter(y_test_pred, Y_test, alpha=0.1, s=2.0)\n",
    "plt.xlim(-5,5)\n",
    "plt.ylim(-5,5)\n",
    "\n",
    "plt.xlabel('true value')\n",
    "plt.ylabel('neural net prediction')"
   ]
  },
  {
   "cell_type": "code",
   "execution_count": 33,
   "metadata": {},
   "outputs": [
    {
     "data": {
      "image/png": "[encoded data removed]",
      "text/plain": [
       "<Figure size 432x288 with 1 Axes>"
      ]
     },
     "metadata": {},
     "output_type": "display_data"
    }
   ],
   "source": [
    "@interact(n=IntSlider(min=0,max=73,step=1,value=0,continuous_update=True))\n",
    "def plot_scatter(n):\n",
    "    plt.scatter(y_test_pred[n,:], Y_test[n,:], \n",
    "                alpha=0.5, s=5.0)\n",
    "    plt.title(varnames[n])"
   ]
  },
  {
   "cell_type": "markdown",
   "metadata": {},
   "source": [
    "# Scale back to original concentration"
   ]
  },
  {
   "cell_type": "code",
   "execution_count": 34,
   "metadata": {},
   "outputs": [],
   "source": [
    "y_test_pred_scale_back = normalizer.inverse_transform(y_test_pred)\n",
    "y_test_scale_back = normalizer.inverse_transform(Y_test)"
   ]
  },
  {
   "cell_type": "code",
   "execution_count": 35,
   "metadata": {},
   "outputs": [
    {
     "data": {
      "image/png": "[encoded data removed]",
      "text/plain": [
       "<Figure size 432x288 with 1 Axes>"
      ]
     },
     "metadata": {},
     "output_type": "display_data"
    }
   ],
   "source": [
    "@interact(n=IntSlider(min=0,max=73,step=1,value=0,continuous_update=True))\n",
    "def plot_scatter(n):\n",
    "    plt.scatter(y_test_pred_scale_back[n,:], \n",
    "                y_test_scale_back[n,:], \n",
    "                alpha=0.5, s=2.0)\n",
    "    plt.title(varnames[n])"
   ]
  },
  {
   "cell_type": "code",
   "execution_count": null,
   "metadata": {},
   "outputs": [],
   "source": []
  }
 ],
 "metadata": {
  "kernelspec": {
   "display_name": "Environment (conda_pytorch_p36)",
   "language": "python",
   "name": "conda_pytorch_p36"
  },
  "language_info": {
   "codemirror_mode": {
    "name": "ipython",
    "version": 3
   },
   "file_extension": ".py",
   "mimetype": "text/x-python",
   "name": "python",
   "nbconvert_exporter": "python",
   "pygments_lexer": "ipython3",
   "version": "3.6.4"
  }
 },
 "nbformat": 4,
 "nbformat_minor": 2
}
