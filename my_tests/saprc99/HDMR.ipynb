{
 "cells": [
  {
   "cell_type": "code",
   "execution_count": 35,
   "metadata": {
    "collapsed": true
   },
   "outputs": [],
   "source": [
    "%matplotlib inline\n",
    "import matplotlib.pyplot as plt\n",
    "import pandas as pd\n",
    "import numpy as np\n",
    "\n",
    "from scipy.interpolate import interp1d, interp2d\n",
    "\n",
    "from sklearn.preprocessing import StandardScaler\n",
    "from sklearn.metrics import r2_score\n",
    "\n",
    "from ipywidgets import interact, IntSlider"
   ]
  },
  {
   "cell_type": "markdown",
   "metadata": {},
   "source": [
    "# Prepare"
   ]
  },
  {
   "cell_type": "code",
   "execution_count": 36,
   "metadata": {},
   "outputs": [
    {
     "name": "stdout",
     "output_type": "stream",
     "text": [
      "['H2SO4', 'HCOOH', 'CCO_OH', 'RCO_OH', 'CCO_OOH', 'RCO_OOH', 'XN', 'XC', 'SO2', 'O1D', 'ALK1', 'BACL', 'PAN', 'PAN2', 'PBZN', 'MA_PAN', 'H2O2', 'N2O5', 'HONO', 'ALK2', 'ALK3', 'TBU_O', 'ALK5', 'ARO2', 'HNO4', 'COOH', 'HOCOO', 'BZNO2_O', 'MEOH', 'ALK4', 'ARO1', 'DCB2', 'DCB3', 'CRES', 'DCB1', 'NPHE', 'ROOH', 'BALD', 'PHEN', 'CO', 'MGLY', 'ACET', 'HNO3', 'ETHENE', 'GLY', 'BZ_O', 'ISOPRENE', 'R2O2', 'TERP', 'METHACRO', 'OLE1', 'ISOPROD', 'OLE2', 'MVK', 'CCHO', 'HCHO', 'RNO3', 'O3P', 'RCHO', 'MEK', 'PROD2', 'O3', 'HO2', 'RO2_N', 'MA_RCO3', 'C_O2', 'BZCO_O2', 'RO2_R', 'NO', 'NO2', 'NO3', 'CCO_O2', 'RCO_O2', 'OH']\n"
     ]
    }
   ],
   "source": [
    "from read_results import read_varnames\n",
    "import saprc99_code.kpp4py as kpp\n",
    "\n",
    "nvar = 74\n",
    "varnames = read_varnames(\"saprc99_code/saprc99_Parameters.f90\")[0:nvar]\n",
    "print(varnames)"
   ]
  },
  {
   "cell_type": "code",
   "execution_count": 37,
   "metadata": {},
   "outputs": [
    {
     "data": {
      "text/html": [
       "<div>\n",
       "<style scoped>\n",
       "    .dataframe tbody tr th:only-of-type {\n",
       "        vertical-align: middle;\n",
       "    }\n",
       "\n",
       "    .dataframe tbody tr th {\n",
       "        vertical-align: top;\n",
       "    }\n",
       "\n",
       "    .dataframe thead th {\n",
       "        text-align: right;\n",
       "    }\n",
       "</style>\n",
       "<table border=\"1\" class=\"dataframe\">\n",
       "  <thead>\n",
       "    <tr style=\"text-align: right;\">\n",
       "      <th></th>\n",
       "      <th>min</th>\n",
       "      <th>max</th>\n",
       "      <th>mid</th>\n",
       "    </tr>\n",
       "  </thead>\n",
       "  <tbody>\n",
       "    <tr>\n",
       "      <th>C_O2</th>\n",
       "      <td>5.391452e+06</td>\n",
       "      <td>1.419437e+09</td>\n",
       "      <td>7.124145e+08</td>\n",
       "    </tr>\n",
       "    <tr>\n",
       "      <th>BZCO_O2</th>\n",
       "      <td>1.000000e-08</td>\n",
       "      <td>3.226580e+06</td>\n",
       "      <td>1.613290e+06</td>\n",
       "    </tr>\n",
       "    <tr>\n",
       "      <th>RO2_R</th>\n",
       "      <td>2.006049e+05</td>\n",
       "      <td>1.824368e+09</td>\n",
       "      <td>9.122844e+08</td>\n",
       "    </tr>\n",
       "    <tr>\n",
       "      <th>NO</th>\n",
       "      <td>1.006610e+05</td>\n",
       "      <td>9.000156e+11</td>\n",
       "      <td>4.500078e+11</td>\n",
       "    </tr>\n",
       "    <tr>\n",
       "      <th>NO2</th>\n",
       "      <td>5.003760e+09</td>\n",
       "      <td>1.461165e+12</td>\n",
       "      <td>7.330842e+11</td>\n",
       "    </tr>\n",
       "    <tr>\n",
       "      <th>NO3</th>\n",
       "      <td>1.742790e+06</td>\n",
       "      <td>1.039629e+10</td>\n",
       "      <td>5.199017e+09</td>\n",
       "    </tr>\n",
       "    <tr>\n",
       "      <th>CCO_O2</th>\n",
       "      <td>6.779490e+05</td>\n",
       "      <td>5.267318e+08</td>\n",
       "      <td>2.637049e+08</td>\n",
       "    </tr>\n",
       "    <tr>\n",
       "      <th>RCO_O2</th>\n",
       "      <td>7.110903e+04</td>\n",
       "      <td>3.979400e+08</td>\n",
       "      <td>1.990056e+08</td>\n",
       "    </tr>\n",
       "    <tr>\n",
       "      <th>OH</th>\n",
       "      <td>9.784155e+04</td>\n",
       "      <td>7.272688e+07</td>\n",
       "      <td>3.641236e+07</td>\n",
       "    </tr>\n",
       "    <tr>\n",
       "      <th>SUN</th>\n",
       "      <td>0.000000e+00</td>\n",
       "      <td>1.000000e+00</td>\n",
       "      <td>5.000000e-01</td>\n",
       "    </tr>\n",
       "  </tbody>\n",
       "</table>\n",
       "</div>"
      ],
      "text/plain": [
       "                  min           max           mid\n",
       "C_O2     5.391452e+06  1.419437e+09  7.124145e+08\n",
       "BZCO_O2  1.000000e-08  3.226580e+06  1.613290e+06\n",
       "RO2_R    2.006049e+05  1.824368e+09  9.122844e+08\n",
       "NO       1.006610e+05  9.000156e+11  4.500078e+11\n",
       "NO2      5.003760e+09  1.461165e+12  7.330842e+11\n",
       "NO3      1.742790e+06  1.039629e+10  5.199017e+09\n",
       "CCO_O2   6.779490e+05  5.267318e+08  2.637049e+08\n",
       "RCO_O2   7.110903e+04  3.979400e+08  1.990056e+08\n",
       "OH       9.784155e+04  7.272688e+07  3.641236e+07\n",
       "SUN      0.000000e+00  1.000000e+00  5.000000e-01"
      ]
     },
     "execution_count": 37,
     "metadata": {},
     "output_type": "execute_result"
    }
   ],
   "source": [
    "df_range = (\n",
    "    pd.read_csv('saprc99_range.csv', index_col=0)\n",
    "    .append(pd.DataFrame(np.array([[0.0, 1.0]]), \n",
    "                         columns=['min','max'], \n",
    "                         index=['SUN']\n",
    "                        )\n",
    "           )\n",
    ")\n",
    "\n",
    "df_range['mid'] = 0.5*(df_range['min']+df_range['max'])\n",
    "df_range.tail(10)"
   ]
  },
  {
   "cell_type": "code",
   "execution_count": 38,
   "metadata": {},
   "outputs": [
    {
     "data": {
      "text/plain": [
       "((75,), (1, 74))"
      ]
     },
     "execution_count": 38,
     "metadata": {},
     "output_type": "execute_result"
    }
   ],
   "source": [
    "x0 = df_range['mid'].values\n",
    "f0 = y0 = kpp.onestep(x0.T).T\n",
    "x0.shape, y0.shape"
   ]
  },
  {
   "cell_type": "markdown",
   "metadata": {},
   "source": [
    "# 1st order HDMR"
   ]
  },
  {
   "cell_type": "code",
   "execution_count": 39,
   "metadata": {
    "collapsed": true
   },
   "outputs": [],
   "source": [
    "def hdmr_axis(n, res = 10):\n",
    "    '''Sample along one axis'''\n",
    "    x_list = np.empty([res, nvar+1])\n",
    "    x_list[:] = df_range['mid'].values\n",
    "    x_list[:,n] = np.linspace(df_range['min'][n],df_range['max'][n], res)\n",
    "\n",
    "    y1 = kpp.onestep(x_list.T).T - y0\n",
    "    return y1, x_list[:,n]"
   ]
  },
  {
   "cell_type": "code",
   "execution_count": 40,
   "metadata": {
    "collapsed": true
   },
   "outputs": [],
   "source": [
    "# construct all 1-st order components\n",
    "y1_list = [None]*(nvar+1)\n",
    "x1_list = [None]*(nvar+1)\n",
    "\n",
    "for n in range(nvar+1):\n",
    "    y1_list[n], x1_list[n] = hdmr_axis(n)"
   ]
  },
  {
   "cell_type": "code",
   "execution_count": 41,
   "metadata": {
    "collapsed": true
   },
   "outputs": [],
   "source": [
    "# interpolate all HDMR components\n",
    "f1 = []\n",
    "for j_in in range(nvar+1):\n",
    "    f1.append( interp1d(x1_list[j_in], y1_list[j_in].T) )"
   ]
  },
  {
   "cell_type": "code",
   "execution_count": 42,
   "metadata": {
    "collapsed": true
   },
   "outputs": [],
   "source": [
    "def eval_hdmr1(x, f0=f0, f1=f1):\n",
    "    '''Evaluate 1-st order HDMR at x'''\n",
    "    S = 0.0 # to hold the sum of all components\n",
    "    \n",
    "    # 1-st order components\n",
    "    for j_in in range(nvar+1):\n",
    "        S += f1[j_in](x[:,j_in]).T\n",
    "    \n",
    "    # 0-th order term\n",
    "    S += f0\n",
    "    return S"
   ]
  },
  {
   "cell_type": "code",
   "execution_count": 43,
   "metadata": {
    "collapsed": true
   },
   "outputs": [],
   "source": [
    "df_range['span'] = df_range['max'] - df_range['min']"
   ]
  },
  {
   "cell_type": "code",
   "execution_count": 44,
   "metadata": {},
   "outputs": [
    {
     "data": {
      "text/plain": [
       "(5000, 75)"
      ]
     },
     "execution_count": 44,
     "metadata": {},
     "output_type": "execute_result"
    }
   ],
   "source": [
    "#x_test = np.random.uniform(df_range['min'], df_range['max'], size=(5000, nvar+1))\n",
    "\n",
    "x_test = np.random.uniform(df_range['min'] + 0.3*df_range['span'],\n",
    "                           df_range['max'] - 0.3*df_range['span'], \n",
    "                           size=(5000, nvar+1))\n",
    "\n",
    "x_test.shape"
   ]
  },
  {
   "cell_type": "code",
   "execution_count": 45,
   "metadata": {},
   "outputs": [
    {
     "name": "stdout",
     "output_type": "stream",
     "text": [
      "CPU times: user 183 ms, sys: 4.27 ms, total: 187 ms\n",
      "Wall time: 186 ms\n"
     ]
    },
    {
     "data": {
      "text/plain": [
       "(5000, 74)"
      ]
     },
     "execution_count": 45,
     "metadata": {},
     "output_type": "execute_result"
    }
   ],
   "source": [
    "%time y_test_pred = eval_hdmr1(x_test)\n",
    "y_test_pred.shape"
   ]
  },
  {
   "cell_type": "code",
   "execution_count": 46,
   "metadata": {},
   "outputs": [
    {
     "name": "stdout",
     "output_type": "stream",
     "text": [
      "CPU times: user 3.61 s, sys: 36.4 ms, total: 3.64 s\n",
      "Wall time: 3.66 s\n"
     ]
    },
    {
     "data": {
      "text/plain": [
       "(5000, 74)"
      ]
     },
     "execution_count": 46,
     "metadata": {},
     "output_type": "execute_result"
    }
   ],
   "source": [
    "%time y_test_true = kpp.onestep(x_test.T).T\n",
    "y_test_true.shape"
   ]
  },
  {
   "cell_type": "code",
   "execution_count": 47,
   "metadata": {},
   "outputs": [
    {
     "data": {
      "text/plain": [
       "0.97023323259771355"
      ]
     },
     "execution_count": 47,
     "metadata": {},
     "output_type": "execute_result"
    }
   ],
   "source": [
    "r2_score(y_test_pred, y_test_true)"
   ]
  },
  {
   "cell_type": "code",
   "execution_count": 48,
   "metadata": {},
   "outputs": [
    {
     "data": {
      "text/plain": [
       "0.97023323259771332"
      ]
     },
     "execution_count": 48,
     "metadata": {},
     "output_type": "execute_result"
    }
   ],
   "source": [
    "r2_score(y_test_pred/df_range['max'][:-1].values, \n",
    "         y_test_true/df_range['max'][:-1].values)"
   ]
  },
  {
   "cell_type": "code",
   "execution_count": 49,
   "metadata": {},
   "outputs": [
    {
     "data": {
      "text/plain": [
       "(0, 2)"
      ]
     },
     "execution_count": 49,
     "metadata": {},
     "output_type": "execute_result"
    },
    {
     "data": {
      "image/png": "[encoded data removed]",
      "text/plain": [
       "<matplotlib.figure.Figure at 0x11f27add8>"
      ]
     },
     "metadata": {},
     "output_type": "display_data"
    }
   ],
   "source": [
    "plt.scatter(y_test_pred/df_range['max'][:-1].values, \n",
    "            y_test_true/df_range['max'][:-1].values,\n",
    "            s=0.2)\n",
    "plt.xlim(0, 2)\n",
    "plt.ylim(0, 2)"
   ]
  },
  {
   "cell_type": "markdown",
   "metadata": {},
   "source": [
    "# 2-nd order HDMR"
   ]
  },
  {
   "cell_type": "code",
   "execution_count": 16,
   "metadata": {
    "collapsed": true
   },
   "outputs": [],
   "source": [
    "def hdmr_plane(n, m, res = 10):\n",
    "    '''Sample along one 2D plane'''\n",
    "\n",
    "    range_n = np.linspace(df_range['min'][n], df_range['max'][n], res)\n",
    "    range_m = np.linspace(df_range['min'][m], df_range['max'][m], res)\n",
    "\n",
    "    x_list = np.empty([res, res, nvar+1])\n",
    "    x_list[:] = df_range['mid'].values\n",
    "    x_list[:,:,n] = range_n.reshape(1,res)\n",
    "    x_list[:,:,m] = range_m.reshape(res,1)\n",
    "\n",
    "    y = kpp.onestep(x_list.reshape(res*res,-1).T).T.reshape(res,res,-1)\n",
    "    \n",
    "    # Use 1D axis to approximate 2D plane\n",
    "    y_approx = y1_list[n].reshape(1, res, -1) + y1_list[m].reshape(res, 1, -1) + y0\n",
    "    \n",
    "    y2 = y - y_approx # store the differene in 2-nd order components\n",
    "\n",
    "    return y2"
   ]
  },
  {
   "cell_type": "code",
   "execution_count": 17,
   "metadata": {},
   "outputs": [
    {
     "name": "stdout",
     "output_type": "stream",
     "text": [
      "0 1 2 3 4 5 6 7 8 9 10 11 12 13 14 15 16 17 18 19 20 21 22 23 24 25 26 27 28 29 30 31 32 33 34 35 36 37 38 39 40 41 42 43 44 45 46 47 48 49 50 51 52 53 54 55 56 57 58 59 60 61 62 63 64 65 66 67 68 69 70 71 72 73 74 CPU times: user 3min 23s, sys: 1.64 s, total: 3min 25s\n",
      "Wall time: 3min 28s\n"
     ]
    }
   ],
   "source": [
    "%%time\n",
    "# construct all 2-nd order components\n",
    "y2_list = np.empty([nvar+1, nvar+1], dtype=object)\n",
    "x2_list = np.empty([nvar+1, nvar+1], dtype=object)\n",
    "\n",
    "for n in range(nvar+1):\n",
    "    print(n, end=' ')\n",
    "    for m in range(nvar+1):\n",
    "        if m==n:\n",
    "            break\n",
    "        y2_list[n,m] = hdmr_plane(n, m)"
   ]
  },
  {
   "cell_type": "code",
   "execution_count": 18,
   "metadata": {},
   "outputs": [
    {
     "data": {
      "application/vnd.jupyter.widget-view+json": {
       "model_id": "36736a7241884ccf821a15b739456462"
      }
     },
     "metadata": {},
     "output_type": "display_data"
    }
   ],
   "source": [
    "@interact(n=IntSlider(min=0,max=74,step=1,value=33,continuous_update=False),\n",
    "          m=IntSlider(min=0,max=74,step=1,value=29,continuous_update=False),\n",
    "          k=IntSlider(min=0,max=73,step=1,value=20,continuous_update=False))\n",
    "def plot_2d_diff(n, m, k):\n",
    "    \n",
    "    if n < m:\n",
    "        m, n = n, m\n",
    "    if n == m:\n",
    "        print('no 2D component for n=m')\n",
    "        return\n",
    "    \n",
    "    res = 10 # determined by data\n",
    "    \n",
    "    range_n = np.linspace(df_range['min'][n], df_range['max'][n], res)\n",
    "    range_m = np.linspace(df_range['min'][m], df_range['max'][m], res)\n",
    "    \n",
    "    # Use 1D axis to approximate 2D plane\n",
    "    y2_approx = y1_list[n].reshape(1, res, -1) + y1_list[m].reshape(res, 1, -1) + y0\n",
    "    \n",
    "    ratio = y2_list[n,m][...,k]/y2_approx[...,k]\n",
    "    ratio_range = np.max(np.abs(ratio))\n",
    "    \n",
    "    plt.pcolormesh(range_n, range_m, ratio,\n",
    "                   cmap='bwr', vmin=-ratio_range, vmax=ratio_range)\n",
    "    \n",
    "    plt.xlabel(df_range.iloc[n].name)\n",
    "    plt.ylabel(df_range.iloc[m].name)\n",
    "    plt.title(df_range.iloc[k].name)\n",
    "    \n",
    "    plt.colorbar()\n",
    "    plt.show()"
   ]
  },
  {
   "cell_type": "markdown",
   "metadata": {},
   "source": [
    "## Interpolation"
   ]
  },
  {
   "cell_type": "code",
   "execution_count": 19,
   "metadata": {
    "collapsed": true
   },
   "outputs": [],
   "source": [
    "res = 10\n",
    "n = 74 # SUN\n",
    "range_n = np.linspace(df_range['min'][n], df_range['max'][n], res)\n",
    "\n",
    "# interpolate all HDMR components\n",
    "f2_SUN = np.empty([nvar, nvar], dtype=object) # [input except SUN, output]\n",
    "\n",
    "for m in range(nvar): # input except SUN\n",
    "    range_m = np.linspace(df_range['min'][m], df_range['max'][m], res)\n",
    "    \n",
    "    for k in range(nvar): # output variable\n",
    "        # interp2d can only fit one level at a time\n",
    "        f2_SUN[m,k] = interp2d(range_n, range_m, y2_list[n,m][...,k])"
   ]
  },
  {
   "cell_type": "code",
   "execution_count": 20,
   "metadata": {
    "collapsed": true
   },
   "outputs": [],
   "source": [
    "def eval_hdmr2_sun(x, f2_SUN=f2_SUN):\n",
    "    '''\n",
    "    Evaluate 2-nd order HDMR at x\n",
    "    Only consider correlation with SUN. Skip other correlations\n",
    "    '''\n",
    "    S = eval_hdmr1(x)  # start with 1-st order approx\n",
    "    \n",
    "    for i, xi in enumerate(x): # data points\n",
    "        for k in range(nvar): # output variable\n",
    "            for m in range(nvar):\n",
    "                S[i, k] += f2_SUN[m, k](xi[-1], xi[m])\n",
    "\n",
    "    return S"
   ]
  },
  {
   "cell_type": "markdown",
   "metadata": {},
   "source": [
    "## Test set"
   ]
  },
  {
   "cell_type": "code",
   "execution_count": 50,
   "metadata": {
    "scrolled": true
   },
   "outputs": [
    {
     "name": "stdout",
     "output_type": "stream",
     "text": [
      "CPU times: user 14.8 s, sys: 143 ms, total: 14.9 s\n",
      "Wall time: 15.1 s\n"
     ]
    },
    {
     "data": {
      "text/plain": [
       "(100, 74)"
      ]
     },
     "execution_count": 50,
     "metadata": {},
     "output_type": "execute_result"
    }
   ],
   "source": [
    "%time y_test_pred_2nd = eval_hdmr2_sun(x_test[:100])\n",
    "y_test_pred_2nd.shape"
   ]
  },
  {
   "cell_type": "code",
   "execution_count": 51,
   "metadata": {},
   "outputs": [
    {
     "data": {
      "text/plain": [
       "0.98897226970646634"
      ]
     },
     "execution_count": 51,
     "metadata": {},
     "output_type": "execute_result"
    }
   ],
   "source": [
    "r2_score(y_test_pred_2nd, y_test_true[:100])"
   ]
  },
  {
   "cell_type": "code",
   "execution_count": 52,
   "metadata": {},
   "outputs": [
    {
     "data": {
      "text/plain": [
       "(0, 2)"
      ]
     },
     "execution_count": 52,
     "metadata": {},
     "output_type": "execute_result"
    },
    {
     "data": {
      "image/png": "[encoded data removed]",
      "text/plain": [
       "<matplotlib.figure.Figure at 0x11b121dd8>"
      ]
     },
     "metadata": {},
     "output_type": "display_data"
    }
   ],
   "source": [
    "plt.scatter(y_test_pred_2nd/df_range['max'][:-1].values, \n",
    "            y_test_true[:100]/df_range['max'][:-1].values,\n",
    "            s=0.2)\n",
    "plt.xlim(0, 2)\n",
    "plt.ylim(0, 2)"
   ]
  },
  {
   "cell_type": "markdown",
   "metadata": {
    "collapsed": true
   },
   "source": [
    "# Add more second-order terms"
   ]
  },
  {
   "cell_type": "code",
   "execution_count": 24,
   "metadata": {},
   "outputs": [
    {
     "name": "stderr",
     "output_type": "stream",
     "text": [
      "/Users/zhuangjw/Research/Computing/miniconda3/envs/geo/lib/python3.6/site-packages/ipykernel_launcher.py:9: RuntimeWarning: divide by zero encountered in true_divide\n",
      "  if __name__ == '__main__':\n"
     ]
    }
   ],
   "source": [
    "ratio_list = np.empty([nvar+1, nvar+1], dtype=object)\n",
    "\n",
    "res = 10\n",
    "for n in range(nvar+1):\n",
    "    for m in range(nvar+1):\n",
    "        if n <= m:\n",
    "            break\n",
    "        y2_approx = y1_list[n].reshape(1, res, -1) + y1_list[m].reshape(res, 1, -1) + y0\n",
    "        ratio_list[n,m] = y2_list[n,m]/y2_approx"
   ]
  },
  {
   "cell_type": "code",
   "execution_count": 25,
   "metadata": {},
   "outputs": [
    {
     "name": "stdout",
     "output_type": "stream",
     "text": [
      "15 1\n",
      "19 2\n",
      "20 2\n",
      "22 1\n",
      "23 1\n",
      "25 3\n",
      "29 3\n",
      "30 2\n",
      "36 1\n",
      "38 1\n",
      "43 3\n",
      "46 2\n",
      "48 2\n",
      "49 1\n",
      "52 1\n",
      "54 4\n",
      "55 2\n",
      "61 33\n",
      "62 1\n",
      "65 1\n",
      "68 7\n",
      "69 10\n",
      "71 1\n",
      "73 1\n",
      "74 61\n"
     ]
    }
   ],
   "source": [
    "for n in range(nvar+1):\n",
    "    count = 0\n",
    "    for m in range(nvar+1):\n",
    "        if n <= m:\n",
    "            break\n",
    "        max_temp = np.max(np.mean(np.abs(ratio_list[n,m]), axis=2))\n",
    "        #max_temp = np.max(np.max(np.abs(ratio_list[n,m]), axis=2))\n",
    "        if max_temp > 0.1:\n",
    "            count += 1\n",
    "            \n",
    "    if count > 0:\n",
    "        print(n, count)"
   ]
  },
  {
   "cell_type": "code",
   "execution_count": 26,
   "metadata": {},
   "outputs": [
    {
     "data": {
      "text/plain": [
       "['O3', 'NO', 'NO2']"
      ]
     },
     "execution_count": 26,
     "metadata": {},
     "output_type": "execute_result"
    }
   ],
   "source": [
    "[varnames[i] for i in [61, 68, 69]]"
   ]
  },
  {
   "cell_type": "code",
   "execution_count": 27,
   "metadata": {
    "collapsed": true
   },
   "outputs": [],
   "source": [
    "res = 10\n",
    "n_list = [61, 68, 69] # species with significant correlation with others\n",
    "\n",
    "f2_more = np.empty(len(n_list), dtype=object)\n",
    "\n",
    "for ni, n in enumerate(n_list):\n",
    "    f2_more[ni] = np.empty([n, nvar], dtype=object)\n",
    "    range_n = np.linspace(df_range['min'][n], df_range['max'][n], res)\n",
    "\n",
    "    for m in range(n): # from 0 to n\n",
    "        range_m = np.linspace(df_range['min'][m], df_range['max'][m], res)\n",
    "\n",
    "        for k in range(nvar): # output variable\n",
    "            f2_more[ni][m,k] = interp2d(range_n, range_m, y2_list[n,m][...,k])"
   ]
  },
  {
   "cell_type": "code",
   "execution_count": 28,
   "metadata": {
    "collapsed": true
   },
   "outputs": [],
   "source": [
    "def eval_hdmr2_more(x, f2_more=f2_more):\n",
    "    '''\n",
    "    Add more 2nd-order components\n",
    "    '''\n",
    "    S = eval_hdmr2_sun(x)  # start with previous 2nd-order approx\n",
    "    \n",
    "    for i, xi in enumerate(x): # data points\n",
    "        for ni, n in enumerate(n_list):\n",
    "            for m in range(n):\n",
    "                for k in range(nvar): # output variable\n",
    "                     # remember to use n for input, not -1 anymore\n",
    "                    S[i, k] += f2_more[ni][m,k](xi[n], xi[m])\n",
    "\n",
    "    return S"
   ]
  },
  {
   "cell_type": "markdown",
   "metadata": {},
   "source": [
    "## Test"
   ]
  },
  {
   "cell_type": "code",
   "execution_count": 53,
   "metadata": {
    "scrolled": true
   },
   "outputs": [
    {
     "name": "stdout",
     "output_type": "stream",
     "text": [
      "CPU times: user 52.3 s, sys: 434 ms, total: 52.8 s\n",
      "Wall time: 53.2 s\n"
     ]
    },
    {
     "data": {
      "text/plain": [
       "(100, 74)"
      ]
     },
     "execution_count": 53,
     "metadata": {},
     "output_type": "execute_result"
    }
   ],
   "source": [
    "%time y_test_pred_2nd_more = eval_hdmr2_more(x_test[:100])\n",
    "y_test_pred_2nd_more.shape"
   ]
  },
  {
   "cell_type": "code",
   "execution_count": 54,
   "metadata": {},
   "outputs": [
    {
     "data": {
      "text/plain": [
       "0.99885789492670329"
      ]
     },
     "execution_count": 54,
     "metadata": {},
     "output_type": "execute_result"
    }
   ],
   "source": [
    "r2_score(y_test_pred_2nd_more, y_test_true[:100])"
   ]
  },
  {
   "cell_type": "code",
   "execution_count": 55,
   "metadata": {},
   "outputs": [
    {
     "data": {
      "text/plain": [
       "(0, 2)"
      ]
     },
     "execution_count": 55,
     "metadata": {},
     "output_type": "execute_result"
    },
    {
     "data": {
      "image/png": "[encoded data removed]",
      "text/plain": [
       "<matplotlib.figure.Figure at 0x120978d30>"
      ]
     },
     "metadata": {},
     "output_type": "display_data"
    }
   ],
   "source": [
    "plt.scatter(y_test_pred_2nd_more/df_range['max'][:-1].values, \n",
    "            y_test_true[:100]/df_range['max'][:-1].values,\n",
    "            s=0.2)\n",
    "plt.xlim(0, 2)\n",
    "plt.ylim(0, 2)"
   ]
  },
  {
   "cell_type": "code",
   "execution_count": 56,
   "metadata": {},
   "outputs": [
    {
     "data": {
      "text/plain": [
       "0.0013223621068308934"
      ]
     },
     "execution_count": 56,
     "metadata": {},
     "output_type": "execute_result"
    }
   ],
   "source": [
    "np.mean(np.abs((y_test_pred_2nd_more-y_test_true[:100])/df_range['max'][:-1].values))"
   ]
  },
  {
   "cell_type": "code",
   "execution_count": 57,
   "metadata": {},
   "outputs": [
    {
     "data": {
      "text/plain": [
       "0.0036480141164617844"
      ]
     },
     "execution_count": 57,
     "metadata": {},
     "output_type": "execute_result"
    }
   ],
   "source": [
    "np.mean(np.abs((y_test_pred_2nd-y_test_true[:100])/df_range['max'][:-1].values))"
   ]
  },
  {
   "cell_type": "code",
   "execution_count": null,
   "metadata": {
    "collapsed": true
   },
   "outputs": [],
   "source": []
  }
 ],
 "metadata": {
  "kernelspec": {
   "display_name": "Python 3",
   "language": "python",
   "name": "python3"
  },
  "language_info": {
   "codemirror_mode": {
    "name": "ipython",
    "version": 3
   },
   "file_extension": ".py",
   "mimetype": "text/x-python",
   "name": "python",
   "nbconvert_exporter": "python",
   "pygments_lexer": "ipython3",
   "version": "3.6.2"
  },
  "toc": {
   "nav_menu": {},
   "number_sections": true,
   "sideBar": true,
   "skip_h1_title": false,
   "toc_cell": false,
   "toc_position": {},
   "toc_section_display": "block",
   "toc_window_display": false
  }
 },
 "nbformat": 4,
 "nbformat_minor": 2
}
