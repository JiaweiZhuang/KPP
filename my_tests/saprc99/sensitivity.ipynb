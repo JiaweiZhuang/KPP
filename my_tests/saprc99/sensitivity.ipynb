{
 "cells": [
  {
   "cell_type": "code",
   "execution_count": 1,
   "metadata": {
    "collapsed": true
   },
   "outputs": [],
   "source": [
    "%matplotlib inline\n",
    "import matplotlib.pyplot as plt\n",
    "import pandas as pd\n",
    "import numpy as np"
   ]
  },
  {
   "cell_type": "code",
   "execution_count": 2,
   "metadata": {
    "collapsed": true
   },
   "outputs": [],
   "source": [
    "plt.rcParams[\"figure.figsize\"] = (4, 3)\n",
    "plt.rcParams['legend.fontsize'] = 12\n",
    "plt.rcParams['xtick.labelsize'] = 12\n",
    "plt.rcParams['ytick.labelsize'] = 12\n",
    "plt.rcParams['axes.titlesize'] = 15\n",
    "plt.rcParams['axes.labelsize'] = 13"
   ]
  },
  {
   "cell_type": "markdown",
   "metadata": {},
   "source": [
    "# Prepare"
   ]
  },
  {
   "cell_type": "code",
   "execution_count": 3,
   "metadata": {},
   "outputs": [],
   "source": [
    "from read_results import read_varnames\n",
    "import saprc99_code.kpp4py as kpp"
   ]
  },
  {
   "cell_type": "code",
   "execution_count": 4,
   "metadata": {},
   "outputs": [
    {
     "name": "stdout",
     "output_type": "stream",
     "text": [
      "['H2SO4', 'HCOOH', 'CCO_OH', 'RCO_OH', 'CCO_OOH', 'RCO_OOH', 'XN', 'XC', 'SO2', 'O1D', 'ALK1', 'BACL', 'PAN', 'PAN2', 'PBZN', 'MA_PAN', 'H2O2', 'N2O5', 'HONO', 'ALK2', 'ALK3', 'TBU_O', 'ALK5', 'ARO2', 'HNO4', 'COOH', 'HOCOO', 'BZNO2_O', 'MEOH', 'ALK4', 'ARO1', 'DCB2', 'DCB3', 'CRES', 'DCB1', 'NPHE', 'ROOH', 'BALD', 'PHEN', 'CO', 'MGLY', 'ACET', 'HNO3', 'ETHENE', 'GLY', 'BZ_O', 'ISOPRENE', 'R2O2', 'TERP', 'METHACRO', 'OLE1', 'ISOPROD', 'OLE2', 'MVK', 'CCHO', 'HCHO', 'RNO3', 'O3P', 'RCHO', 'MEK', 'PROD2', 'O3', 'HO2', 'RO2_N', 'MA_RCO3', 'C_O2', 'BZCO_O2', 'RO2_R', 'NO', 'NO2', 'NO3', 'CCO_O2', 'RCO_O2', 'OH']\n"
     ]
    }
   ],
   "source": [
    "nvar = 74\n",
    "varnames = read_varnames(\"saprc99_code/saprc99_Parameters.f90\")[0:nvar]\n",
    "print(varnames)"
   ]
  },
  {
   "cell_type": "code",
   "execution_count": 5,
   "metadata": {
    "scrolled": true
   },
   "outputs": [
    {
     "data": {
      "text/html": [
       "<div>\n",
       "<style scoped>\n",
       "    .dataframe tbody tr th:only-of-type {\n",
       "        vertical-align: middle;\n",
       "    }\n",
       "\n",
       "    .dataframe tbody tr th {\n",
       "        vertical-align: top;\n",
       "    }\n",
       "\n",
       "    .dataframe thead th {\n",
       "        text-align: right;\n",
       "    }\n",
       "</style>\n",
       "<table border=\"1\" class=\"dataframe\">\n",
       "  <thead>\n",
       "    <tr style=\"text-align: right;\">\n",
       "      <th></th>\n",
       "      <th>min</th>\n",
       "      <th>max</th>\n",
       "      <th>mid</th>\n",
       "    </tr>\n",
       "  </thead>\n",
       "  <tbody>\n",
       "    <tr>\n",
       "      <th>H2SO4</th>\n",
       "      <td>2.131631e+10</td>\n",
       "      <td>1.223799e+12</td>\n",
       "      <td>6.225577e+11</td>\n",
       "    </tr>\n",
       "    <tr>\n",
       "      <th>HCOOH</th>\n",
       "      <td>1.941420e+10</td>\n",
       "      <td>1.137429e+11</td>\n",
       "      <td>6.657857e+10</td>\n",
       "    </tr>\n",
       "    <tr>\n",
       "      <th>CCO_OH</th>\n",
       "      <td>2.994973e+10</td>\n",
       "      <td>2.073705e+12</td>\n",
       "      <td>1.051827e+12</td>\n",
       "    </tr>\n",
       "    <tr>\n",
       "      <th>RCO_OH</th>\n",
       "      <td>1.275993e+10</td>\n",
       "      <td>1.380322e+12</td>\n",
       "      <td>6.965411e+11</td>\n",
       "    </tr>\n",
       "    <tr>\n",
       "      <th>CCO_OOH</th>\n",
       "      <td>8.695723e+05</td>\n",
       "      <td>1.215977e+12</td>\n",
       "      <td>6.079890e+11</td>\n",
       "    </tr>\n",
       "    <tr>\n",
       "      <th>RCO_OOH</th>\n",
       "      <td>4.160388e+05</td>\n",
       "      <td>7.387218e+11</td>\n",
       "      <td>3.693611e+11</td>\n",
       "    </tr>\n",
       "    <tr>\n",
       "      <th>XN</th>\n",
       "      <td>5.950410e+07</td>\n",
       "      <td>2.010207e+11</td>\n",
       "      <td>1.005401e+11</td>\n",
       "    </tr>\n",
       "    <tr>\n",
       "      <th>XC</th>\n",
       "      <td>4.906034e+12</td>\n",
       "      <td>5.593960e+12</td>\n",
       "      <td>5.249997e+12</td>\n",
       "    </tr>\n",
       "    <tr>\n",
       "      <th>SO2</th>\n",
       "      <td>8.404868e+05</td>\n",
       "      <td>1.202484e+12</td>\n",
       "      <td>6.012423e+11</td>\n",
       "    </tr>\n",
       "    <tr>\n",
       "      <th>O1D</th>\n",
       "      <td>1.000000e-08</td>\n",
       "      <td>7.012137e-01</td>\n",
       "      <td>3.506069e-01</td>\n",
       "    </tr>\n",
       "  </tbody>\n",
       "</table>\n",
       "</div>"
      ],
      "text/plain": [
       "                  min           max           mid\n",
       "H2SO4    2.131631e+10  1.223799e+12  6.225577e+11\n",
       "HCOOH    1.941420e+10  1.137429e+11  6.657857e+10\n",
       "CCO_OH   2.994973e+10  2.073705e+12  1.051827e+12\n",
       "RCO_OH   1.275993e+10  1.380322e+12  6.965411e+11\n",
       "CCO_OOH  8.695723e+05  1.215977e+12  6.079890e+11\n",
       "RCO_OOH  4.160388e+05  7.387218e+11  3.693611e+11\n",
       "XN       5.950410e+07  2.010207e+11  1.005401e+11\n",
       "XC       4.906034e+12  5.593960e+12  5.249997e+12\n",
       "SO2      8.404868e+05  1.202484e+12  6.012423e+11\n",
       "O1D      1.000000e-08  7.012137e-01  3.506069e-01"
      ]
     },
     "execution_count": 5,
     "metadata": {},
     "output_type": "execute_result"
    }
   ],
   "source": [
    "df_range = pd.read_csv('saprc99_range.csv', index_col=0)\n",
    "df_range['mid'] = 0.5*(df_range['min']+df_range['max'])\n",
    "df_range.head(10)"
   ]
  },
  {
   "cell_type": "markdown",
   "metadata": {},
   "source": [
    "# Sensitivity matrix on reference point"
   ]
  },
  {
   "cell_type": "code",
   "execution_count": 6,
   "metadata": {},
   "outputs": [
    {
     "data": {
      "text/plain": [
       "(75,)"
      ]
     },
     "execution_count": 6,
     "metadata": {},
     "output_type": "execute_result"
    }
   ],
   "source": [
    "y0 = np.append(df_range['mid'], 0.5)\n",
    "#y0 = np.random.uniform(np.append(df_range['min'], 0), np.append(df_range['max'], 1))\n",
    "\n",
    "y0.shape"
   ]
  },
  {
   "cell_type": "code",
   "execution_count": 7,
   "metadata": {},
   "outputs": [
    {
     "data": {
      "text/plain": [
       "(1, 74)"
      ]
     },
     "execution_count": 7,
     "metadata": {},
     "output_type": "execute_result"
    }
   ],
   "source": [
    "f0 = kpp.onestep(y0.T).T\n",
    "f0.shape"
   ]
  },
  {
   "cell_type": "code",
   "execution_count": 8,
   "metadata": {
    "collapsed": true
   },
   "outputs": [],
   "source": [
    "y_perturb = np.empty([75, 75])\n",
    "y_perturb[:] = y0\n",
    "for i in range(75):\n",
    "    y_perturb[i, i] *= 1.1"
   ]
  },
  {
   "cell_type": "code",
   "execution_count": 9,
   "metadata": {},
   "outputs": [
    {
     "data": {
      "text/plain": [
       "(75, 74)"
      ]
     },
     "execution_count": 9,
     "metadata": {},
     "output_type": "execute_result"
    }
   ],
   "source": [
    "f = kpp.onestep(y_perturb.T).T\n",
    "f.shape"
   ]
  },
  {
   "cell_type": "code",
   "execution_count": 10,
   "metadata": {
    "collapsed": true
   },
   "outputs": [],
   "source": [
    "#A = f/f0 # sensitivity matrix\n",
    "A = (f/y_perturb[:,:-1])/(f0/y0[:-1])"
   ]
  },
  {
   "cell_type": "code",
   "execution_count": 11,
   "metadata": {},
   "outputs": [
    {
     "data": {
      "text/plain": [
       "<matplotlib.text.Text at 0x11031ed30>"
      ]
     },
     "execution_count": 11,
     "metadata": {},
     "output_type": "execute_result"
    },
    {
     "data": {
      "image/png": "[encoded data removed]",
      "text/plain": [
       "<matplotlib.figure.Figure at 0x10e2af390>"
      ]
     },
     "metadata": {},
     "output_type": "display_data"
    }
   ],
   "source": [
    "plt.figure(figsize=[8, 6])\n",
    "plt.pcolormesh(A, cmap='bwr', vmin=0.95, vmax=1.05)\n",
    "plt.colorbar()\n",
    "plt.ylabel('input')\n",
    "plt.xlabel('output')\n",
    "plt.title('sensitivity matrix')"
   ]
  },
  {
   "cell_type": "markdown",
   "metadata": {},
   "source": [
    "# Identify important input variable"
   ]
  },
  {
   "cell_type": "code",
   "execution_count": 12,
   "metadata": {},
   "outputs": [
    {
     "name": "stdout",
     "output_type": "stream",
     "text": [
      "0.002 \n",
      " [ 0  4  0  0  0  0  8  2  1  8  0 12 11 10 13 14  3 13 16  1  1 14  6 10 20\n",
      "  1 24 15  1  2  2 12 13 18  8 15  3  5 14  3  7  3  5  5 12 17 19 22 23 13\n",
      " 10 15 15 13 11  8  5  7 14  3  6  7 24 22 19 18 19 23 14  8 11 15 17 14]\n",
      "0.01 \n",
      " [ 0  0  0  0  0  0  4  0  0  3  0  3  4  5  4  5  0  6  5  0  0  7  1  2  7\n",
      "  1 10  9  0  0  1  4  4  6  4  8  1  3  6  0  3  0  2  1  3  7 10 10  9  4\n",
      "  4 10  9  4  3  3  3  4  3  1  2  2  8  9  7  7  7 11  4  4  5  7  8  6]\n",
      "0.02 \n",
      " [0 0 0 0 0 0 2 0 0 3 0 2 2 3 3 4 0 5 5 0 0 4 1 1 5 0 7 7 0 0 0 4 4 5 3 4 1\n",
      " 1 3 0 2 0 0 0 2 6 7 7 8 1 2 4 5 3 1 1 1 4 1 0 1 2 7 6 7 6 7 5 4 3 3 6 7 3]\n",
      "0.05 \n",
      " [0 0 0 0 0 0 0 0 0 3 0 2 0 0 0 1 0 4 3 0 0 3 0 1 2 0 6 4 0 0 0 2 2 4 1 3 0\n",
      " 0 2 0 1 0 0 0 0 4 2 5 2 1 1 1 2 0 0 0 0 3 1 0 0 0 5 5 5 6 5 5 2 1 3 5 6 2]\n"
     ]
    }
   ],
   "source": [
    "# each output variable is impacted by how many input variables\n",
    "for thres in [0.002, 0.01, 0.02, 0.05]:\n",
    "    print(thres, '\\n', (np.abs(A - 1.0) > thres).sum(axis=0))"
   ]
  },
  {
   "cell_type": "code",
   "execution_count": 13,
   "metadata": {},
   "outputs": [
    {
     "name": "stdout",
     "output_type": "stream",
     "text": [
      "0.01 \n",
      " [ 0  0  0  0  0  0  1  0  0  1  0  1 19  6  2  2  0  1  1  0  2  1  5 14  1\n",
      "  0  1  1  0  3 10  1  1  3  1  3  1  3  4  0  1  0  1  3  1  1  2  1  0  2\n",
      "  1  1  3  1  8 12  1  1  6  1  1 35  1  1  1  1  1  1 29 31  1  1  1  1 51]\n",
      "0.02 \n",
      " [ 0  0  0  0  0  0  1  0  0  1  0  1  9  3  2  2  0  1  1  0  1  1  2  9  1\n",
      "  0  1  1  0  1  5  1  1  3  1  2  0  3  0  0  1  0  0  0  1  1  0  1  0  2\n",
      "  0  1  1  1  3  6  1  1  2  0  1 30  1  1  1  1  1  1 21 22  1  1  1  1 41]\n",
      "0.05 \n",
      " [ 0  0  0  0  0  0  0  0  0  1  0  1  2  1  1  1  0  1  1  0  1  1  0  4  1\n",
      "  0  1  1  0  0  0  1  1  1  1  1  0  0  0  0  1  0  0  0  0  1  0  1  0  1\n",
      "  0  0  0  0  0  1  0  1  1  0  0 19  1  1  1  1  1  1 14 16  1  1  1  1 27]\n"
     ]
    }
   ],
   "source": [
    "# each input variable can impact how many output variables\n",
    "for thres in [0.01, 0.02, 0.05]:\n",
    "    print(thres, '\\n', (np.abs(A - 1.0) > thres).sum(axis=1))"
   ]
  },
  {
   "cell_type": "code",
   "execution_count": 14,
   "metadata": {},
   "outputs": [],
   "source": [
    "impact_factor = (np.abs(A - 1.0) > 0.02).sum(axis=1)\n",
    "df_impact = pd.Series(impact_factor, index=varnames+['SUN'])"
   ]
  },
  {
   "cell_type": "code",
   "execution_count": 15,
   "metadata": {},
   "outputs": [
    {
     "data": {
      "text/plain": [
       "PAN      9\n",
       "ARO2     9\n",
       "ARO1     5\n",
       "HCHO     6\n",
       "O3      30\n",
       "NO      21\n",
       "NO2     22\n",
       "SUN     41\n",
       "dtype: int64"
      ]
     },
     "execution_count": 15,
     "metadata": {},
     "output_type": "execute_result"
    }
   ],
   "source": [
    "df_impact[df_impact>=5]"
   ]
  },
  {
   "cell_type": "markdown",
   "metadata": {},
   "source": [
    "# Sensitivity on multiple points"
   ]
  },
  {
   "cell_type": "code",
   "execution_count": 16,
   "metadata": {},
   "outputs": [],
   "source": [
    "def sensitivity(perb=1.1, thres=0.01):\n",
    "    y0 = np.random.uniform(np.append(df_range['min'], 0), np.append(df_range['max'], 1))\n",
    "    f0 = kpp.onestep(y0.T).T\n",
    "\n",
    "    y_perturb = np.empty([75, 75])\n",
    "    y_perturb[:] = y0\n",
    "    for i in range(75):\n",
    "        y_perturb[i, i] *= perb\n",
    "\n",
    "    f = kpp.onestep(y_perturb.T).T\n",
    "\n",
    "    A = f/f0 # sensitivity matrix\n",
    "    \n",
    "    n_effect = (np.abs(A - 1.0) > thres).sum(axis=0)\n",
    "    return n_effect.mean(), n_effect.max()"
   ]
  },
  {
   "cell_type": "code",
   "execution_count": 17,
   "metadata": {},
   "outputs": [
    {
     "name": "stdout",
     "output_type": "stream",
     "text": [
      "CPU times: user 12.9 s, sys: 163 ms, total: 13.1 s\n",
      "Wall time: 13.4 s\n"
     ]
    }
   ],
   "source": [
    "%%time\n",
    "n_max_ls = []\n",
    "n_mean_ls = []\n",
    "\n",
    "for i in range(200):\n",
    "    n_mean, n_max = sensitivity()\n",
    "    n_max_ls.append(n_max)\n",
    "    n_mean_ls.append(n_mean)"
   ]
  },
  {
   "cell_type": "code",
   "execution_count": 18,
   "metadata": {},
   "outputs": [
    {
     "data": {
      "image/png": "[encoded data removed]",
      "text/plain": [
       "<matplotlib.figure.Figure at 0x1041b33c8>"
      ]
     },
     "metadata": {},
     "output_type": "display_data"
    }
   ],
   "source": [
    "plt.hist(n_max_ls, bins=40);"
   ]
  },
  {
   "cell_type": "code",
   "execution_count": 19,
   "metadata": {},
   "outputs": [
    {
     "data": {
      "image/png": "[encoded data removed]",
      "text/plain": [
       "<matplotlib.figure.Figure at 0x10e28ceb8>"
      ]
     },
     "metadata": {},
     "output_type": "display_data"
    }
   ],
   "source": [
    "plt.hist(n_mean_ls, bins=40);"
   ]
  }
 ],
 "metadata": {
  "kernelspec": {
   "display_name": "Python 3",
   "language": "python",
   "name": "python3"
  },
  "language_info": {
   "codemirror_mode": {
    "name": "ipython",
    "version": 3
   },
   "file_extension": ".py",
   "mimetype": "text/x-python",
   "name": "python",
   "nbconvert_exporter": "python",
   "pygments_lexer": "ipython3",
   "version": "3.6.2"
  },
  "toc": {
   "nav_menu": {},
   "number_sections": true,
   "sideBar": true,
   "skip_h1_title": false,
   "toc_cell": false,
   "toc_position": {},
   "toc_section_display": "block",
   "toc_window_display": false
  }
 },
 "nbformat": 4,
 "nbformat_minor": 2
}
