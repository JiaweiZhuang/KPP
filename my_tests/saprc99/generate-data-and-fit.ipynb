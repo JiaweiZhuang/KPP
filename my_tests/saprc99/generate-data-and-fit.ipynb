{
 "cells": [
  {
   "cell_type": "code",
   "execution_count": 1,
   "metadata": {
    "collapsed": true
   },
   "outputs": [],
   "source": [
    "%matplotlib inline\n",
    "import matplotlib.pyplot as plt\n",
    "import pandas as pd\n",
    "import numpy as np\n",
    "\n",
    "import torch\n",
    "from torch.autograd import Variable\n",
    "\n",
    "from sklearn.preprocessing import StandardScaler\n",
    "from sklearn.metrics import r2_score"
   ]
  },
  {
   "cell_type": "code",
   "execution_count": 2,
   "metadata": {},
   "outputs": [
    {
     "name": "stdout",
     "output_type": "stream",
     "text": [
      "['H2SO4', 'HCOOH', 'CCO_OH', 'RCO_OH', 'CCO_OOH', 'RCO_OOH', 'XN', 'XC', 'SO2', 'O1D', 'ALK1', 'BACL', 'PAN', 'PAN2', 'PBZN', 'MA_PAN', 'H2O2', 'N2O5', 'HONO', 'ALK2', 'ALK3', 'TBU_O', 'ALK5', 'ARO2', 'HNO4', 'COOH', 'HOCOO', 'BZNO2_O', 'MEOH', 'ALK4', 'ARO1', 'DCB2', 'DCB3', 'CRES', 'DCB1', 'NPHE', 'ROOH', 'BALD', 'PHEN', 'CO', 'MGLY', 'ACET', 'HNO3', 'ETHENE', 'GLY', 'BZ_O', 'ISOPRENE', 'R2O2', 'TERP', 'METHACRO', 'OLE1', 'ISOPROD', 'OLE2', 'MVK', 'CCHO', 'HCHO', 'RNO3', 'O3P', 'RCHO', 'MEK', 'PROD2', 'O3', 'HO2', 'RO2_N', 'MA_RCO3', 'C_O2', 'BZCO_O2', 'RO2_R', 'NO', 'NO2', 'NO3', 'CCO_O2', 'RCO_O2', 'OH']\n"
     ]
    }
   ],
   "source": [
    "from read_results import read_varnames\n",
    "import saprc99_code.kpp4py as kpp\n",
    "\n",
    "nvar = 74\n",
    "varnames = read_varnames(\"saprc99_code/saprc99_Parameters.f90\")[0:nvar]\n",
    "print(varnames)"
   ]
  },
  {
   "cell_type": "code",
   "execution_count": 3,
   "metadata": {},
   "outputs": [
    {
     "data": {
      "text/html": [
       "<div>\n",
       "<style scoped>\n",
       "    .dataframe tbody tr th:only-of-type {\n",
       "        vertical-align: middle;\n",
       "    }\n",
       "\n",
       "    .dataframe tbody tr th {\n",
       "        vertical-align: top;\n",
       "    }\n",
       "\n",
       "    .dataframe thead th {\n",
       "        text-align: right;\n",
       "    }\n",
       "</style>\n",
       "<table border=\"1\" class=\"dataframe\">\n",
       "  <thead>\n",
       "    <tr style=\"text-align: right;\">\n",
       "      <th></th>\n",
       "      <th>min</th>\n",
       "      <th>max</th>\n",
       "      <th>mid</th>\n",
       "      <th>span</th>\n",
       "    </tr>\n",
       "  </thead>\n",
       "  <tbody>\n",
       "    <tr>\n",
       "      <th>C_O2</th>\n",
       "      <td>5.391452e+06</td>\n",
       "      <td>1.419437e+09</td>\n",
       "      <td>7.124145e+08</td>\n",
       "      <td>1.414046e+09</td>\n",
       "    </tr>\n",
       "    <tr>\n",
       "      <th>BZCO_O2</th>\n",
       "      <td>1.000000e-08</td>\n",
       "      <td>3.226580e+06</td>\n",
       "      <td>1.613290e+06</td>\n",
       "      <td>3.226580e+06</td>\n",
       "    </tr>\n",
       "    <tr>\n",
       "      <th>RO2_R</th>\n",
       "      <td>2.006049e+05</td>\n",
       "      <td>1.824368e+09</td>\n",
       "      <td>9.122844e+08</td>\n",
       "      <td>1.824168e+09</td>\n",
       "    </tr>\n",
       "    <tr>\n",
       "      <th>NO</th>\n",
       "      <td>1.006610e+05</td>\n",
       "      <td>9.000156e+11</td>\n",
       "      <td>4.500078e+11</td>\n",
       "      <td>9.000155e+11</td>\n",
       "    </tr>\n",
       "    <tr>\n",
       "      <th>NO2</th>\n",
       "      <td>5.003760e+09</td>\n",
       "      <td>1.461165e+12</td>\n",
       "      <td>7.330842e+11</td>\n",
       "      <td>1.456161e+12</td>\n",
       "    </tr>\n",
       "    <tr>\n",
       "      <th>NO3</th>\n",
       "      <td>1.742790e+06</td>\n",
       "      <td>1.039629e+10</td>\n",
       "      <td>5.199017e+09</td>\n",
       "      <td>1.039455e+10</td>\n",
       "    </tr>\n",
       "    <tr>\n",
       "      <th>CCO_O2</th>\n",
       "      <td>6.779490e+05</td>\n",
       "      <td>5.267318e+08</td>\n",
       "      <td>2.637049e+08</td>\n",
       "      <td>5.260539e+08</td>\n",
       "    </tr>\n",
       "    <tr>\n",
       "      <th>RCO_O2</th>\n",
       "      <td>7.110903e+04</td>\n",
       "      <td>3.979400e+08</td>\n",
       "      <td>1.990056e+08</td>\n",
       "      <td>3.978689e+08</td>\n",
       "    </tr>\n",
       "    <tr>\n",
       "      <th>OH</th>\n",
       "      <td>9.784155e+04</td>\n",
       "      <td>7.272688e+07</td>\n",
       "      <td>3.641236e+07</td>\n",
       "      <td>7.262904e+07</td>\n",
       "    </tr>\n",
       "    <tr>\n",
       "      <th>SUN</th>\n",
       "      <td>0.000000e+00</td>\n",
       "      <td>1.000000e+00</td>\n",
       "      <td>5.000000e-01</td>\n",
       "      <td>1.000000e+00</td>\n",
       "    </tr>\n",
       "  </tbody>\n",
       "</table>\n",
       "</div>"
      ],
      "text/plain": [
       "                  min           max           mid          span\n",
       "C_O2     5.391452e+06  1.419437e+09  7.124145e+08  1.414046e+09\n",
       "BZCO_O2  1.000000e-08  3.226580e+06  1.613290e+06  3.226580e+06\n",
       "RO2_R    2.006049e+05  1.824368e+09  9.122844e+08  1.824168e+09\n",
       "NO       1.006610e+05  9.000156e+11  4.500078e+11  9.000155e+11\n",
       "NO2      5.003760e+09  1.461165e+12  7.330842e+11  1.456161e+12\n",
       "NO3      1.742790e+06  1.039629e+10  5.199017e+09  1.039455e+10\n",
       "CCO_O2   6.779490e+05  5.267318e+08  2.637049e+08  5.260539e+08\n",
       "RCO_O2   7.110903e+04  3.979400e+08  1.990056e+08  3.978689e+08\n",
       "OH       9.784155e+04  7.272688e+07  3.641236e+07  7.262904e+07\n",
       "SUN      0.000000e+00  1.000000e+00  5.000000e-01  1.000000e+00"
      ]
     },
     "execution_count": 3,
     "metadata": {},
     "output_type": "execute_result"
    }
   ],
   "source": [
    "df_range = (\n",
    "    pd.read_csv('saprc99_range.csv', index_col=0)\n",
    "    .append(pd.DataFrame(np.array([[0.0, 1.0]]), \n",
    "                         columns=['min','max'], \n",
    "                         index=['SUN']\n",
    "                        )\n",
    "           )\n",
    ")\n",
    "\n",
    "df_range['mid'] = 0.5*(df_range['min']+df_range['max'])\n",
    "df_range['span'] = df_range['max'] - df_range['min']\n",
    "df_range.tail(10)"
   ]
  },
  {
   "cell_type": "code",
   "execution_count": 4,
   "metadata": {},
   "outputs": [
    {
     "data": {
      "text/html": [
       "<div>\n",
       "<style scoped>\n",
       "    .dataframe tbody tr th:only-of-type {\n",
       "        vertical-align: middle;\n",
       "    }\n",
       "\n",
       "    .dataframe tbody tr th {\n",
       "        vertical-align: top;\n",
       "    }\n",
       "\n",
       "    .dataframe thead th {\n",
       "        text-align: right;\n",
       "    }\n",
       "</style>\n",
       "<table border=\"1\" class=\"dataframe\">\n",
       "  <thead>\n",
       "    <tr style=\"text-align: right;\">\n",
       "      <th></th>\n",
       "      <th>min</th>\n",
       "      <th>max</th>\n",
       "      <th>mid</th>\n",
       "      <th>span</th>\n",
       "    </tr>\n",
       "  </thead>\n",
       "  <tbody>\n",
       "    <tr>\n",
       "      <th>PAN</th>\n",
       "      <td>6.560740e+07</td>\n",
       "      <td>4.865127e+11</td>\n",
       "      <td>2.432891e+11</td>\n",
       "      <td>4.864471e+11</td>\n",
       "    </tr>\n",
       "    <tr>\n",
       "      <th>ARO2</th>\n",
       "      <td>1.000000e-08</td>\n",
       "      <td>1.323908e+11</td>\n",
       "      <td>6.619542e+10</td>\n",
       "      <td>1.323908e+11</td>\n",
       "    </tr>\n",
       "    <tr>\n",
       "      <th>ARO1</th>\n",
       "      <td>1.000000e-08</td>\n",
       "      <td>2.594001e+11</td>\n",
       "      <td>1.297000e+11</td>\n",
       "      <td>2.594001e+11</td>\n",
       "    </tr>\n",
       "    <tr>\n",
       "      <th>HCHO</th>\n",
       "      <td>1.708487e+10</td>\n",
       "      <td>6.853611e+11</td>\n",
       "      <td>3.512230e+11</td>\n",
       "      <td>6.682763e+11</td>\n",
       "    </tr>\n",
       "    <tr>\n",
       "      <th>O3</th>\n",
       "      <td>8.459007e+11</td>\n",
       "      <td>8.609433e+12</td>\n",
       "      <td>4.727667e+12</td>\n",
       "      <td>7.763533e+12</td>\n",
       "    </tr>\n",
       "    <tr>\n",
       "      <th>NO</th>\n",
       "      <td>1.006610e+05</td>\n",
       "      <td>9.000156e+11</td>\n",
       "      <td>4.500078e+11</td>\n",
       "      <td>9.000155e+11</td>\n",
       "    </tr>\n",
       "    <tr>\n",
       "      <th>NO2</th>\n",
       "      <td>5.003760e+09</td>\n",
       "      <td>1.461165e+12</td>\n",
       "      <td>7.330842e+11</td>\n",
       "      <td>1.456161e+12</td>\n",
       "    </tr>\n",
       "    <tr>\n",
       "      <th>SUN</th>\n",
       "      <td>0.000000e+00</td>\n",
       "      <td>1.000000e+00</td>\n",
       "      <td>5.000000e-01</td>\n",
       "      <td>1.000000e+00</td>\n",
       "    </tr>\n",
       "  </tbody>\n",
       "</table>\n",
       "</div>"
      ],
      "text/plain": [
       "               min           max           mid          span\n",
       "PAN   6.560740e+07  4.865127e+11  2.432891e+11  4.864471e+11\n",
       "ARO2  1.000000e-08  1.323908e+11  6.619542e+10  1.323908e+11\n",
       "ARO1  1.000000e-08  2.594001e+11  1.297000e+11  2.594001e+11\n",
       "HCHO  1.708487e+10  6.853611e+11  3.512230e+11  6.682763e+11\n",
       "O3    8.459007e+11  8.609433e+12  4.727667e+12  7.763533e+12\n",
       "NO    1.006610e+05  9.000156e+11  4.500078e+11  9.000155e+11\n",
       "NO2   5.003760e+09  1.461165e+12  7.330842e+11  1.456161e+12\n",
       "SUN   0.000000e+00  1.000000e+00  5.000000e-01  1.000000e+00"
      ]
     },
     "execution_count": 4,
     "metadata": {},
     "output_type": "execute_result"
    }
   ],
   "source": [
    "df_range.loc[['PAN', 'ARO2', 'ARO1', 'HCHO', 'O3', 'NO', 'NO2', 'SUN']]"
   ]
  },
  {
   "cell_type": "markdown",
   "metadata": {},
   "source": [
    "# Make training data"
   ]
  },
  {
   "cell_type": "code",
   "execution_count": 5,
   "metadata": {},
   "outputs": [
    {
     "data": {
      "text/plain": [
       "(5000, 75)"
      ]
     },
     "execution_count": 5,
     "metadata": {},
     "output_type": "execute_result"
    }
   ],
   "source": [
    "y0_list = np.random.uniform(df_range['min'] + 0.3*df_range['span'],\n",
    "                            df_range['max'] - 0.3*df_range['span'], \n",
    "                           size=(5000, nvar+1))\n",
    "\n",
    "y0_list.shape"
   ]
  },
  {
   "cell_type": "code",
   "execution_count": 6,
   "metadata": {},
   "outputs": [
    {
     "name": "stdout",
     "output_type": "stream",
     "text": [
      "CPU times: user 3.87 s, sys: 53.1 ms, total: 3.92 s\n",
      "Wall time: 3.95 s\n"
     ]
    },
    {
     "data": {
      "text/plain": [
       "(5000, 74)"
      ]
     },
     "execution_count": 6,
     "metadata": {},
     "output_type": "execute_result"
    }
   ],
   "source": [
    "%time y1_list = kpp.onestep(y0_list.T).T\n",
    "y1_list.shape"
   ]
  },
  {
   "cell_type": "markdown",
   "metadata": {},
   "source": [
    "# Normalize data"
   ]
  },
  {
   "cell_type": "code",
   "execution_count": 7,
   "metadata": {
    "scrolled": true
   },
   "outputs": [
    {
     "data": {
      "text/plain": [
       "StandardScaler(copy=True, with_mean=True, with_std=True)"
      ]
     },
     "execution_count": 7,
     "metadata": {},
     "output_type": "execute_result"
    }
   ],
   "source": [
    "normalizer = StandardScaler()\n",
    "normalizer.fit(y0_list[:,0:74])"
   ]
  },
  {
   "cell_type": "code",
   "execution_count": 8,
   "metadata": {},
   "outputs": [
    {
     "data": {
      "text/plain": [
       "(5000, 75)"
      ]
     },
     "execution_count": 8,
     "metadata": {},
     "output_type": "execute_result"
    }
   ],
   "source": [
    "X_train = np.append(normalizer.transform(y0_list[:,0:74]), \n",
    "                    y0_list[:,-1:], \n",
    "                    axis=1)\n",
    "X_train.shape"
   ]
  },
  {
   "cell_type": "code",
   "execution_count": 9,
   "metadata": {},
   "outputs": [
    {
     "data": {
      "text/plain": [
       "array([ 1.00069434,  1.00312529,  1.00000016,  1.00003796,  0.99998769,\n",
       "        1.00000909,  1.11033155,  1.07917099,  0.98024212,  0.92758943,\n",
       "        0.99451683,  1.06055229,  0.90048777,  0.94184393,  0.98623844,\n",
       "        1.45376268,  0.95089258,  1.34251002,  0.20765175,  0.97863225,\n",
       "        0.95361963,  0.95316403,  0.84941654,  0.67314026,  0.98748871,\n",
       "        0.89012201,  0.8777173 ,  3.68603741,  0.98054869,  0.92250588,\n",
       "        0.89405884,  0.9395708 ,  1.16583082,  0.20296725,  0.62049098,\n",
       "        1.25511611,  0.81100285,  0.74954169,  0.33096397,  0.99905162,\n",
       "        0.72028927,  1.0003427 ,  1.01611884,  0.83337886,  0.75030207,\n",
       "        0.6319963 ,  0.20559164,  0.59993794,  0.02565669,  0.63896028,\n",
       "        0.54264851,  0.52527404,  0.09128996,  0.81075727,  0.76145445,\n",
       "        0.75601938,  0.93804881,  0.74615177,  0.7237472 ,  0.97892012,\n",
       "        0.84640396,  0.97160189,  0.83386661,  0.69360875,  0.65083941,\n",
       "        0.22289046,  0.24082827,  0.45307374,  0.12726592,  1.12048739,\n",
       "        0.03934703,  0.16406431,  0.10968937,  0.19254748])"
      ]
     },
     "execution_count": 9,
     "metadata": {},
     "output_type": "execute_result"
    }
   ],
   "source": [
    "Y_train = normalizer.transform(y1_list)\n",
    "Y_train.std(axis=0)"
   ]
  },
  {
   "cell_type": "markdown",
   "metadata": {},
   "source": [
    "# Fit ANN"
   ]
  },
  {
   "cell_type": "code",
   "execution_count": 10,
   "metadata": {
    "collapsed": true
   },
   "outputs": [],
   "source": [
    "x_torch = Variable(torch.from_numpy(X_train).type(torch.FloatTensor))\n",
    "y_torch = Variable(torch.from_numpy(Y_train).type(torch.FloatTensor))"
   ]
  },
  {
   "cell_type": "code",
   "execution_count": 11,
   "metadata": {
    "collapsed": true
   },
   "outputs": [],
   "source": [
    "H1, H2 = 100, 100\n",
    "\n",
    "model = torch.nn.Sequential(\n",
    "    torch.nn.Linear(75, H1),\n",
    "    torch.nn.ReLU(),\n",
    "    #torch.nn.Tanh(),\n",
    "    #torch.nn.BatchNorm1d(H1),\n",
    "    torch.nn.Linear(H1, H2),\n",
    "    torch.nn.ReLU(),\n",
    "    #torch.nn.Tanh(),\n",
    "    #torch.nn.BatchNorm1d(H2),\n",
    "    torch.nn.Linear(H2, 74)\n",
    ")"
   ]
  },
  {
   "cell_type": "code",
   "execution_count": 12,
   "metadata": {},
   "outputs": [
    {
     "name": "stdout",
     "output_type": "stream",
     "text": [
      "200 0.31468871235847473\n",
      "400 0.13196852803230286\n",
      "600 0.07141710072755814\n",
      "800 0.04009559378027916\n",
      "1000 0.023616518825292587\n",
      "1200 0.0151762580499053\n",
      "1400 0.011193583719432354\n",
      "1600 0.008936220780014992\n",
      "1800 0.007656843867152929\n",
      "2000 0.0066921524703502655\n",
      "2200 0.0061058769933879375\n",
      "2400 0.005630237981677055\n",
      "2600 0.005277880001813173\n",
      "2800 0.005070209037512541\n",
      "3000 0.0048740156926214695\n",
      "3200 0.004631736781448126\n",
      "3400 0.004352475982159376\n",
      "3600 0.004076881799846888\n",
      "3800 0.004979826509952545\n",
      "4000 0.0041444008238613605\n"
     ]
    }
   ],
   "source": [
    "loss_fn = torch.nn.MSELoss()\n",
    "\n",
    "#optimizer = torch.optim.LBFGS(model.parameters(), lr=0.1)\n",
    "optimizer = torch.optim.Adam(model.parameters(), lr = 0.002)\n",
    "\n",
    "for t in range(4000):\n",
    "    \n",
    "    def closure():\n",
    "        optimizer.zero_grad()\n",
    "        y_pred = model(x_torch)\n",
    "        loss = loss_fn(y_pred, y_torch)\n",
    "        loss.backward()\n",
    "        return loss\n",
    "    optimizer.step(closure)\n",
    "    \n",
    "    if (t+1)%200==0:\n",
    "        y_pred = model(x_torch)\n",
    "        loss = loss_fn(y_pred, y_torch)\n",
    "        print(t+1, loss.data[0])"
   ]
  },
  {
   "cell_type": "code",
   "execution_count": 13,
   "metadata": {},
   "outputs": [
    {
     "name": "stdout",
     "output_type": "stream",
     "text": [
      "CPU times: user 14.5 ms, sys: 899 µs, total: 15.4 ms\n",
      "Wall time: 6.17 ms\n"
     ]
    }
   ],
   "source": [
    "%%time \n",
    "y_pred = model(x_torch)\n",
    "y_pred_numpy = y_pred.data.numpy()"
   ]
  },
  {
   "cell_type": "code",
   "execution_count": 14,
   "metadata": {},
   "outputs": [
    {
     "data": {
      "text/plain": [
       "0.9670646720482049"
      ]
     },
     "execution_count": 14,
     "metadata": {},
     "output_type": "execute_result"
    }
   ],
   "source": [
    "r2_score(y_pred_numpy, Y_train)"
   ]
  },
  {
   "cell_type": "code",
   "execution_count": 15,
   "metadata": {},
   "outputs": [
    {
     "data": {
      "text/plain": [
       "(-20, 20)"
      ]
     },
     "execution_count": 15,
     "metadata": {},
     "output_type": "execute_result"
    },
    {
     "data": {
      "image/png": "[encoded data removed]",
      "text/plain": [
       "<matplotlib.figure.Figure at 0x12122b7b8>"
      ]
     },
     "metadata": {},
     "output_type": "display_data"
    }
   ],
   "source": [
    "plt.scatter(y_pred_numpy.ravel(), Y_train.ravel(), s=0.1)\n",
    "plt.xlim(-20,20)\n",
    "plt.ylim(-20,20)"
   ]
  },
  {
   "cell_type": "markdown",
   "metadata": {},
   "source": [
    "# Test set"
   ]
  },
  {
   "cell_type": "code",
   "execution_count": 23,
   "metadata": {},
   "outputs": [
    {
     "data": {
      "text/plain": [
       "(5000, 75)"
      ]
     },
     "execution_count": 23,
     "metadata": {},
     "output_type": "execute_result"
    }
   ],
   "source": [
    "y0_test = np.random.uniform(df_range['min'] + 0.3*df_range['span'],\n",
    "                           df_range['max'] - 0.3*df_range['span'], \n",
    "                           size=(5000, nvar+1))\n",
    "\n",
    "y0_list.shape"
   ]
  },
  {
   "cell_type": "code",
   "execution_count": 24,
   "metadata": {},
   "outputs": [
    {
     "name": "stdout",
     "output_type": "stream",
     "text": [
      "CPU times: user 3.69 s, sys: 52.5 ms, total: 3.74 s\n",
      "Wall time: 3.78 s\n"
     ]
    }
   ],
   "source": [
    "%time y1_test = kpp.onestep(y0_test.T).T"
   ]
  },
  {
   "cell_type": "code",
   "execution_count": 25,
   "metadata": {
    "collapsed": true
   },
   "outputs": [],
   "source": [
    "X_test = np.append(normalizer.transform(y0_test[:,0:74]), \n",
    "                   y0_test[:,-1:], \n",
    "                   axis=1)\n",
    "Y_test = normalizer.transform(y1_test)"
   ]
  },
  {
   "cell_type": "code",
   "execution_count": 26,
   "metadata": {},
   "outputs": [
    {
     "name": "stdout",
     "output_type": "stream",
     "text": [
      "CPU times: user 12.1 ms, sys: 975 µs, total: 13 ms\n",
      "Wall time: 6.95 ms\n"
     ]
    }
   ],
   "source": [
    "%%time\n",
    "X_torch_test = Variable(torch.from_numpy(X_test).type(torch.FloatTensor))\n",
    "y_test_pred = model(X_torch_test).data.numpy()"
   ]
  },
  {
   "cell_type": "code",
   "execution_count": 27,
   "metadata": {},
   "outputs": [
    {
     "data": {
      "text/plain": [
       "0.95816069702127094"
      ]
     },
     "execution_count": 27,
     "metadata": {},
     "output_type": "execute_result"
    }
   ],
   "source": [
    "r2_score(y_test_pred, Y_test)"
   ]
  },
  {
   "cell_type": "code",
   "execution_count": 28,
   "metadata": {},
   "outputs": [
    {
     "data": {
      "text/plain": [
       "(-20, 20)"
      ]
     },
     "execution_count": 28,
     "metadata": {},
     "output_type": "execute_result"
    },
    {
     "data": {
      "image/png": "[encoded data removed]",
      "text/plain": [
       "<matplotlib.figure.Figure at 0x12b5ecf28>"
      ]
     },
     "metadata": {},
     "output_type": "display_data"
    }
   ],
   "source": [
    "plt.scatter(y_test_pred, Y_test, s=0.1)\n",
    "plt.xlim(-20,20)\n",
    "plt.ylim(-20,20)"
   ]
  },
  {
   "cell_type": "code",
   "execution_count": 29,
   "metadata": {},
   "outputs": [
    {
     "data": {
      "text/plain": [
       "(-20, 20)"
      ]
     },
     "execution_count": 29,
     "metadata": {},
     "output_type": "execute_result"
    },
    {
     "data": {
      "image/png": "[encoded data removed]",
      "text/plain": [
       "<matplotlib.figure.Figure at 0x12aef79b0>"
      ]
     },
     "metadata": {},
     "output_type": "display_data"
    }
   ],
   "source": [
    "plt.scatter(Y_test, y_test_pred-Y_test, s=0.1)\n",
    "plt.xlim(-20,20)\n",
    "plt.ylim(-20,20)"
   ]
  },
  {
   "cell_type": "code",
   "execution_count": null,
   "metadata": {
    "collapsed": true
   },
   "outputs": [],
   "source": []
  }
 ],
 "metadata": {
  "kernelspec": {
   "display_name": "Python 3",
   "language": "python",
   "name": "python3"
  },
  "language_info": {
   "codemirror_mode": {
    "name": "ipython",
    "version": 3
   },
   "file_extension": ".py",
   "mimetype": "text/x-python",
   "name": "python",
   "nbconvert_exporter": "python",
   "pygments_lexer": "ipython3",
   "version": "3.6.2"
  },
  "toc": {
   "nav_menu": {},
   "number_sections": true,
   "sideBar": true,
   "skip_h1_title": false,
   "toc_cell": false,
   "toc_position": {},
   "toc_section_display": "block",
   "toc_window_display": false
  }
 },
 "nbformat": 4,
 "nbformat_minor": 2
}
