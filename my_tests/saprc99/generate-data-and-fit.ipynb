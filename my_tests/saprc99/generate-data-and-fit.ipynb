{
 "cells": [
  {
   "cell_type": "code",
   "execution_count": 1,
   "metadata": {
    "collapsed": true
   },
   "outputs": [],
   "source": [
    "%matplotlib inline\n",
    "import matplotlib.pyplot as plt\n",
    "import pandas as pd\n",
    "import numpy as np\n",
    "\n",
    "import torch\n",
    "from torch.autograd import Variable\n",
    "\n",
    "from sklearn.preprocessing import StandardScaler\n",
    "from sklearn.metrics import r2_score"
   ]
  },
  {
   "cell_type": "code",
   "execution_count": 2,
   "metadata": {},
   "outputs": [
    {
     "name": "stdout",
     "output_type": "stream",
     "text": [
      "['H2SO4', 'HCOOH', 'CCO_OH', 'RCO_OH', 'CCO_OOH', 'RCO_OOH', 'XN', 'XC', 'SO2', 'O1D', 'ALK1', 'BACL', 'PAN', 'PAN2', 'PBZN', 'MA_PAN', 'H2O2', 'N2O5', 'HONO', 'ALK2', 'ALK3', 'TBU_O', 'ALK5', 'ARO2', 'HNO4', 'COOH', 'HOCOO', 'BZNO2_O', 'MEOH', 'ALK4', 'ARO1', 'DCB2', 'DCB3', 'CRES', 'DCB1', 'NPHE', 'ROOH', 'BALD', 'PHEN', 'CO', 'MGLY', 'ACET', 'HNO3', 'ETHENE', 'GLY', 'BZ_O', 'ISOPRENE', 'R2O2', 'TERP', 'METHACRO', 'OLE1', 'ISOPROD', 'OLE2', 'MVK', 'CCHO', 'HCHO', 'RNO3', 'O3P', 'RCHO', 'MEK', 'PROD2', 'O3', 'HO2', 'RO2_N', 'MA_RCO3', 'C_O2', 'BZCO_O2', 'RO2_R', 'NO', 'NO2', 'NO3', 'CCO_O2', 'RCO_O2', 'OH']\n"
     ]
    }
   ],
   "source": [
    "from read_results import read_varnames\n",
    "import saprc99_code.kpp4py as kpp\n",
    "\n",
    "nvar = 74\n",
    "varnames = read_varnames(\"saprc99_code/saprc99_Parameters.f90\")[0:nvar]\n",
    "print(varnames)"
   ]
  },
  {
   "cell_type": "code",
   "execution_count": 3,
   "metadata": {},
   "outputs": [
    {
     "data": {
      "text/html": [
       "<div>\n",
       "<style scoped>\n",
       "    .dataframe tbody tr th:only-of-type {\n",
       "        vertical-align: middle;\n",
       "    }\n",
       "\n",
       "    .dataframe tbody tr th {\n",
       "        vertical-align: top;\n",
       "    }\n",
       "\n",
       "    .dataframe thead th {\n",
       "        text-align: right;\n",
       "    }\n",
       "</style>\n",
       "<table border=\"1\" class=\"dataframe\">\n",
       "  <thead>\n",
       "    <tr style=\"text-align: right;\">\n",
       "      <th></th>\n",
       "      <th>min</th>\n",
       "      <th>max</th>\n",
       "      <th>mid</th>\n",
       "      <th>span</th>\n",
       "    </tr>\n",
       "  </thead>\n",
       "  <tbody>\n",
       "    <tr>\n",
       "      <th>C_O2</th>\n",
       "      <td>5.391452e+06</td>\n",
       "      <td>1.419437e+09</td>\n",
       "      <td>7.124145e+08</td>\n",
       "      <td>1.414046e+09</td>\n",
       "    </tr>\n",
       "    <tr>\n",
       "      <th>BZCO_O2</th>\n",
       "      <td>1.000000e-08</td>\n",
       "      <td>3.226580e+06</td>\n",
       "      <td>1.613290e+06</td>\n",
       "      <td>3.226580e+06</td>\n",
       "    </tr>\n",
       "    <tr>\n",
       "      <th>RO2_R</th>\n",
       "      <td>2.006049e+05</td>\n",
       "      <td>1.824368e+09</td>\n",
       "      <td>9.122844e+08</td>\n",
       "      <td>1.824168e+09</td>\n",
       "    </tr>\n",
       "    <tr>\n",
       "      <th>NO</th>\n",
       "      <td>1.006610e+05</td>\n",
       "      <td>9.000156e+11</td>\n",
       "      <td>4.500078e+11</td>\n",
       "      <td>9.000155e+11</td>\n",
       "    </tr>\n",
       "    <tr>\n",
       "      <th>NO2</th>\n",
       "      <td>5.003760e+09</td>\n",
       "      <td>1.461165e+12</td>\n",
       "      <td>7.330842e+11</td>\n",
       "      <td>1.456161e+12</td>\n",
       "    </tr>\n",
       "    <tr>\n",
       "      <th>NO3</th>\n",
       "      <td>1.742790e+06</td>\n",
       "      <td>1.039629e+10</td>\n",
       "      <td>5.199017e+09</td>\n",
       "      <td>1.039455e+10</td>\n",
       "    </tr>\n",
       "    <tr>\n",
       "      <th>CCO_O2</th>\n",
       "      <td>6.779490e+05</td>\n",
       "      <td>5.267318e+08</td>\n",
       "      <td>2.637049e+08</td>\n",
       "      <td>5.260539e+08</td>\n",
       "    </tr>\n",
       "    <tr>\n",
       "      <th>RCO_O2</th>\n",
       "      <td>7.110903e+04</td>\n",
       "      <td>3.979400e+08</td>\n",
       "      <td>1.990056e+08</td>\n",
       "      <td>3.978689e+08</td>\n",
       "    </tr>\n",
       "    <tr>\n",
       "      <th>OH</th>\n",
       "      <td>9.784155e+04</td>\n",
       "      <td>7.272688e+07</td>\n",
       "      <td>3.641236e+07</td>\n",
       "      <td>7.262904e+07</td>\n",
       "    </tr>\n",
       "    <tr>\n",
       "      <th>SUN</th>\n",
       "      <td>0.000000e+00</td>\n",
       "      <td>1.000000e+00</td>\n",
       "      <td>5.000000e-01</td>\n",
       "      <td>1.000000e+00</td>\n",
       "    </tr>\n",
       "  </tbody>\n",
       "</table>\n",
       "</div>"
      ],
      "text/plain": [
       "                  min           max           mid          span\n",
       "C_O2     5.391452e+06  1.419437e+09  7.124145e+08  1.414046e+09\n",
       "BZCO_O2  1.000000e-08  3.226580e+06  1.613290e+06  3.226580e+06\n",
       "RO2_R    2.006049e+05  1.824368e+09  9.122844e+08  1.824168e+09\n",
       "NO       1.006610e+05  9.000156e+11  4.500078e+11  9.000155e+11\n",
       "NO2      5.003760e+09  1.461165e+12  7.330842e+11  1.456161e+12\n",
       "NO3      1.742790e+06  1.039629e+10  5.199017e+09  1.039455e+10\n",
       "CCO_O2   6.779490e+05  5.267318e+08  2.637049e+08  5.260539e+08\n",
       "RCO_O2   7.110903e+04  3.979400e+08  1.990056e+08  3.978689e+08\n",
       "OH       9.784155e+04  7.272688e+07  3.641236e+07  7.262904e+07\n",
       "SUN      0.000000e+00  1.000000e+00  5.000000e-01  1.000000e+00"
      ]
     },
     "execution_count": 3,
     "metadata": {},
     "output_type": "execute_result"
    }
   ],
   "source": [
    "df_range = (\n",
    "    pd.read_csv('saprc99_range.csv', index_col=0)\n",
    "    .append(pd.DataFrame(np.array([[0.0, 1.0]]), \n",
    "                         columns=['min','max'], \n",
    "                         index=['SUN']\n",
    "                        )\n",
    "           )\n",
    ")\n",
    "\n",
    "df_range['mid'] = 0.5*(df_range['min']+df_range['max'])\n",
    "df_range['span'] = df_range['max'] - df_range['min']\n",
    "df_range.tail(10)"
   ]
  },
  {
   "cell_type": "code",
   "execution_count": 4,
   "metadata": {},
   "outputs": [
    {
     "data": {
      "text/html": [
       "<div>\n",
       "<style scoped>\n",
       "    .dataframe tbody tr th:only-of-type {\n",
       "        vertical-align: middle;\n",
       "    }\n",
       "\n",
       "    .dataframe tbody tr th {\n",
       "        vertical-align: top;\n",
       "    }\n",
       "\n",
       "    .dataframe thead th {\n",
       "        text-align: right;\n",
       "    }\n",
       "</style>\n",
       "<table border=\"1\" class=\"dataframe\">\n",
       "  <thead>\n",
       "    <tr style=\"text-align: right;\">\n",
       "      <th></th>\n",
       "      <th>min</th>\n",
       "      <th>max</th>\n",
       "      <th>mid</th>\n",
       "      <th>span</th>\n",
       "    </tr>\n",
       "  </thead>\n",
       "  <tbody>\n",
       "    <tr>\n",
       "      <th>PAN</th>\n",
       "      <td>6.560740e+07</td>\n",
       "      <td>4.865127e+11</td>\n",
       "      <td>2.432891e+11</td>\n",
       "      <td>4.864471e+11</td>\n",
       "    </tr>\n",
       "    <tr>\n",
       "      <th>ARO2</th>\n",
       "      <td>1.000000e-08</td>\n",
       "      <td>1.323908e+11</td>\n",
       "      <td>6.619542e+10</td>\n",
       "      <td>1.323908e+11</td>\n",
       "    </tr>\n",
       "    <tr>\n",
       "      <th>ARO1</th>\n",
       "      <td>1.000000e-08</td>\n",
       "      <td>2.594001e+11</td>\n",
       "      <td>1.297000e+11</td>\n",
       "      <td>2.594001e+11</td>\n",
       "    </tr>\n",
       "    <tr>\n",
       "      <th>HCHO</th>\n",
       "      <td>1.708487e+10</td>\n",
       "      <td>6.853611e+11</td>\n",
       "      <td>3.512230e+11</td>\n",
       "      <td>6.682763e+11</td>\n",
       "    </tr>\n",
       "    <tr>\n",
       "      <th>O3</th>\n",
       "      <td>8.459007e+11</td>\n",
       "      <td>8.609433e+12</td>\n",
       "      <td>4.727667e+12</td>\n",
       "      <td>7.763533e+12</td>\n",
       "    </tr>\n",
       "    <tr>\n",
       "      <th>NO</th>\n",
       "      <td>1.006610e+05</td>\n",
       "      <td>9.000156e+11</td>\n",
       "      <td>4.500078e+11</td>\n",
       "      <td>9.000155e+11</td>\n",
       "    </tr>\n",
       "    <tr>\n",
       "      <th>NO2</th>\n",
       "      <td>5.003760e+09</td>\n",
       "      <td>1.461165e+12</td>\n",
       "      <td>7.330842e+11</td>\n",
       "      <td>1.456161e+12</td>\n",
       "    </tr>\n",
       "    <tr>\n",
       "      <th>SUN</th>\n",
       "      <td>0.000000e+00</td>\n",
       "      <td>1.000000e+00</td>\n",
       "      <td>5.000000e-01</td>\n",
       "      <td>1.000000e+00</td>\n",
       "    </tr>\n",
       "  </tbody>\n",
       "</table>\n",
       "</div>"
      ],
      "text/plain": [
       "               min           max           mid          span\n",
       "PAN   6.560740e+07  4.865127e+11  2.432891e+11  4.864471e+11\n",
       "ARO2  1.000000e-08  1.323908e+11  6.619542e+10  1.323908e+11\n",
       "ARO1  1.000000e-08  2.594001e+11  1.297000e+11  2.594001e+11\n",
       "HCHO  1.708487e+10  6.853611e+11  3.512230e+11  6.682763e+11\n",
       "O3    8.459007e+11  8.609433e+12  4.727667e+12  7.763533e+12\n",
       "NO    1.006610e+05  9.000156e+11  4.500078e+11  9.000155e+11\n",
       "NO2   5.003760e+09  1.461165e+12  7.330842e+11  1.456161e+12\n",
       "SUN   0.000000e+00  1.000000e+00  5.000000e-01  1.000000e+00"
      ]
     },
     "execution_count": 4,
     "metadata": {},
     "output_type": "execute_result"
    }
   ],
   "source": [
    "df_range.loc[['PAN', 'ARO2', 'ARO1', 'HCHO', 'O3', 'NO', 'NO2', 'SUN']]"
   ]
  },
  {
   "cell_type": "markdown",
   "metadata": {},
   "source": [
    "# Make training data"
   ]
  },
  {
   "cell_type": "code",
   "execution_count": 5,
   "metadata": {},
   "outputs": [
    {
     "data": {
      "text/plain": [
       "(5000, 75)"
      ]
     },
     "execution_count": 5,
     "metadata": {},
     "output_type": "execute_result"
    }
   ],
   "source": [
    "shrink = 0.25\n",
    "\n",
    "y0_list =  np.random.uniform(df_range['min'] + shrink*df_range['span'],\n",
    "                             df_range['max'] - shrink*df_range['span'], \n",
    "                             size=(5000, nvar+1))\n",
    "\n",
    "y0_list.shape"
   ]
  },
  {
   "cell_type": "code",
   "execution_count": 6,
   "metadata": {},
   "outputs": [
    {
     "name": "stdout",
     "output_type": "stream",
     "text": [
      "CPU times: user 3.78 s, sys: 41.7 ms, total: 3.82 s\n",
      "Wall time: 3.89 s\n"
     ]
    },
    {
     "data": {
      "text/plain": [
       "(5000, 74)"
      ]
     },
     "execution_count": 6,
     "metadata": {},
     "output_type": "execute_result"
    }
   ],
   "source": [
    "%time y1_list = kpp.onestep(y0_list.T).T\n",
    "y1_list.shape"
   ]
  },
  {
   "cell_type": "markdown",
   "metadata": {},
   "source": [
    "# Normalize data"
   ]
  },
  {
   "cell_type": "code",
   "execution_count": 7,
   "metadata": {
    "scrolled": true
   },
   "outputs": [
    {
     "data": {
      "text/plain": [
       "StandardScaler(copy=True, with_mean=True, with_std=True)"
      ]
     },
     "execution_count": 7,
     "metadata": {},
     "output_type": "execute_result"
    }
   ],
   "source": [
    "normalizer = StandardScaler()\n",
    "normalizer.fit(y0_list[:,0:74])"
   ]
  },
  {
   "cell_type": "code",
   "execution_count": 8,
   "metadata": {},
   "outputs": [
    {
     "data": {
      "text/plain": [
       "(5000, 75)"
      ]
     },
     "execution_count": 8,
     "metadata": {},
     "output_type": "execute_result"
    }
   ],
   "source": [
    "X_train = np.append(normalizer.transform(y0_list[:,0:74]), \n",
    "                    y0_list[:,-1:], \n",
    "                    axis=1)\n",
    "X_train.shape"
   ]
  },
  {
   "cell_type": "code",
   "execution_count": 9,
   "metadata": {},
   "outputs": [
    {
     "data": {
      "text/plain": [
       "array([1.00074385, 1.00231999, 1.00000134, 1.00000092, 0.99993993,\n",
       "       0.99998192, 1.10937947, 1.07906445, 0.98030295, 0.93648243,\n",
       "       0.99456103, 1.07362165, 0.89600183, 0.95459146, 0.98155277,\n",
       "       1.47242328, 0.9518329 , 1.47650601, 0.21689978, 0.97806357,\n",
       "       0.9524404 , 0.9748209 , 0.85381541, 0.68072307, 0.96196441,\n",
       "       0.88858625, 0.88411165, 3.90612559, 0.98064831, 0.91865086,\n",
       "       0.89434343, 0.93615519, 1.17862313, 0.21491132, 0.62708048,\n",
       "       1.22158058, 0.81266483, 0.74688308, 0.34052136, 0.99608866,\n",
       "       0.73363109, 0.99842875, 1.01266256, 0.83036518, 0.74137469,\n",
       "       0.66482045, 0.21035668, 0.61797727, 0.02976803, 0.64657964,\n",
       "       0.54524251, 0.52490272, 0.09808367, 0.79978878, 0.75508586,\n",
       "       0.75779974, 0.93346023, 0.75567049, 0.73070066, 0.97705846,\n",
       "       0.85167464, 0.95980457, 0.8388928 , 0.7041222 , 0.70628369,\n",
       "       0.23791501, 0.2672395 , 0.47330606, 0.13237732, 1.1092472 ,\n",
       "       0.04373905, 0.17563823, 0.1206859 , 0.19032597])"
      ]
     },
     "execution_count": 9,
     "metadata": {},
     "output_type": "execute_result"
    }
   ],
   "source": [
    "Y_train = normalizer.transform(y1_list)\n",
    "Y_train.std(axis=0)"
   ]
  },
  {
   "cell_type": "markdown",
   "metadata": {},
   "source": [
    "# Fit ANN"
   ]
  },
  {
   "cell_type": "code",
   "execution_count": 10,
   "metadata": {
    "collapsed": true
   },
   "outputs": [],
   "source": [
    "x_torch = Variable(torch.from_numpy(X_train))\n",
    "y_torch = Variable(torch.from_numpy(Y_train))"
   ]
  },
  {
   "cell_type": "code",
   "execution_count": 11,
   "metadata": {
    "collapsed": true
   },
   "outputs": [],
   "source": [
    "H1, H2 = 100, 100\n",
    "\n",
    "model = torch.nn.Sequential(\n",
    "    torch.nn.Linear(75, H1),\n",
    "    #torch.nn.ReLU(),\n",
    "    torch.nn.Tanh(),\n",
    "    #torch.nn.BatchNorm1d(H1),\n",
    "    torch.nn.Linear(H1, H2),\n",
    "    #torch.nn.ReLU(),\n",
    "    torch.nn.Tanh(),\n",
    "    #torch.nn.BatchNorm1d(H2),\n",
    "    torch.nn.Linear(H2, 74)\n",
    ").double()"
   ]
  },
  {
   "cell_type": "code",
   "execution_count": 12,
   "metadata": {},
   "outputs": [
    {
     "name": "stdout",
     "output_type": "stream",
     "text": [
      "20 0.003717085581630228\n",
      "40 0.0024070353370176946\n",
      "60 0.0018235006440416946\n",
      "80 0.0015130970041673866\n",
      "100 0.0013254028281078556\n",
      "120 0.001201965241331114\n",
      "140 0.0011217914727796232\n",
      "160 0.0010602353212886115\n",
      "180 0.001012128798340678\n",
      "200 0.0009691388619992808\n"
     ]
    }
   ],
   "source": [
    "loss_fn = torch.nn.MSELoss()\n",
    "\n",
    "optimizer = torch.optim.LBFGS(model.parameters(), lr=1.0)\n",
    "#optimizer = torch.optim.Adam(model.parameters(), lr = 0.01)\n",
    "\n",
    "for t in range(200):\n",
    "    \n",
    "    def closure():\n",
    "        optimizer.zero_grad()\n",
    "        y_pred = model(x_torch)\n",
    "        loss = loss_fn(y_pred, y_torch)\n",
    "        loss.backward()\n",
    "        return loss\n",
    "    optimizer.step(closure)\n",
    "    \n",
    "    if (t+1)%20==0:\n",
    "        y_pred = model(x_torch)\n",
    "        loss = loss_fn(y_pred, y_torch)\n",
    "        print(t+1, loss.data[0])"
   ]
  },
  {
   "cell_type": "code",
   "execution_count": 13,
   "metadata": {},
   "outputs": [
    {
     "name": "stdout",
     "output_type": "stream",
     "text": [
      "CPU times: user 46.8 ms, sys: 5.62 ms, total: 52.4 ms\n",
      "Wall time: 21.7 ms\n"
     ]
    }
   ],
   "source": [
    "%%time \n",
    "y_pred = model(x_torch)\n",
    "y_pred_numpy = y_pred.data.numpy()"
   ]
  },
  {
   "cell_type": "code",
   "execution_count": 14,
   "metadata": {},
   "outputs": [
    {
     "data": {
      "text/plain": [
       "array([0.99977282, 0.99964862, 0.99969656, 0.99976086, 0.99982266,\n",
       "       0.99980415, 0.99960251, 0.99959755, 0.9997844 , 0.99893306,\n",
       "       0.99973532, 0.99859335, 0.99911594, 0.9984754 , 0.99860229,\n",
       "       0.99889249, 0.9996208 , 0.99892407, 0.97538512, 0.99978707,\n",
       "       0.99956024, 0.99794357, 0.99948724, 0.99750629, 0.99716219,\n",
       "       0.99945322, 0.99757301, 0.99960293, 0.99973244, 0.99955773,\n",
       "       0.99954253, 0.99700532, 0.99811088, 0.98407849, 0.9979625 ,\n",
       "       0.9985521 , 0.99933916, 0.99935036, 0.95783619, 0.99979508,\n",
       "       0.99864308, 0.99974519, 0.99968877, 0.99947312, 0.99886666,\n",
       "       0.99495907, 0.95306449, 0.996762  , 0.7608473 , 0.99815645,\n",
       "       0.99784549, 0.99708237, 0.91654458, 0.99789444, 0.99879536,\n",
       "       0.99873279, 0.99944756, 0.99824631, 0.99876903, 0.99971843,\n",
       "       0.99946112, 0.999463  , 0.99846352, 0.99604144, 0.99663946,\n",
       "       0.99069357, 0.97622922, 0.99743524, 0.9906761 , 0.99966519,\n",
       "       0.96428256, 0.98498537, 0.98012998, 0.99586877])"
      ]
     },
     "execution_count": 14,
     "metadata": {},
     "output_type": "execute_result"
    }
   ],
   "source": [
    "r2_score(y_pred_numpy, Y_train, multioutput='raw_values')"
   ]
  },
  {
   "cell_type": "code",
   "execution_count": 15,
   "metadata": {},
   "outputs": [
    {
     "data": {
      "text/plain": [
       "(0.9912976151214773, 0.9989228850479624)"
      ]
     },
     "execution_count": 15,
     "metadata": {},
     "output_type": "execute_result"
    }
   ],
   "source": [
    "r2_score(y_pred_numpy, Y_train), r2_score(y_pred_numpy, Y_train, multioutput='variance_weighted')"
   ]
  },
  {
   "cell_type": "code",
   "execution_count": 16,
   "metadata": {},
   "outputs": [
    {
     "data": {
      "text/plain": [
       "(-10, 10)"
      ]
     },
     "execution_count": 16,
     "metadata": {},
     "output_type": "execute_result"
    },
    {
     "data": {
      "image/png": "[encoded data removed]",
      "text/plain": [
       "<matplotlib.figure.Figure at 0x11cdf10b8>"
      ]
     },
     "metadata": {},
     "output_type": "display_data"
    }
   ],
   "source": [
    "plt.scatter(y_pred_numpy, Y_train, s=0.1)\n",
    "plt.xlim(-10,10)\n",
    "plt.ylim(-10,10)"
   ]
  },
  {
   "cell_type": "markdown",
   "metadata": {},
   "source": [
    "# Test set"
   ]
  },
  {
   "cell_type": "code",
   "execution_count": 17,
   "metadata": {},
   "outputs": [
    {
     "data": {
      "text/plain": [
       "(5000, 75)"
      ]
     },
     "execution_count": 17,
     "metadata": {},
     "output_type": "execute_result"
    }
   ],
   "source": [
    "shrink = 0.25\n",
    "\n",
    "y0_test = np.random.uniform(df_range['min'] + shrink*df_range['span'],\n",
    "                           df_range['max'] - shrink*df_range['span'], \n",
    "                           size=(5000, nvar+1))\n",
    "\n",
    "y0_list.shape"
   ]
  },
  {
   "cell_type": "code",
   "execution_count": 18,
   "metadata": {},
   "outputs": [
    {
     "name": "stdout",
     "output_type": "stream",
     "text": [
      "CPU times: user 3.72 s, sys: 18.4 ms, total: 3.73 s\n",
      "Wall time: 3.73 s\n"
     ]
    }
   ],
   "source": [
    "%time y1_test = kpp.onestep(y0_test.T).T"
   ]
  },
  {
   "cell_type": "code",
   "execution_count": 19,
   "metadata": {
    "collapsed": true
   },
   "outputs": [],
   "source": [
    "X_test = np.append(normalizer.transform(y0_test[:,0:74]), \n",
    "                   y0_test[:,-1:], \n",
    "                   axis=1)\n",
    "Y_test = normalizer.transform(y1_test)"
   ]
  },
  {
   "cell_type": "code",
   "execution_count": 20,
   "metadata": {},
   "outputs": [
    {
     "name": "stdout",
     "output_type": "stream",
     "text": [
      "CPU times: user 37.5 ms, sys: 6.57 ms, total: 44.1 ms\n",
      "Wall time: 26 ms\n"
     ]
    }
   ],
   "source": [
    "%%time\n",
    "X_torch_test = Variable(torch.from_numpy(X_test))\n",
    "y_test_pred = model(X_torch_test).data.numpy()"
   ]
  },
  {
   "cell_type": "code",
   "execution_count": 21,
   "metadata": {},
   "outputs": [
    {
     "data": {
      "text/plain": [
       "(0.9903689419488402, 0.9987739239609157)"
      ]
     },
     "execution_count": 21,
     "metadata": {},
     "output_type": "execute_result"
    }
   ],
   "source": [
    "r2_score(y_test_pred, Y_test), r2_score(y_test_pred, Y_test, multioutput='variance_weighted')"
   ]
  },
  {
   "cell_type": "code",
   "execution_count": 22,
   "metadata": {},
   "outputs": [
    {
     "data": {
      "text/plain": [
       "(0.14658258609550823, 9393.67052924388)"
      ]
     },
     "execution_count": 22,
     "metadata": {},
     "output_type": "execute_result"
    }
   ],
   "source": [
    "relerr = np.abs(y_test_pred/Y_test - 1) # relative error\n",
    "relerr.mean(), relerr.max()"
   ]
  },
  {
   "cell_type": "code",
   "execution_count": 23,
   "metadata": {},
   "outputs": [
    {
     "data": {
      "text/plain": [
       "(0.021734201997679888, 1.6325557468604117)"
      ]
     },
     "execution_count": 23,
     "metadata": {},
     "output_type": "execute_result"
    }
   ],
   "source": [
    "abserr = np.abs(y_test_pred-Y_test) # absolute error\n",
    "abserr.mean(), abserr.max()"
   ]
  },
  {
   "cell_type": "code",
   "execution_count": 24,
   "metadata": {},
   "outputs": [
    {
     "data": {
      "text/plain": [
       "(-10, 10)"
      ]
     },
     "execution_count": 24,
     "metadata": {},
     "output_type": "execute_result"
    },
    {
     "data": {
      "image/png": "[encoded data removed]",
      "text/plain": [
       "<matplotlib.figure.Figure at 0x11cecbb00>"
      ]
     },
     "metadata": {},
     "output_type": "display_data"
    }
   ],
   "source": [
    "plt.scatter(y_test_pred, Y_test, s=0.1)\n",
    "plt.xlim(-10,10)\n",
    "plt.ylim(-10,10)"
   ]
  },
  {
   "cell_type": "code",
   "execution_count": 25,
   "metadata": {},
   "outputs": [],
   "source": [
    "r2_test = r2_score(y_test_pred, Y_test, multioutput='raw_values')\n",
    "r2_test.sort()"
   ]
  },
  {
   "cell_type": "code",
   "execution_count": 26,
   "metadata": {},
   "outputs": [
    {
     "data": {
      "text/plain": [
       "(-1, 1)"
      ]
     },
     "execution_count": 26,
     "metadata": {},
     "output_type": "execute_result"
    },
    {
     "data": {
      "image/png": "[encoded data removed]",
      "text/plain": [
       "<matplotlib.figure.Figure at 0x128f1f940>"
      ]
     },
     "metadata": {},
     "output_type": "display_data"
    }
   ],
   "source": [
    "plt.plot(r2_test)\n",
    "plt.ylim([-1,1])"
   ]
  },
  {
   "cell_type": "code",
   "execution_count": null,
   "metadata": {},
   "outputs": [],
   "source": []
  }
 ],
 "metadata": {
  "kernelspec": {
   "display_name": "Python 3",
   "language": "python",
   "name": "python3"
  },
  "language_info": {
   "codemirror_mode": {
    "name": "ipython",
    "version": 3
   },
   "file_extension": ".py",
   "mimetype": "text/x-python",
   "name": "python",
   "nbconvert_exporter": "python",
   "pygments_lexer": "ipython3",
   "version": "3.6.2"
  },
  "toc": {
   "nav_menu": {},
   "number_sections": true,
   "sideBar": true,
   "skip_h1_title": false,
   "toc_cell": false,
   "toc_position": {},
   "toc_section_display": "block",
   "toc_window_display": false
  }
 },
 "nbformat": 4,
 "nbformat_minor": 2
}
